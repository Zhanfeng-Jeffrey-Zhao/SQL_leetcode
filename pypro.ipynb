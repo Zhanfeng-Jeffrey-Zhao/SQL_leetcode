{
 "cells": [
  {
   "cell_type": "markdown",
   "metadata": {},
   "source": [
    "# Final Project - Analyzing Master's Programs Worldwide"
   ]
  },
  {
   "cell_type": "markdown",
   "metadata": {},
   "source": [
    "## March 12th, 2020"
   ]
  },
  {
   "cell_type": "markdown",
   "metadata": {},
   "source": [
    "### By: Emily Curcio, Koushik Manjunath, Xiumin (Echo) Sun, Zhanfeng (Jeffrey) Zhao"
   ]
  },
  {
   "cell_type": "markdown",
   "metadata": {},
   "source": [
    "# 1.0 Data Description\n",
    "This dataset contains information regarding Master’s degree programs from around the world, including 99 different countries, with about 40% of the programs being in the US.  It started with 23 columns and about 60,000 rows."
   ]
  },
  {
   "cell_type": "markdown",
   "metadata": {},
   "source": [
    "# 2.0 Data Clean-Up/Preparation"
   ]
  },
  {
   "cell_type": "code",
   "execution_count": 1,
   "metadata": {},
   "outputs": [
    {
     "name": "stdout",
     "output_type": "stream",
     "text": [
      "Populating the interactive namespace from numpy and matplotlib\n"
     ]
    }
   ],
   "source": [
    "# Import required packages\n",
    "import pandas as pd\n",
    "import numpy as np\n",
    "import seaborn as sns\n",
    "\n",
    "import sklearn as sk\n",
    "import sklearn.tree as tree\n",
    "from IPython.display import Image  \n",
    "import pydotplus\n",
    "import re\n",
    "\n",
    "import warnings\n",
    "warnings.filterwarnings('ignore')\n",
    "\n",
    "%pylab inline"
   ]
  },
  {
   "cell_type": "code",
   "execution_count": 2,
   "metadata": {},
   "outputs": [],
   "source": [
    "pd.set_option('display.max_columns', 50)\n",
    "pd.set_option('display.max_rows', 100)"
   ]
  },
  {
   "cell_type": "code",
   "execution_count": 3,
   "metadata": {
    "scrolled": true
   },
   "outputs": [
    {
     "data": {
      "text/html": [
       "<div>\n",
       "<style scoped>\n",
       "    .dataframe tbody tr th:only-of-type {\n",
       "        vertical-align: middle;\n",
       "    }\n",
       "\n",
       "    .dataframe tbody tr th {\n",
       "        vertical-align: top;\n",
       "    }\n",
       "\n",
       "    .dataframe thead th {\n",
       "        text-align: right;\n",
       "    }\n",
       "</style>\n",
       "<table border=\"1\" class=\"dataframe\">\n",
       "  <thead>\n",
       "    <tr style=\"text-align: right;\">\n",
       "      <th></th>\n",
       "      <th>country_name</th>\n",
       "      <th>country_code</th>\n",
       "      <th>university_name</th>\n",
       "      <th>university_rank</th>\n",
       "      <th>program_name</th>\n",
       "      <th>program_type</th>\n",
       "      <th>deadline</th>\n",
       "      <th>duration</th>\n",
       "      <th>language</th>\n",
       "      <th>tution_1_currency</th>\n",
       "      <th>tution_1_money</th>\n",
       "      <th>tution_1_type</th>\n",
       "      <th>tution_2_currency</th>\n",
       "      <th>tution_2_money</th>\n",
       "      <th>tution_2_type</th>\n",
       "      <th>tuition_price_specification</th>\n",
       "      <th>start_date</th>\n",
       "      <th>ielts_score</th>\n",
       "      <th>structure</th>\n",
       "      <th>academic_req</th>\n",
       "      <th>facts</th>\n",
       "      <th>city</th>\n",
       "      <th>program_url</th>\n",
       "    </tr>\n",
       "  </thead>\n",
       "  <tbody>\n",
       "    <tr>\n",
       "      <th>0</th>\n",
       "      <td>Armenia</td>\n",
       "      <td>ARM</td>\n",
       "      <td>American University of Armenia</td>\n",
       "      <td>NaN</td>\n",
       "      <td>Economics</td>\n",
       "      <td>MSc</td>\n",
       "      <td>2004-07-18T00:00:00Z</td>\n",
       "      <td>NaN</td>\n",
       "      <td>English</td>\n",
       "      <td>EUR</td>\n",
       "      <td>6442.0</td>\n",
       "      <td>International</td>\n",
       "      <td>EUR</td>\n",
       "      <td>2108.0</td>\n",
       "      <td>EU/EEA</td>\n",
       "      <td>Tuition (Year)</td>\n",
       "      <td>2018-09-01 00:00:00</td>\n",
       "      <td>6.5</td>\n",
       "      <td>['Quantitative Methods for Economists (Mathema...</td>\n",
       "      <td>&lt;section id=\"AcademicRequirements\"&gt; &lt;h2&gt;Academ...</td>\n",
       "      <td>['Starting in   2018-09-01 00:00:00    You can...</td>\n",
       "      <td>['Yerevan']</td>\n",
       "      <td>http://www.mastersportal.eu/studies/71101/econ...</td>\n",
       "    </tr>\n",
       "    <tr>\n",
       "      <th>1</th>\n",
       "      <td>Armenia</td>\n",
       "      <td>ARM</td>\n",
       "      <td>American University of Armenia</td>\n",
       "      <td>NaN</td>\n",
       "      <td>Political Science and International Affairs</td>\n",
       "      <td>Master</td>\n",
       "      <td>2031-07-18T00:00:00Z</td>\n",
       "      <td>24 months</td>\n",
       "      <td>English</td>\n",
       "      <td>EUR</td>\n",
       "      <td>6300.0</td>\n",
       "      <td>International</td>\n",
       "      <td>EUR</td>\n",
       "      <td>2500.0</td>\n",
       "      <td>National</td>\n",
       "      <td>Tuition (Year)</td>\n",
       "      <td>2018-08-22 00:00:00</td>\n",
       "      <td>6.5</td>\n",
       "      <td>NaN</td>\n",
       "      <td>&lt;section id=\"AcademicRequirements\"&gt; &lt;h2&gt;Academ...</td>\n",
       "      <td>['Starting in   2018-08-22 00:00:00    You can...</td>\n",
       "      <td>['Yerevan']</td>\n",
       "      <td>http://www.mastersportal.eu/studies/71085/poli...</td>\n",
       "    </tr>\n",
       "    <tr>\n",
       "      <th>2</th>\n",
       "      <td>Armenia</td>\n",
       "      <td>ARM</td>\n",
       "      <td>American University of Armenia</td>\n",
       "      <td>NaN</td>\n",
       "      <td>Business Administration</td>\n",
       "      <td>MBA</td>\n",
       "      <td>2004-07-18T00:00:00Z</td>\n",
       "      <td>NaN</td>\n",
       "      <td>English</td>\n",
       "      <td>EUR</td>\n",
       "      <td>7497.0</td>\n",
       "      <td>International</td>\n",
       "      <td>EUR</td>\n",
       "      <td>2499.0</td>\n",
       "      <td>EU/EEA</td>\n",
       "      <td>Tuition (Year)</td>\n",
       "      <td>2018-09-01 00:00:00</td>\n",
       "      <td>6.5</td>\n",
       "      <td>['Managers with practical knowledge of account...</td>\n",
       "      <td>&lt;section id=\"AcademicRequirements\"&gt; &lt;h2&gt;Academ...</td>\n",
       "      <td>['Starting in   2018-09-01 00:00:00    You can...</td>\n",
       "      <td>['Yerevan']</td>\n",
       "      <td>http://www.mastersportal.eu/studies/71102/busi...</td>\n",
       "    </tr>\n",
       "    <tr>\n",
       "      <th>3</th>\n",
       "      <td>Armenia</td>\n",
       "      <td>ARM</td>\n",
       "      <td>American University of Armenia</td>\n",
       "      <td>NaN</td>\n",
       "      <td>Computer and Information Science</td>\n",
       "      <td>MSc</td>\n",
       "      <td>NaN</td>\n",
       "      <td>24 months</td>\n",
       "      <td>English</td>\n",
       "      <td>EUR</td>\n",
       "      <td>6300.0</td>\n",
       "      <td>International</td>\n",
       "      <td>EUR</td>\n",
       "      <td>2500.0</td>\n",
       "      <td>National</td>\n",
       "      <td>Tuition (Year)</td>\n",
       "      <td>NaN</td>\n",
       "      <td>6.5</td>\n",
       "      <td>['Introduction to Object-Oriented Programming'...</td>\n",
       "      <td>&lt;section id=\"AcademicRequirements\"&gt; &lt;h2&gt;Academ...</td>\n",
       "      <td>['Deadline and start date Application deadline...</td>\n",
       "      <td>['Yerevan']</td>\n",
       "      <td>http://www.mastersportal.eu/studies/71104/comp...</td>\n",
       "    </tr>\n",
       "    <tr>\n",
       "      <th>4</th>\n",
       "      <td>Armenia</td>\n",
       "      <td>ARM</td>\n",
       "      <td>American University of Armenia</td>\n",
       "      <td>NaN</td>\n",
       "      <td>Industrial Engineering and Systems Management</td>\n",
       "      <td>MEng</td>\n",
       "      <td>2031-07-18T00:00:00Z</td>\n",
       "      <td>24 months</td>\n",
       "      <td>English</td>\n",
       "      <td>EUR</td>\n",
       "      <td>6300.0</td>\n",
       "      <td>International</td>\n",
       "      <td>EUR</td>\n",
       "      <td>2500.0</td>\n",
       "      <td>National</td>\n",
       "      <td>Tuition (Year)</td>\n",
       "      <td>2018-08-22 00:00:00</td>\n",
       "      <td>6.5</td>\n",
       "      <td>['Probability Theory', 'Analysis and Design of...</td>\n",
       "      <td>&lt;section id=\"AcademicRequirements\"&gt; &lt;h2&gt;Academ...</td>\n",
       "      <td>['Starting in   2018-08-22 00:00:00    You can...</td>\n",
       "      <td>['Yerevan']</td>\n",
       "      <td>http://www.mastersportal.eu/studies/71103/indu...</td>\n",
       "    </tr>\n",
       "  </tbody>\n",
       "</table>\n",
       "</div>"
      ],
      "text/plain": [
       "  country_name country_code                 university_name  university_rank  \\\n",
       "0      Armenia          ARM  American University of Armenia              NaN   \n",
       "1      Armenia          ARM  American University of Armenia              NaN   \n",
       "2      Armenia          ARM  American University of Armenia              NaN   \n",
       "3      Armenia          ARM  American University of Armenia              NaN   \n",
       "4      Armenia          ARM  American University of Armenia              NaN   \n",
       "\n",
       "                                    program_name program_type  \\\n",
       "0                                      Economics          MSc   \n",
       "1    Political Science and International Affairs       Master   \n",
       "2                        Business Administration          MBA   \n",
       "3               Computer and Information Science          MSc   \n",
       "4  Industrial Engineering and Systems Management         MEng   \n",
       "\n",
       "               deadline   duration language tution_1_currency  tution_1_money  \\\n",
       "0  2004-07-18T00:00:00Z        NaN  English               EUR          6442.0   \n",
       "1  2031-07-18T00:00:00Z  24 months  English               EUR          6300.0   \n",
       "2  2004-07-18T00:00:00Z        NaN  English               EUR          7497.0   \n",
       "3                   NaN  24 months  English               EUR          6300.0   \n",
       "4  2031-07-18T00:00:00Z  24 months  English               EUR          6300.0   \n",
       "\n",
       "   tution_1_type tution_2_currency  tution_2_money tution_2_type  \\\n",
       "0  International               EUR          2108.0        EU/EEA   \n",
       "1  International               EUR          2500.0      National   \n",
       "2  International               EUR          2499.0        EU/EEA   \n",
       "3  International               EUR          2500.0      National   \n",
       "4  International               EUR          2500.0      National   \n",
       "\n",
       "  tuition_price_specification             start_date  ielts_score  \\\n",
       "0              Tuition (Year)    2018-09-01 00:00:00          6.5   \n",
       "1              Tuition (Year)    2018-08-22 00:00:00          6.5   \n",
       "2              Tuition (Year)    2018-09-01 00:00:00          6.5   \n",
       "3              Tuition (Year)                    NaN          6.5   \n",
       "4              Tuition (Year)    2018-08-22 00:00:00          6.5   \n",
       "\n",
       "                                           structure  \\\n",
       "0  ['Quantitative Methods for Economists (Mathema...   \n",
       "1                                                NaN   \n",
       "2  ['Managers with practical knowledge of account...   \n",
       "3  ['Introduction to Object-Oriented Programming'...   \n",
       "4  ['Probability Theory', 'Analysis and Design of...   \n",
       "\n",
       "                                        academic_req  \\\n",
       "0  <section id=\"AcademicRequirements\"> <h2>Academ...   \n",
       "1  <section id=\"AcademicRequirements\"> <h2>Academ...   \n",
       "2  <section id=\"AcademicRequirements\"> <h2>Academ...   \n",
       "3  <section id=\"AcademicRequirements\"> <h2>Academ...   \n",
       "4  <section id=\"AcademicRequirements\"> <h2>Academ...   \n",
       "\n",
       "                                               facts         city  \\\n",
       "0  ['Starting in   2018-09-01 00:00:00    You can...  ['Yerevan']   \n",
       "1  ['Starting in   2018-08-22 00:00:00    You can...  ['Yerevan']   \n",
       "2  ['Starting in   2018-09-01 00:00:00    You can...  ['Yerevan']   \n",
       "3  ['Deadline and start date Application deadline...  ['Yerevan']   \n",
       "4  ['Starting in   2018-08-22 00:00:00    You can...  ['Yerevan']   \n",
       "\n",
       "                                         program_url  \n",
       "0  http://www.mastersportal.eu/studies/71101/econ...  \n",
       "1  http://www.mastersportal.eu/studies/71085/poli...  \n",
       "2  http://www.mastersportal.eu/studies/71102/busi...  \n",
       "3  http://www.mastersportal.eu/studies/71104/comp...  \n",
       "4  http://www.mastersportal.eu/studies/71103/indu...  "
      ]
     },
     "execution_count": 3,
     "metadata": {},
     "output_type": "execute_result"
    }
   ],
   "source": [
    "# Load data\n",
    "df = pd.read_csv('project.csv')\n",
    "df.head()"
   ]
  },
  {
   "cell_type": "code",
   "execution_count": 4,
   "metadata": {},
   "outputs": [
    {
     "data": {
      "text/plain": [
       "(60425, 23)"
      ]
     },
     "execution_count": 4,
     "metadata": {},
     "output_type": "execute_result"
    }
   ],
   "source": [
    "df.shape"
   ]
  },
  {
   "cell_type": "markdown",
   "metadata": {},
   "source": [
    "## 2.1 Convert Currencies to USD"
   ]
  },
  {
   "cell_type": "markdown",
   "metadata": {},
   "source": [
    "Normalize all of the currency to USD using exchange rates from when the dataset was created in 2018.  Exchange rates taken on Jan 1st, 2018 from https://www.xe.com/currencytables/?from=USD&date=2018-01-01.\n",
    "* 1 EUR = 1.20 USD\n",
    "* 1 AUD = 0.78 USD\n",
    "* 1 GBP = 1.35 USD\n",
    "* 1 CAD = 0.79 USD\n",
    "* nan = nan\n",
    "* Free = 0"
   ]
  },
  {
   "cell_type": "code",
   "execution_count": 5,
   "metadata": {},
   "outputs": [
    {
     "data": {
      "text/plain": [
       "array(['EUR', 'AUD', nan, 'USD', 'GBP', 'Free', 'CAD'], dtype=object)"
      ]
     },
     "execution_count": 5,
     "metadata": {},
     "output_type": "execute_result"
    }
   ],
   "source": [
    "# Current currencies used in dataset\n",
    "df['tution_1_currency'].unique()"
   ]
  },
  {
   "cell_type": "code",
   "execution_count": 6,
   "metadata": {},
   "outputs": [
    {
     "data": {
      "text/plain": [
       "array(['EUR', nan, 'AUD', 'USD', 'GBP', 'Free', 'CAD'], dtype=object)"
      ]
     },
     "execution_count": 6,
     "metadata": {},
     "output_type": "execute_result"
    }
   ],
   "source": [
    "df['tution_2_currency'].unique()"
   ]
  },
  {
   "cell_type": "code",
   "execution_count": 7,
   "metadata": {},
   "outputs": [],
   "source": [
    "# Create column with conversion rates for the tution_1_money column\n",
    "df['conversion1'] = df.tution_1_currency.apply(lambda x: 1.0 if x == 'USD'\\\n",
    "                                               else 1.20 if x == 'EUR' \\\n",
    "                                               else 0.78 if x == 'AUD' \\\n",
    "                                               else 1.35 if x == 'GBP' \\\n",
    "                                               else 0.79 if x == 'CAD' \\\n",
    "                                               else 0 if x == 'Free' \\\n",
    "                                               else np.nan)"
   ]
  },
  {
   "cell_type": "code",
   "execution_count": 8,
   "metadata": {},
   "outputs": [
    {
     "data": {
      "text/html": [
       "<div>\n",
       "<style scoped>\n",
       "    .dataframe tbody tr th:only-of-type {\n",
       "        vertical-align: middle;\n",
       "    }\n",
       "\n",
       "    .dataframe tbody tr th {\n",
       "        vertical-align: top;\n",
       "    }\n",
       "\n",
       "    .dataframe thead th {\n",
       "        text-align: right;\n",
       "    }\n",
       "</style>\n",
       "<table border=\"1\" class=\"dataframe\">\n",
       "  <thead>\n",
       "    <tr style=\"text-align: right;\">\n",
       "      <th></th>\n",
       "      <th>country_name</th>\n",
       "      <th>country_code</th>\n",
       "      <th>university_name</th>\n",
       "      <th>university_rank</th>\n",
       "      <th>program_name</th>\n",
       "      <th>program_type</th>\n",
       "      <th>deadline</th>\n",
       "      <th>duration</th>\n",
       "      <th>language</th>\n",
       "      <th>tution_1_currency</th>\n",
       "      <th>tution_1_money</th>\n",
       "      <th>tution_1_type</th>\n",
       "      <th>tution_2_currency</th>\n",
       "      <th>tution_2_money</th>\n",
       "      <th>tution_2_type</th>\n",
       "      <th>tuition_price_specification</th>\n",
       "      <th>start_date</th>\n",
       "      <th>ielts_score</th>\n",
       "      <th>structure</th>\n",
       "      <th>academic_req</th>\n",
       "      <th>facts</th>\n",
       "      <th>city</th>\n",
       "      <th>program_url</th>\n",
       "      <th>conversion1</th>\n",
       "    </tr>\n",
       "  </thead>\n",
       "  <tbody>\n",
       "    <tr>\n",
       "      <th>0</th>\n",
       "      <td>Armenia</td>\n",
       "      <td>ARM</td>\n",
       "      <td>American University of Armenia</td>\n",
       "      <td>NaN</td>\n",
       "      <td>Economics</td>\n",
       "      <td>MSc</td>\n",
       "      <td>2004-07-18T00:00:00Z</td>\n",
       "      <td>NaN</td>\n",
       "      <td>English</td>\n",
       "      <td>EUR</td>\n",
       "      <td>6442.0</td>\n",
       "      <td>International</td>\n",
       "      <td>EUR</td>\n",
       "      <td>2108.0</td>\n",
       "      <td>EU/EEA</td>\n",
       "      <td>Tuition (Year)</td>\n",
       "      <td>2018-09-01 00:00:00</td>\n",
       "      <td>6.5</td>\n",
       "      <td>['Quantitative Methods for Economists (Mathema...</td>\n",
       "      <td>&lt;section id=\"AcademicRequirements\"&gt; &lt;h2&gt;Academ...</td>\n",
       "      <td>['Starting in   2018-09-01 00:00:00    You can...</td>\n",
       "      <td>['Yerevan']</td>\n",
       "      <td>http://www.mastersportal.eu/studies/71101/econ...</td>\n",
       "      <td>1.2</td>\n",
       "    </tr>\n",
       "  </tbody>\n",
       "</table>\n",
       "</div>"
      ],
      "text/plain": [
       "  country_name country_code                 university_name  university_rank  \\\n",
       "0      Armenia          ARM  American University of Armenia              NaN   \n",
       "\n",
       "  program_name program_type              deadline duration language  \\\n",
       "0    Economics          MSc  2004-07-18T00:00:00Z      NaN  English   \n",
       "\n",
       "  tution_1_currency  tution_1_money  tution_1_type tution_2_currency  \\\n",
       "0               EUR          6442.0  International               EUR   \n",
       "\n",
       "   tution_2_money tution_2_type tuition_price_specification  \\\n",
       "0          2108.0        EU/EEA              Tuition (Year)   \n",
       "\n",
       "              start_date  ielts_score  \\\n",
       "0    2018-09-01 00:00:00          6.5   \n",
       "\n",
       "                                           structure  \\\n",
       "0  ['Quantitative Methods for Economists (Mathema...   \n",
       "\n",
       "                                        academic_req  \\\n",
       "0  <section id=\"AcademicRequirements\"> <h2>Academ...   \n",
       "\n",
       "                                               facts         city  \\\n",
       "0  ['Starting in   2018-09-01 00:00:00    You can...  ['Yerevan']   \n",
       "\n",
       "                                         program_url  conversion1  \n",
       "0  http://www.mastersportal.eu/studies/71101/econ...          1.2  "
      ]
     },
     "execution_count": 8,
     "metadata": {},
     "output_type": "execute_result"
    }
   ],
   "source": [
    "# Check conversion1 column was added\n",
    "df.head(1)"
   ]
  },
  {
   "cell_type": "code",
   "execution_count": 9,
   "metadata": {},
   "outputs": [],
   "source": [
    "# Create new tuition_1_USD column for the tuition_1_money converted to USD\n",
    "df['tuition_1_USD'] = df.tution_1_money * df.conversion1"
   ]
  },
  {
   "cell_type": "code",
   "execution_count": 10,
   "metadata": {},
   "outputs": [
    {
     "data": {
      "text/html": [
       "<div>\n",
       "<style scoped>\n",
       "    .dataframe tbody tr th:only-of-type {\n",
       "        vertical-align: middle;\n",
       "    }\n",
       "\n",
       "    .dataframe tbody tr th {\n",
       "        vertical-align: top;\n",
       "    }\n",
       "\n",
       "    .dataframe thead th {\n",
       "        text-align: right;\n",
       "    }\n",
       "</style>\n",
       "<table border=\"1\" class=\"dataframe\">\n",
       "  <thead>\n",
       "    <tr style=\"text-align: right;\">\n",
       "      <th></th>\n",
       "      <th>country_name</th>\n",
       "      <th>country_code</th>\n",
       "      <th>university_name</th>\n",
       "      <th>university_rank</th>\n",
       "      <th>program_name</th>\n",
       "      <th>program_type</th>\n",
       "      <th>deadline</th>\n",
       "      <th>duration</th>\n",
       "      <th>language</th>\n",
       "      <th>tution_1_currency</th>\n",
       "      <th>tution_1_money</th>\n",
       "      <th>tution_1_type</th>\n",
       "      <th>tution_2_currency</th>\n",
       "      <th>tution_2_money</th>\n",
       "      <th>tution_2_type</th>\n",
       "      <th>tuition_price_specification</th>\n",
       "      <th>start_date</th>\n",
       "      <th>ielts_score</th>\n",
       "      <th>structure</th>\n",
       "      <th>academic_req</th>\n",
       "      <th>facts</th>\n",
       "      <th>city</th>\n",
       "      <th>program_url</th>\n",
       "      <th>conversion1</th>\n",
       "      <th>tuition_1_USD</th>\n",
       "    </tr>\n",
       "  </thead>\n",
       "  <tbody>\n",
       "    <tr>\n",
       "      <th>0</th>\n",
       "      <td>Armenia</td>\n",
       "      <td>ARM</td>\n",
       "      <td>American University of Armenia</td>\n",
       "      <td>NaN</td>\n",
       "      <td>Economics</td>\n",
       "      <td>MSc</td>\n",
       "      <td>2004-07-18T00:00:00Z</td>\n",
       "      <td>NaN</td>\n",
       "      <td>English</td>\n",
       "      <td>EUR</td>\n",
       "      <td>6442.0</td>\n",
       "      <td>International</td>\n",
       "      <td>EUR</td>\n",
       "      <td>2108.0</td>\n",
       "      <td>EU/EEA</td>\n",
       "      <td>Tuition (Year)</td>\n",
       "      <td>2018-09-01 00:00:00</td>\n",
       "      <td>6.5</td>\n",
       "      <td>['Quantitative Methods for Economists (Mathema...</td>\n",
       "      <td>&lt;section id=\"AcademicRequirements\"&gt; &lt;h2&gt;Academ...</td>\n",
       "      <td>['Starting in   2018-09-01 00:00:00    You can...</td>\n",
       "      <td>['Yerevan']</td>\n",
       "      <td>http://www.mastersportal.eu/studies/71101/econ...</td>\n",
       "      <td>1.2</td>\n",
       "      <td>7730.4</td>\n",
       "    </tr>\n",
       "    <tr>\n",
       "      <th>1</th>\n",
       "      <td>Armenia</td>\n",
       "      <td>ARM</td>\n",
       "      <td>American University of Armenia</td>\n",
       "      <td>NaN</td>\n",
       "      <td>Political Science and International Affairs</td>\n",
       "      <td>Master</td>\n",
       "      <td>2031-07-18T00:00:00Z</td>\n",
       "      <td>24 months</td>\n",
       "      <td>English</td>\n",
       "      <td>EUR</td>\n",
       "      <td>6300.0</td>\n",
       "      <td>International</td>\n",
       "      <td>EUR</td>\n",
       "      <td>2500.0</td>\n",
       "      <td>National</td>\n",
       "      <td>Tuition (Year)</td>\n",
       "      <td>2018-08-22 00:00:00</td>\n",
       "      <td>6.5</td>\n",
       "      <td>NaN</td>\n",
       "      <td>&lt;section id=\"AcademicRequirements\"&gt; &lt;h2&gt;Academ...</td>\n",
       "      <td>['Starting in   2018-08-22 00:00:00    You can...</td>\n",
       "      <td>['Yerevan']</td>\n",
       "      <td>http://www.mastersportal.eu/studies/71085/poli...</td>\n",
       "      <td>1.2</td>\n",
       "      <td>7560.0</td>\n",
       "    </tr>\n",
       "    <tr>\n",
       "      <th>2</th>\n",
       "      <td>Armenia</td>\n",
       "      <td>ARM</td>\n",
       "      <td>American University of Armenia</td>\n",
       "      <td>NaN</td>\n",
       "      <td>Business Administration</td>\n",
       "      <td>MBA</td>\n",
       "      <td>2004-07-18T00:00:00Z</td>\n",
       "      <td>NaN</td>\n",
       "      <td>English</td>\n",
       "      <td>EUR</td>\n",
       "      <td>7497.0</td>\n",
       "      <td>International</td>\n",
       "      <td>EUR</td>\n",
       "      <td>2499.0</td>\n",
       "      <td>EU/EEA</td>\n",
       "      <td>Tuition (Year)</td>\n",
       "      <td>2018-09-01 00:00:00</td>\n",
       "      <td>6.5</td>\n",
       "      <td>['Managers with practical knowledge of account...</td>\n",
       "      <td>&lt;section id=\"AcademicRequirements\"&gt; &lt;h2&gt;Academ...</td>\n",
       "      <td>['Starting in   2018-09-01 00:00:00    You can...</td>\n",
       "      <td>['Yerevan']</td>\n",
       "      <td>http://www.mastersportal.eu/studies/71102/busi...</td>\n",
       "      <td>1.2</td>\n",
       "      <td>8996.4</td>\n",
       "    </tr>\n",
       "    <tr>\n",
       "      <th>3</th>\n",
       "      <td>Armenia</td>\n",
       "      <td>ARM</td>\n",
       "      <td>American University of Armenia</td>\n",
       "      <td>NaN</td>\n",
       "      <td>Computer and Information Science</td>\n",
       "      <td>MSc</td>\n",
       "      <td>NaN</td>\n",
       "      <td>24 months</td>\n",
       "      <td>English</td>\n",
       "      <td>EUR</td>\n",
       "      <td>6300.0</td>\n",
       "      <td>International</td>\n",
       "      <td>EUR</td>\n",
       "      <td>2500.0</td>\n",
       "      <td>National</td>\n",
       "      <td>Tuition (Year)</td>\n",
       "      <td>NaN</td>\n",
       "      <td>6.5</td>\n",
       "      <td>['Introduction to Object-Oriented Programming'...</td>\n",
       "      <td>&lt;section id=\"AcademicRequirements\"&gt; &lt;h2&gt;Academ...</td>\n",
       "      <td>['Deadline and start date Application deadline...</td>\n",
       "      <td>['Yerevan']</td>\n",
       "      <td>http://www.mastersportal.eu/studies/71104/comp...</td>\n",
       "      <td>1.2</td>\n",
       "      <td>7560.0</td>\n",
       "    </tr>\n",
       "    <tr>\n",
       "      <th>4</th>\n",
       "      <td>Armenia</td>\n",
       "      <td>ARM</td>\n",
       "      <td>American University of Armenia</td>\n",
       "      <td>NaN</td>\n",
       "      <td>Industrial Engineering and Systems Management</td>\n",
       "      <td>MEng</td>\n",
       "      <td>2031-07-18T00:00:00Z</td>\n",
       "      <td>24 months</td>\n",
       "      <td>English</td>\n",
       "      <td>EUR</td>\n",
       "      <td>6300.0</td>\n",
       "      <td>International</td>\n",
       "      <td>EUR</td>\n",
       "      <td>2500.0</td>\n",
       "      <td>National</td>\n",
       "      <td>Tuition (Year)</td>\n",
       "      <td>2018-08-22 00:00:00</td>\n",
       "      <td>6.5</td>\n",
       "      <td>['Probability Theory', 'Analysis and Design of...</td>\n",
       "      <td>&lt;section id=\"AcademicRequirements\"&gt; &lt;h2&gt;Academ...</td>\n",
       "      <td>['Starting in   2018-08-22 00:00:00    You can...</td>\n",
       "      <td>['Yerevan']</td>\n",
       "      <td>http://www.mastersportal.eu/studies/71103/indu...</td>\n",
       "      <td>1.2</td>\n",
       "      <td>7560.0</td>\n",
       "    </tr>\n",
       "  </tbody>\n",
       "</table>\n",
       "</div>"
      ],
      "text/plain": [
       "  country_name country_code                 university_name  university_rank  \\\n",
       "0      Armenia          ARM  American University of Armenia              NaN   \n",
       "1      Armenia          ARM  American University of Armenia              NaN   \n",
       "2      Armenia          ARM  American University of Armenia              NaN   \n",
       "3      Armenia          ARM  American University of Armenia              NaN   \n",
       "4      Armenia          ARM  American University of Armenia              NaN   \n",
       "\n",
       "                                    program_name program_type  \\\n",
       "0                                      Economics          MSc   \n",
       "1    Political Science and International Affairs       Master   \n",
       "2                        Business Administration          MBA   \n",
       "3               Computer and Information Science          MSc   \n",
       "4  Industrial Engineering and Systems Management         MEng   \n",
       "\n",
       "               deadline   duration language tution_1_currency  tution_1_money  \\\n",
       "0  2004-07-18T00:00:00Z        NaN  English               EUR          6442.0   \n",
       "1  2031-07-18T00:00:00Z  24 months  English               EUR          6300.0   \n",
       "2  2004-07-18T00:00:00Z        NaN  English               EUR          7497.0   \n",
       "3                   NaN  24 months  English               EUR          6300.0   \n",
       "4  2031-07-18T00:00:00Z  24 months  English               EUR          6300.0   \n",
       "\n",
       "   tution_1_type tution_2_currency  tution_2_money tution_2_type  \\\n",
       "0  International               EUR          2108.0        EU/EEA   \n",
       "1  International               EUR          2500.0      National   \n",
       "2  International               EUR          2499.0        EU/EEA   \n",
       "3  International               EUR          2500.0      National   \n",
       "4  International               EUR          2500.0      National   \n",
       "\n",
       "  tuition_price_specification             start_date  ielts_score  \\\n",
       "0              Tuition (Year)    2018-09-01 00:00:00          6.5   \n",
       "1              Tuition (Year)    2018-08-22 00:00:00          6.5   \n",
       "2              Tuition (Year)    2018-09-01 00:00:00          6.5   \n",
       "3              Tuition (Year)                    NaN          6.5   \n",
       "4              Tuition (Year)    2018-08-22 00:00:00          6.5   \n",
       "\n",
       "                                           structure  \\\n",
       "0  ['Quantitative Methods for Economists (Mathema...   \n",
       "1                                                NaN   \n",
       "2  ['Managers with practical knowledge of account...   \n",
       "3  ['Introduction to Object-Oriented Programming'...   \n",
       "4  ['Probability Theory', 'Analysis and Design of...   \n",
       "\n",
       "                                        academic_req  \\\n",
       "0  <section id=\"AcademicRequirements\"> <h2>Academ...   \n",
       "1  <section id=\"AcademicRequirements\"> <h2>Academ...   \n",
       "2  <section id=\"AcademicRequirements\"> <h2>Academ...   \n",
       "3  <section id=\"AcademicRequirements\"> <h2>Academ...   \n",
       "4  <section id=\"AcademicRequirements\"> <h2>Academ...   \n",
       "\n",
       "                                               facts         city  \\\n",
       "0  ['Starting in   2018-09-01 00:00:00    You can...  ['Yerevan']   \n",
       "1  ['Starting in   2018-08-22 00:00:00    You can...  ['Yerevan']   \n",
       "2  ['Starting in   2018-09-01 00:00:00    You can...  ['Yerevan']   \n",
       "3  ['Deadline and start date Application deadline...  ['Yerevan']   \n",
       "4  ['Starting in   2018-08-22 00:00:00    You can...  ['Yerevan']   \n",
       "\n",
       "                                         program_url  conversion1  \\\n",
       "0  http://www.mastersportal.eu/studies/71101/econ...          1.2   \n",
       "1  http://www.mastersportal.eu/studies/71085/poli...          1.2   \n",
       "2  http://www.mastersportal.eu/studies/71102/busi...          1.2   \n",
       "3  http://www.mastersportal.eu/studies/71104/comp...          1.2   \n",
       "4  http://www.mastersportal.eu/studies/71103/indu...          1.2   \n",
       "\n",
       "   tuition_1_USD  \n",
       "0         7730.4  \n",
       "1         7560.0  \n",
       "2         8996.4  \n",
       "3         7560.0  \n",
       "4         7560.0  "
      ]
     },
     "execution_count": 10,
     "metadata": {},
     "output_type": "execute_result"
    }
   ],
   "source": [
    "# Check that it worked\n",
    "df.head()"
   ]
  },
  {
   "cell_type": "code",
   "execution_count": 11,
   "metadata": {},
   "outputs": [],
   "source": [
    "# Move tution_1_type column to end of dataframe so that it is next to the new tuition_1_USD column\n",
    "df['tuition_1_type'] = df.tution_1_type"
   ]
  },
  {
   "cell_type": "code",
   "execution_count": 12,
   "metadata": {},
   "outputs": [
    {
     "data": {
      "text/html": [
       "<div>\n",
       "<style scoped>\n",
       "    .dataframe tbody tr th:only-of-type {\n",
       "        vertical-align: middle;\n",
       "    }\n",
       "\n",
       "    .dataframe tbody tr th {\n",
       "        vertical-align: top;\n",
       "    }\n",
       "\n",
       "    .dataframe thead th {\n",
       "        text-align: right;\n",
       "    }\n",
       "</style>\n",
       "<table border=\"1\" class=\"dataframe\">\n",
       "  <thead>\n",
       "    <tr style=\"text-align: right;\">\n",
       "      <th></th>\n",
       "      <th>country_name</th>\n",
       "      <th>country_code</th>\n",
       "      <th>university_name</th>\n",
       "      <th>university_rank</th>\n",
       "      <th>program_name</th>\n",
       "      <th>program_type</th>\n",
       "      <th>deadline</th>\n",
       "      <th>duration</th>\n",
       "      <th>language</th>\n",
       "      <th>tution_1_currency</th>\n",
       "      <th>tution_1_money</th>\n",
       "      <th>tution_1_type</th>\n",
       "      <th>tution_2_currency</th>\n",
       "      <th>tution_2_money</th>\n",
       "      <th>tution_2_type</th>\n",
       "      <th>tuition_price_specification</th>\n",
       "      <th>start_date</th>\n",
       "      <th>ielts_score</th>\n",
       "      <th>structure</th>\n",
       "      <th>academic_req</th>\n",
       "      <th>facts</th>\n",
       "      <th>city</th>\n",
       "      <th>program_url</th>\n",
       "      <th>conversion1</th>\n",
       "      <th>tuition_1_USD</th>\n",
       "      <th>tuition_1_type</th>\n",
       "    </tr>\n",
       "  </thead>\n",
       "  <tbody>\n",
       "    <tr>\n",
       "      <th>0</th>\n",
       "      <td>Armenia</td>\n",
       "      <td>ARM</td>\n",
       "      <td>American University of Armenia</td>\n",
       "      <td>NaN</td>\n",
       "      <td>Economics</td>\n",
       "      <td>MSc</td>\n",
       "      <td>2004-07-18T00:00:00Z</td>\n",
       "      <td>NaN</td>\n",
       "      <td>English</td>\n",
       "      <td>EUR</td>\n",
       "      <td>6442.0</td>\n",
       "      <td>International</td>\n",
       "      <td>EUR</td>\n",
       "      <td>2108.0</td>\n",
       "      <td>EU/EEA</td>\n",
       "      <td>Tuition (Year)</td>\n",
       "      <td>2018-09-01 00:00:00</td>\n",
       "      <td>6.5</td>\n",
       "      <td>['Quantitative Methods for Economists (Mathema...</td>\n",
       "      <td>&lt;section id=\"AcademicRequirements\"&gt; &lt;h2&gt;Academ...</td>\n",
       "      <td>['Starting in   2018-09-01 00:00:00    You can...</td>\n",
       "      <td>['Yerevan']</td>\n",
       "      <td>http://www.mastersportal.eu/studies/71101/econ...</td>\n",
       "      <td>1.2</td>\n",
       "      <td>7730.4</td>\n",
       "      <td>International</td>\n",
       "    </tr>\n",
       "  </tbody>\n",
       "</table>\n",
       "</div>"
      ],
      "text/plain": [
       "  country_name country_code                 university_name  university_rank  \\\n",
       "0      Armenia          ARM  American University of Armenia              NaN   \n",
       "\n",
       "  program_name program_type              deadline duration language  \\\n",
       "0    Economics          MSc  2004-07-18T00:00:00Z      NaN  English   \n",
       "\n",
       "  tution_1_currency  tution_1_money  tution_1_type tution_2_currency  \\\n",
       "0               EUR          6442.0  International               EUR   \n",
       "\n",
       "   tution_2_money tution_2_type tuition_price_specification  \\\n",
       "0          2108.0        EU/EEA              Tuition (Year)   \n",
       "\n",
       "              start_date  ielts_score  \\\n",
       "0    2018-09-01 00:00:00          6.5   \n",
       "\n",
       "                                           structure  \\\n",
       "0  ['Quantitative Methods for Economists (Mathema...   \n",
       "\n",
       "                                        academic_req  \\\n",
       "0  <section id=\"AcademicRequirements\"> <h2>Academ...   \n",
       "\n",
       "                                               facts         city  \\\n",
       "0  ['Starting in   2018-09-01 00:00:00    You can...  ['Yerevan']   \n",
       "\n",
       "                                         program_url  conversion1  \\\n",
       "0  http://www.mastersportal.eu/studies/71101/econ...          1.2   \n",
       "\n",
       "   tuition_1_USD tuition_1_type  \n",
       "0         7730.4  International  "
      ]
     },
     "execution_count": 12,
     "metadata": {},
     "output_type": "execute_result"
    }
   ],
   "source": [
    "# Check that it was moved\n",
    "df.head(1)"
   ]
  },
  {
   "cell_type": "code",
   "execution_count": 13,
   "metadata": {},
   "outputs": [],
   "source": [
    "# Create column with conversion rates for the tution_2_money column\n",
    "df['conversion2'] = df.tution_2_currency.apply(lambda x: 1.0 if x == 'USD'\\\n",
    "                                               else 1.20 if x == 'EUR' \\\n",
    "                                               else 0.78 if x == 'AUD' \\\n",
    "                                               else 1.35 if x == 'GBP' \\\n",
    "                                               else 0.79 if x == 'CAD' \\\n",
    "                                               else 0 if x == 'Free' \\\n",
    "                                               else np.nan)"
   ]
  },
  {
   "cell_type": "code",
   "execution_count": 14,
   "metadata": {},
   "outputs": [
    {
     "data": {
      "text/html": [
       "<div>\n",
       "<style scoped>\n",
       "    .dataframe tbody tr th:only-of-type {\n",
       "        vertical-align: middle;\n",
       "    }\n",
       "\n",
       "    .dataframe tbody tr th {\n",
       "        vertical-align: top;\n",
       "    }\n",
       "\n",
       "    .dataframe thead th {\n",
       "        text-align: right;\n",
       "    }\n",
       "</style>\n",
       "<table border=\"1\" class=\"dataframe\">\n",
       "  <thead>\n",
       "    <tr style=\"text-align: right;\">\n",
       "      <th></th>\n",
       "      <th>country_name</th>\n",
       "      <th>country_code</th>\n",
       "      <th>university_name</th>\n",
       "      <th>university_rank</th>\n",
       "      <th>program_name</th>\n",
       "      <th>program_type</th>\n",
       "      <th>deadline</th>\n",
       "      <th>duration</th>\n",
       "      <th>language</th>\n",
       "      <th>tution_1_currency</th>\n",
       "      <th>tution_1_money</th>\n",
       "      <th>tution_1_type</th>\n",
       "      <th>tution_2_currency</th>\n",
       "      <th>tution_2_money</th>\n",
       "      <th>tution_2_type</th>\n",
       "      <th>tuition_price_specification</th>\n",
       "      <th>start_date</th>\n",
       "      <th>ielts_score</th>\n",
       "      <th>structure</th>\n",
       "      <th>academic_req</th>\n",
       "      <th>facts</th>\n",
       "      <th>city</th>\n",
       "      <th>program_url</th>\n",
       "      <th>conversion1</th>\n",
       "      <th>tuition_1_USD</th>\n",
       "      <th>tuition_1_type</th>\n",
       "      <th>conversion2</th>\n",
       "    </tr>\n",
       "  </thead>\n",
       "  <tbody>\n",
       "    <tr>\n",
       "      <th>0</th>\n",
       "      <td>Armenia</td>\n",
       "      <td>ARM</td>\n",
       "      <td>American University of Armenia</td>\n",
       "      <td>NaN</td>\n",
       "      <td>Economics</td>\n",
       "      <td>MSc</td>\n",
       "      <td>2004-07-18T00:00:00Z</td>\n",
       "      <td>NaN</td>\n",
       "      <td>English</td>\n",
       "      <td>EUR</td>\n",
       "      <td>6442.0</td>\n",
       "      <td>International</td>\n",
       "      <td>EUR</td>\n",
       "      <td>2108.0</td>\n",
       "      <td>EU/EEA</td>\n",
       "      <td>Tuition (Year)</td>\n",
       "      <td>2018-09-01 00:00:00</td>\n",
       "      <td>6.5</td>\n",
       "      <td>['Quantitative Methods for Economists (Mathema...</td>\n",
       "      <td>&lt;section id=\"AcademicRequirements\"&gt; &lt;h2&gt;Academ...</td>\n",
       "      <td>['Starting in   2018-09-01 00:00:00    You can...</td>\n",
       "      <td>['Yerevan']</td>\n",
       "      <td>http://www.mastersportal.eu/studies/71101/econ...</td>\n",
       "      <td>1.2</td>\n",
       "      <td>7730.4</td>\n",
       "      <td>International</td>\n",
       "      <td>1.2</td>\n",
       "    </tr>\n",
       "  </tbody>\n",
       "</table>\n",
       "</div>"
      ],
      "text/plain": [
       "  country_name country_code                 university_name  university_rank  \\\n",
       "0      Armenia          ARM  American University of Armenia              NaN   \n",
       "\n",
       "  program_name program_type              deadline duration language  \\\n",
       "0    Economics          MSc  2004-07-18T00:00:00Z      NaN  English   \n",
       "\n",
       "  tution_1_currency  tution_1_money  tution_1_type tution_2_currency  \\\n",
       "0               EUR          6442.0  International               EUR   \n",
       "\n",
       "   tution_2_money tution_2_type tuition_price_specification  \\\n",
       "0          2108.0        EU/EEA              Tuition (Year)   \n",
       "\n",
       "              start_date  ielts_score  \\\n",
       "0    2018-09-01 00:00:00          6.5   \n",
       "\n",
       "                                           structure  \\\n",
       "0  ['Quantitative Methods for Economists (Mathema...   \n",
       "\n",
       "                                        academic_req  \\\n",
       "0  <section id=\"AcademicRequirements\"> <h2>Academ...   \n",
       "\n",
       "                                               facts         city  \\\n",
       "0  ['Starting in   2018-09-01 00:00:00    You can...  ['Yerevan']   \n",
       "\n",
       "                                         program_url  conversion1  \\\n",
       "0  http://www.mastersportal.eu/studies/71101/econ...          1.2   \n",
       "\n",
       "   tuition_1_USD tuition_1_type  conversion2  \n",
       "0         7730.4  International          1.2  "
      ]
     },
     "execution_count": 14,
     "metadata": {},
     "output_type": "execute_result"
    }
   ],
   "source": [
    "# Check that conversion2 column was added\n",
    "df.head(1)"
   ]
  },
  {
   "cell_type": "code",
   "execution_count": 15,
   "metadata": {},
   "outputs": [],
   "source": [
    "# Create new tuition_2_USD column for the tuition_2_money converted to USD\n",
    "df['tuition_2_USD'] = df.tution_2_money * df.conversion2"
   ]
  },
  {
   "cell_type": "code",
   "execution_count": 16,
   "metadata": {},
   "outputs": [
    {
     "data": {
      "text/html": [
       "<div>\n",
       "<style scoped>\n",
       "    .dataframe tbody tr th:only-of-type {\n",
       "        vertical-align: middle;\n",
       "    }\n",
       "\n",
       "    .dataframe tbody tr th {\n",
       "        vertical-align: top;\n",
       "    }\n",
       "\n",
       "    .dataframe thead th {\n",
       "        text-align: right;\n",
       "    }\n",
       "</style>\n",
       "<table border=\"1\" class=\"dataframe\">\n",
       "  <thead>\n",
       "    <tr style=\"text-align: right;\">\n",
       "      <th></th>\n",
       "      <th>country_name</th>\n",
       "      <th>country_code</th>\n",
       "      <th>university_name</th>\n",
       "      <th>university_rank</th>\n",
       "      <th>program_name</th>\n",
       "      <th>program_type</th>\n",
       "      <th>deadline</th>\n",
       "      <th>duration</th>\n",
       "      <th>language</th>\n",
       "      <th>tution_1_currency</th>\n",
       "      <th>tution_1_money</th>\n",
       "      <th>tution_1_type</th>\n",
       "      <th>tution_2_currency</th>\n",
       "      <th>tution_2_money</th>\n",
       "      <th>tution_2_type</th>\n",
       "      <th>tuition_price_specification</th>\n",
       "      <th>start_date</th>\n",
       "      <th>ielts_score</th>\n",
       "      <th>structure</th>\n",
       "      <th>academic_req</th>\n",
       "      <th>facts</th>\n",
       "      <th>city</th>\n",
       "      <th>program_url</th>\n",
       "      <th>conversion1</th>\n",
       "      <th>tuition_1_USD</th>\n",
       "      <th>tuition_1_type</th>\n",
       "      <th>conversion2</th>\n",
       "      <th>tuition_2_USD</th>\n",
       "    </tr>\n",
       "  </thead>\n",
       "  <tbody>\n",
       "    <tr>\n",
       "      <th>0</th>\n",
       "      <td>Armenia</td>\n",
       "      <td>ARM</td>\n",
       "      <td>American University of Armenia</td>\n",
       "      <td>NaN</td>\n",
       "      <td>Economics</td>\n",
       "      <td>MSc</td>\n",
       "      <td>2004-07-18T00:00:00Z</td>\n",
       "      <td>NaN</td>\n",
       "      <td>English</td>\n",
       "      <td>EUR</td>\n",
       "      <td>6442.0</td>\n",
       "      <td>International</td>\n",
       "      <td>EUR</td>\n",
       "      <td>2108.0</td>\n",
       "      <td>EU/EEA</td>\n",
       "      <td>Tuition (Year)</td>\n",
       "      <td>2018-09-01 00:00:00</td>\n",
       "      <td>6.5</td>\n",
       "      <td>['Quantitative Methods for Economists (Mathema...</td>\n",
       "      <td>&lt;section id=\"AcademicRequirements\"&gt; &lt;h2&gt;Academ...</td>\n",
       "      <td>['Starting in   2018-09-01 00:00:00    You can...</td>\n",
       "      <td>['Yerevan']</td>\n",
       "      <td>http://www.mastersportal.eu/studies/71101/econ...</td>\n",
       "      <td>1.2</td>\n",
       "      <td>7730.4</td>\n",
       "      <td>International</td>\n",
       "      <td>1.2</td>\n",
       "      <td>2529.6</td>\n",
       "    </tr>\n",
       "    <tr>\n",
       "      <th>1</th>\n",
       "      <td>Armenia</td>\n",
       "      <td>ARM</td>\n",
       "      <td>American University of Armenia</td>\n",
       "      <td>NaN</td>\n",
       "      <td>Political Science and International Affairs</td>\n",
       "      <td>Master</td>\n",
       "      <td>2031-07-18T00:00:00Z</td>\n",
       "      <td>24 months</td>\n",
       "      <td>English</td>\n",
       "      <td>EUR</td>\n",
       "      <td>6300.0</td>\n",
       "      <td>International</td>\n",
       "      <td>EUR</td>\n",
       "      <td>2500.0</td>\n",
       "      <td>National</td>\n",
       "      <td>Tuition (Year)</td>\n",
       "      <td>2018-08-22 00:00:00</td>\n",
       "      <td>6.5</td>\n",
       "      <td>NaN</td>\n",
       "      <td>&lt;section id=\"AcademicRequirements\"&gt; &lt;h2&gt;Academ...</td>\n",
       "      <td>['Starting in   2018-08-22 00:00:00    You can...</td>\n",
       "      <td>['Yerevan']</td>\n",
       "      <td>http://www.mastersportal.eu/studies/71085/poli...</td>\n",
       "      <td>1.2</td>\n",
       "      <td>7560.0</td>\n",
       "      <td>International</td>\n",
       "      <td>1.2</td>\n",
       "      <td>3000.0</td>\n",
       "    </tr>\n",
       "    <tr>\n",
       "      <th>2</th>\n",
       "      <td>Armenia</td>\n",
       "      <td>ARM</td>\n",
       "      <td>American University of Armenia</td>\n",
       "      <td>NaN</td>\n",
       "      <td>Business Administration</td>\n",
       "      <td>MBA</td>\n",
       "      <td>2004-07-18T00:00:00Z</td>\n",
       "      <td>NaN</td>\n",
       "      <td>English</td>\n",
       "      <td>EUR</td>\n",
       "      <td>7497.0</td>\n",
       "      <td>International</td>\n",
       "      <td>EUR</td>\n",
       "      <td>2499.0</td>\n",
       "      <td>EU/EEA</td>\n",
       "      <td>Tuition (Year)</td>\n",
       "      <td>2018-09-01 00:00:00</td>\n",
       "      <td>6.5</td>\n",
       "      <td>['Managers with practical knowledge of account...</td>\n",
       "      <td>&lt;section id=\"AcademicRequirements\"&gt; &lt;h2&gt;Academ...</td>\n",
       "      <td>['Starting in   2018-09-01 00:00:00    You can...</td>\n",
       "      <td>['Yerevan']</td>\n",
       "      <td>http://www.mastersportal.eu/studies/71102/busi...</td>\n",
       "      <td>1.2</td>\n",
       "      <td>8996.4</td>\n",
       "      <td>International</td>\n",
       "      <td>1.2</td>\n",
       "      <td>2998.8</td>\n",
       "    </tr>\n",
       "    <tr>\n",
       "      <th>3</th>\n",
       "      <td>Armenia</td>\n",
       "      <td>ARM</td>\n",
       "      <td>American University of Armenia</td>\n",
       "      <td>NaN</td>\n",
       "      <td>Computer and Information Science</td>\n",
       "      <td>MSc</td>\n",
       "      <td>NaN</td>\n",
       "      <td>24 months</td>\n",
       "      <td>English</td>\n",
       "      <td>EUR</td>\n",
       "      <td>6300.0</td>\n",
       "      <td>International</td>\n",
       "      <td>EUR</td>\n",
       "      <td>2500.0</td>\n",
       "      <td>National</td>\n",
       "      <td>Tuition (Year)</td>\n",
       "      <td>NaN</td>\n",
       "      <td>6.5</td>\n",
       "      <td>['Introduction to Object-Oriented Programming'...</td>\n",
       "      <td>&lt;section id=\"AcademicRequirements\"&gt; &lt;h2&gt;Academ...</td>\n",
       "      <td>['Deadline and start date Application deadline...</td>\n",
       "      <td>['Yerevan']</td>\n",
       "      <td>http://www.mastersportal.eu/studies/71104/comp...</td>\n",
       "      <td>1.2</td>\n",
       "      <td>7560.0</td>\n",
       "      <td>International</td>\n",
       "      <td>1.2</td>\n",
       "      <td>3000.0</td>\n",
       "    </tr>\n",
       "    <tr>\n",
       "      <th>4</th>\n",
       "      <td>Armenia</td>\n",
       "      <td>ARM</td>\n",
       "      <td>American University of Armenia</td>\n",
       "      <td>NaN</td>\n",
       "      <td>Industrial Engineering and Systems Management</td>\n",
       "      <td>MEng</td>\n",
       "      <td>2031-07-18T00:00:00Z</td>\n",
       "      <td>24 months</td>\n",
       "      <td>English</td>\n",
       "      <td>EUR</td>\n",
       "      <td>6300.0</td>\n",
       "      <td>International</td>\n",
       "      <td>EUR</td>\n",
       "      <td>2500.0</td>\n",
       "      <td>National</td>\n",
       "      <td>Tuition (Year)</td>\n",
       "      <td>2018-08-22 00:00:00</td>\n",
       "      <td>6.5</td>\n",
       "      <td>['Probability Theory', 'Analysis and Design of...</td>\n",
       "      <td>&lt;section id=\"AcademicRequirements\"&gt; &lt;h2&gt;Academ...</td>\n",
       "      <td>['Starting in   2018-08-22 00:00:00    You can...</td>\n",
       "      <td>['Yerevan']</td>\n",
       "      <td>http://www.mastersportal.eu/studies/71103/indu...</td>\n",
       "      <td>1.2</td>\n",
       "      <td>7560.0</td>\n",
       "      <td>International</td>\n",
       "      <td>1.2</td>\n",
       "      <td>3000.0</td>\n",
       "    </tr>\n",
       "  </tbody>\n",
       "</table>\n",
       "</div>"
      ],
      "text/plain": [
       "  country_name country_code                 university_name  university_rank  \\\n",
       "0      Armenia          ARM  American University of Armenia              NaN   \n",
       "1      Armenia          ARM  American University of Armenia              NaN   \n",
       "2      Armenia          ARM  American University of Armenia              NaN   \n",
       "3      Armenia          ARM  American University of Armenia              NaN   \n",
       "4      Armenia          ARM  American University of Armenia              NaN   \n",
       "\n",
       "                                    program_name program_type  \\\n",
       "0                                      Economics          MSc   \n",
       "1    Political Science and International Affairs       Master   \n",
       "2                        Business Administration          MBA   \n",
       "3               Computer and Information Science          MSc   \n",
       "4  Industrial Engineering and Systems Management         MEng   \n",
       "\n",
       "               deadline   duration language tution_1_currency  tution_1_money  \\\n",
       "0  2004-07-18T00:00:00Z        NaN  English               EUR          6442.0   \n",
       "1  2031-07-18T00:00:00Z  24 months  English               EUR          6300.0   \n",
       "2  2004-07-18T00:00:00Z        NaN  English               EUR          7497.0   \n",
       "3                   NaN  24 months  English               EUR          6300.0   \n",
       "4  2031-07-18T00:00:00Z  24 months  English               EUR          6300.0   \n",
       "\n",
       "   tution_1_type tution_2_currency  tution_2_money tution_2_type  \\\n",
       "0  International               EUR          2108.0        EU/EEA   \n",
       "1  International               EUR          2500.0      National   \n",
       "2  International               EUR          2499.0        EU/EEA   \n",
       "3  International               EUR          2500.0      National   \n",
       "4  International               EUR          2500.0      National   \n",
       "\n",
       "  tuition_price_specification             start_date  ielts_score  \\\n",
       "0              Tuition (Year)    2018-09-01 00:00:00          6.5   \n",
       "1              Tuition (Year)    2018-08-22 00:00:00          6.5   \n",
       "2              Tuition (Year)    2018-09-01 00:00:00          6.5   \n",
       "3              Tuition (Year)                    NaN          6.5   \n",
       "4              Tuition (Year)    2018-08-22 00:00:00          6.5   \n",
       "\n",
       "                                           structure  \\\n",
       "0  ['Quantitative Methods for Economists (Mathema...   \n",
       "1                                                NaN   \n",
       "2  ['Managers with practical knowledge of account...   \n",
       "3  ['Introduction to Object-Oriented Programming'...   \n",
       "4  ['Probability Theory', 'Analysis and Design of...   \n",
       "\n",
       "                                        academic_req  \\\n",
       "0  <section id=\"AcademicRequirements\"> <h2>Academ...   \n",
       "1  <section id=\"AcademicRequirements\"> <h2>Academ...   \n",
       "2  <section id=\"AcademicRequirements\"> <h2>Academ...   \n",
       "3  <section id=\"AcademicRequirements\"> <h2>Academ...   \n",
       "4  <section id=\"AcademicRequirements\"> <h2>Academ...   \n",
       "\n",
       "                                               facts         city  \\\n",
       "0  ['Starting in   2018-09-01 00:00:00    You can...  ['Yerevan']   \n",
       "1  ['Starting in   2018-08-22 00:00:00    You can...  ['Yerevan']   \n",
       "2  ['Starting in   2018-09-01 00:00:00    You can...  ['Yerevan']   \n",
       "3  ['Deadline and start date Application deadline...  ['Yerevan']   \n",
       "4  ['Starting in   2018-08-22 00:00:00    You can...  ['Yerevan']   \n",
       "\n",
       "                                         program_url  conversion1  \\\n",
       "0  http://www.mastersportal.eu/studies/71101/econ...          1.2   \n",
       "1  http://www.mastersportal.eu/studies/71085/poli...          1.2   \n",
       "2  http://www.mastersportal.eu/studies/71102/busi...          1.2   \n",
       "3  http://www.mastersportal.eu/studies/71104/comp...          1.2   \n",
       "4  http://www.mastersportal.eu/studies/71103/indu...          1.2   \n",
       "\n",
       "   tuition_1_USD tuition_1_type  conversion2  tuition_2_USD  \n",
       "0         7730.4  International          1.2         2529.6  \n",
       "1         7560.0  International          1.2         3000.0  \n",
       "2         8996.4  International          1.2         2998.8  \n",
       "3         7560.0  International          1.2         3000.0  \n",
       "4         7560.0  International          1.2         3000.0  "
      ]
     },
     "execution_count": 16,
     "metadata": {},
     "output_type": "execute_result"
    }
   ],
   "source": [
    "# Check that it worked\n",
    "df.head()"
   ]
  },
  {
   "cell_type": "code",
   "execution_count": 17,
   "metadata": {},
   "outputs": [],
   "source": [
    "# Move tution_2_type column to end of dataframe so that it is next to the new tuition_2_USD column\n",
    "df['tuition_2_type'] = df.tution_2_type"
   ]
  },
  {
   "cell_type": "code",
   "execution_count": 18,
   "metadata": {},
   "outputs": [],
   "source": [
    "# Move tuition_price_specification column to the end next to the other tuition related columns\n",
    "df['tuition_price_specifications'] = df.tuition_price_specification"
   ]
  },
  {
   "cell_type": "code",
   "execution_count": 19,
   "metadata": {},
   "outputs": [
    {
     "data": {
      "text/html": [
       "<div>\n",
       "<style scoped>\n",
       "    .dataframe tbody tr th:only-of-type {\n",
       "        vertical-align: middle;\n",
       "    }\n",
       "\n",
       "    .dataframe tbody tr th {\n",
       "        vertical-align: top;\n",
       "    }\n",
       "\n",
       "    .dataframe thead th {\n",
       "        text-align: right;\n",
       "    }\n",
       "</style>\n",
       "<table border=\"1\" class=\"dataframe\">\n",
       "  <thead>\n",
       "    <tr style=\"text-align: right;\">\n",
       "      <th></th>\n",
       "      <th>country_name</th>\n",
       "      <th>country_code</th>\n",
       "      <th>university_name</th>\n",
       "      <th>university_rank</th>\n",
       "      <th>program_name</th>\n",
       "      <th>program_type</th>\n",
       "      <th>deadline</th>\n",
       "      <th>duration</th>\n",
       "      <th>language</th>\n",
       "      <th>tution_1_currency</th>\n",
       "      <th>tution_1_money</th>\n",
       "      <th>tution_1_type</th>\n",
       "      <th>tution_2_currency</th>\n",
       "      <th>tution_2_money</th>\n",
       "      <th>tution_2_type</th>\n",
       "      <th>tuition_price_specification</th>\n",
       "      <th>start_date</th>\n",
       "      <th>ielts_score</th>\n",
       "      <th>structure</th>\n",
       "      <th>academic_req</th>\n",
       "      <th>facts</th>\n",
       "      <th>city</th>\n",
       "      <th>program_url</th>\n",
       "      <th>conversion1</th>\n",
       "      <th>tuition_1_USD</th>\n",
       "      <th>tuition_1_type</th>\n",
       "      <th>conversion2</th>\n",
       "      <th>tuition_2_USD</th>\n",
       "      <th>tuition_2_type</th>\n",
       "      <th>tuition_price_specifications</th>\n",
       "    </tr>\n",
       "  </thead>\n",
       "  <tbody>\n",
       "    <tr>\n",
       "      <th>0</th>\n",
       "      <td>Armenia</td>\n",
       "      <td>ARM</td>\n",
       "      <td>American University of Armenia</td>\n",
       "      <td>NaN</td>\n",
       "      <td>Economics</td>\n",
       "      <td>MSc</td>\n",
       "      <td>2004-07-18T00:00:00Z</td>\n",
       "      <td>NaN</td>\n",
       "      <td>English</td>\n",
       "      <td>EUR</td>\n",
       "      <td>6442.0</td>\n",
       "      <td>International</td>\n",
       "      <td>EUR</td>\n",
       "      <td>2108.0</td>\n",
       "      <td>EU/EEA</td>\n",
       "      <td>Tuition (Year)</td>\n",
       "      <td>2018-09-01 00:00:00</td>\n",
       "      <td>6.5</td>\n",
       "      <td>['Quantitative Methods for Economists (Mathema...</td>\n",
       "      <td>&lt;section id=\"AcademicRequirements\"&gt; &lt;h2&gt;Academ...</td>\n",
       "      <td>['Starting in   2018-09-01 00:00:00    You can...</td>\n",
       "      <td>['Yerevan']</td>\n",
       "      <td>http://www.mastersportal.eu/studies/71101/econ...</td>\n",
       "      <td>1.2</td>\n",
       "      <td>7730.4</td>\n",
       "      <td>International</td>\n",
       "      <td>1.2</td>\n",
       "      <td>2529.6</td>\n",
       "      <td>EU/EEA</td>\n",
       "      <td>Tuition (Year)</td>\n",
       "    </tr>\n",
       "  </tbody>\n",
       "</table>\n",
       "</div>"
      ],
      "text/plain": [
       "  country_name country_code                 university_name  university_rank  \\\n",
       "0      Armenia          ARM  American University of Armenia              NaN   \n",
       "\n",
       "  program_name program_type              deadline duration language  \\\n",
       "0    Economics          MSc  2004-07-18T00:00:00Z      NaN  English   \n",
       "\n",
       "  tution_1_currency  tution_1_money  tution_1_type tution_2_currency  \\\n",
       "0               EUR          6442.0  International               EUR   \n",
       "\n",
       "   tution_2_money tution_2_type tuition_price_specification  \\\n",
       "0          2108.0        EU/EEA              Tuition (Year)   \n",
       "\n",
       "              start_date  ielts_score  \\\n",
       "0    2018-09-01 00:00:00          6.5   \n",
       "\n",
       "                                           structure  \\\n",
       "0  ['Quantitative Methods for Economists (Mathema...   \n",
       "\n",
       "                                        academic_req  \\\n",
       "0  <section id=\"AcademicRequirements\"> <h2>Academ...   \n",
       "\n",
       "                                               facts         city  \\\n",
       "0  ['Starting in   2018-09-01 00:00:00    You can...  ['Yerevan']   \n",
       "\n",
       "                                         program_url  conversion1  \\\n",
       "0  http://www.mastersportal.eu/studies/71101/econ...          1.2   \n",
       "\n",
       "   tuition_1_USD tuition_1_type  conversion2  tuition_2_USD tuition_2_type  \\\n",
       "0         7730.4  International          1.2         2529.6         EU/EEA   \n",
       "\n",
       "  tuition_price_specifications  \n",
       "0               Tuition (Year)  "
      ]
     },
     "execution_count": 19,
     "metadata": {},
     "output_type": "execute_result"
    }
   ],
   "source": [
    "# Check that they were moved\n",
    "df.head(1)"
   ]
  },
  {
   "cell_type": "code",
   "execution_count": 20,
   "metadata": {},
   "outputs": [],
   "source": [
    "# Delete old columns\n",
    "df.drop(['tution_1_currency', 'tution_1_money', 'tution_1_type', \\\n",
    "            'tution_2_currency', 'tution_2_money', 'tution_2_type', \\\n",
    "                'conversion1', 'conversion2', 'tuition_price_specification'], axis = 1, inplace = True)"
   ]
  },
  {
   "cell_type": "code",
   "execution_count": 21,
   "metadata": {},
   "outputs": [
    {
     "data": {
      "text/html": [
       "<div>\n",
       "<style scoped>\n",
       "    .dataframe tbody tr th:only-of-type {\n",
       "        vertical-align: middle;\n",
       "    }\n",
       "\n",
       "    .dataframe tbody tr th {\n",
       "        vertical-align: top;\n",
       "    }\n",
       "\n",
       "    .dataframe thead th {\n",
       "        text-align: right;\n",
       "    }\n",
       "</style>\n",
       "<table border=\"1\" class=\"dataframe\">\n",
       "  <thead>\n",
       "    <tr style=\"text-align: right;\">\n",
       "      <th></th>\n",
       "      <th>country_name</th>\n",
       "      <th>country_code</th>\n",
       "      <th>university_name</th>\n",
       "      <th>university_rank</th>\n",
       "      <th>program_name</th>\n",
       "      <th>program_type</th>\n",
       "      <th>deadline</th>\n",
       "      <th>duration</th>\n",
       "      <th>language</th>\n",
       "      <th>start_date</th>\n",
       "      <th>ielts_score</th>\n",
       "      <th>structure</th>\n",
       "      <th>academic_req</th>\n",
       "      <th>facts</th>\n",
       "      <th>city</th>\n",
       "      <th>program_url</th>\n",
       "      <th>tuition_1_USD</th>\n",
       "      <th>tuition_1_type</th>\n",
       "      <th>tuition_2_USD</th>\n",
       "      <th>tuition_2_type</th>\n",
       "      <th>tuition_price_specifications</th>\n",
       "    </tr>\n",
       "  </thead>\n",
       "  <tbody>\n",
       "    <tr>\n",
       "      <th>0</th>\n",
       "      <td>Armenia</td>\n",
       "      <td>ARM</td>\n",
       "      <td>American University of Armenia</td>\n",
       "      <td>NaN</td>\n",
       "      <td>Economics</td>\n",
       "      <td>MSc</td>\n",
       "      <td>2004-07-18T00:00:00Z</td>\n",
       "      <td>NaN</td>\n",
       "      <td>English</td>\n",
       "      <td>2018-09-01 00:00:00</td>\n",
       "      <td>6.5</td>\n",
       "      <td>['Quantitative Methods for Economists (Mathema...</td>\n",
       "      <td>&lt;section id=\"AcademicRequirements\"&gt; &lt;h2&gt;Academ...</td>\n",
       "      <td>['Starting in   2018-09-01 00:00:00    You can...</td>\n",
       "      <td>['Yerevan']</td>\n",
       "      <td>http://www.mastersportal.eu/studies/71101/econ...</td>\n",
       "      <td>7730.4</td>\n",
       "      <td>International</td>\n",
       "      <td>2529.6</td>\n",
       "      <td>EU/EEA</td>\n",
       "      <td>Tuition (Year)</td>\n",
       "    </tr>\n",
       "  </tbody>\n",
       "</table>\n",
       "</div>"
      ],
      "text/plain": [
       "  country_name country_code                 university_name  university_rank  \\\n",
       "0      Armenia          ARM  American University of Armenia              NaN   \n",
       "\n",
       "  program_name program_type              deadline duration language  \\\n",
       "0    Economics          MSc  2004-07-18T00:00:00Z      NaN  English   \n",
       "\n",
       "              start_date  ielts_score  \\\n",
       "0    2018-09-01 00:00:00          6.5   \n",
       "\n",
       "                                           structure  \\\n",
       "0  ['Quantitative Methods for Economists (Mathema...   \n",
       "\n",
       "                                        academic_req  \\\n",
       "0  <section id=\"AcademicRequirements\"> <h2>Academ...   \n",
       "\n",
       "                                               facts         city  \\\n",
       "0  ['Starting in   2018-09-01 00:00:00    You can...  ['Yerevan']   \n",
       "\n",
       "                                         program_url  tuition_1_USD  \\\n",
       "0  http://www.mastersportal.eu/studies/71101/econ...         7730.4   \n",
       "\n",
       "  tuition_1_type  tuition_2_USD tuition_2_type tuition_price_specifications  \n",
       "0  International         2529.6         EU/EEA               Tuition (Year)  "
      ]
     },
     "execution_count": 21,
     "metadata": {},
     "output_type": "execute_result"
    }
   ],
   "source": [
    "# Final check\n",
    "df.head(1)"
   ]
  },
  {
   "cell_type": "markdown",
   "metadata": {},
   "source": [
    "## 2.2 Total Tuition Calculation"
   ]
  },
  {
   "cell_type": "markdown",
   "metadata": {},
   "source": [
    "Use the tuition columns, tuition_price_specifications column, and duration column to find the total tuition for as many programs as possible."
   ]
  },
  {
   "cell_type": "markdown",
   "metadata": {},
   "source": [
    "First, clean up duration column so that everything is in months.\n",
    "* 1 month = 1 month\n",
    "* 1 day = 0.03 months\n",
    "* NaN and numbers without units will be NaN"
   ]
  },
  {
   "cell_type": "code",
   "execution_count": 22,
   "metadata": {},
   "outputs": [],
   "source": [
    "# Create column with time conversion for duration column\n",
    "df['duration_conversion'] = df.duration.apply(lambda x: 1 if 'month' in str(x) \\\n",
    "                                              else 0.03 if 'day' in str(x) \\\n",
    "                                              else np.nan)"
   ]
  },
  {
   "cell_type": "code",
   "execution_count": 23,
   "metadata": {},
   "outputs": [
    {
     "data": {
      "text/html": [
       "<div>\n",
       "<style scoped>\n",
       "    .dataframe tbody tr th:only-of-type {\n",
       "        vertical-align: middle;\n",
       "    }\n",
       "\n",
       "    .dataframe tbody tr th {\n",
       "        vertical-align: top;\n",
       "    }\n",
       "\n",
       "    .dataframe thead th {\n",
       "        text-align: right;\n",
       "    }\n",
       "</style>\n",
       "<table border=\"1\" class=\"dataframe\">\n",
       "  <thead>\n",
       "    <tr style=\"text-align: right;\">\n",
       "      <th></th>\n",
       "      <th>country_name</th>\n",
       "      <th>country_code</th>\n",
       "      <th>university_name</th>\n",
       "      <th>university_rank</th>\n",
       "      <th>program_name</th>\n",
       "      <th>program_type</th>\n",
       "      <th>deadline</th>\n",
       "      <th>duration</th>\n",
       "      <th>language</th>\n",
       "      <th>start_date</th>\n",
       "      <th>ielts_score</th>\n",
       "      <th>structure</th>\n",
       "      <th>academic_req</th>\n",
       "      <th>facts</th>\n",
       "      <th>city</th>\n",
       "      <th>program_url</th>\n",
       "      <th>tuition_1_USD</th>\n",
       "      <th>tuition_1_type</th>\n",
       "      <th>tuition_2_USD</th>\n",
       "      <th>tuition_2_type</th>\n",
       "      <th>tuition_price_specifications</th>\n",
       "      <th>duration_conversion</th>\n",
       "    </tr>\n",
       "  </thead>\n",
       "  <tbody>\n",
       "    <tr>\n",
       "      <th>0</th>\n",
       "      <td>Armenia</td>\n",
       "      <td>ARM</td>\n",
       "      <td>American University of Armenia</td>\n",
       "      <td>NaN</td>\n",
       "      <td>Economics</td>\n",
       "      <td>MSc</td>\n",
       "      <td>2004-07-18T00:00:00Z</td>\n",
       "      <td>NaN</td>\n",
       "      <td>English</td>\n",
       "      <td>2018-09-01 00:00:00</td>\n",
       "      <td>6.5</td>\n",
       "      <td>['Quantitative Methods for Economists (Mathema...</td>\n",
       "      <td>&lt;section id=\"AcademicRequirements\"&gt; &lt;h2&gt;Academ...</td>\n",
       "      <td>['Starting in   2018-09-01 00:00:00    You can...</td>\n",
       "      <td>['Yerevan']</td>\n",
       "      <td>http://www.mastersportal.eu/studies/71101/econ...</td>\n",
       "      <td>7730.4</td>\n",
       "      <td>International</td>\n",
       "      <td>2529.6</td>\n",
       "      <td>EU/EEA</td>\n",
       "      <td>Tuition (Year)</td>\n",
       "      <td>NaN</td>\n",
       "    </tr>\n",
       "    <tr>\n",
       "      <th>1</th>\n",
       "      <td>Armenia</td>\n",
       "      <td>ARM</td>\n",
       "      <td>American University of Armenia</td>\n",
       "      <td>NaN</td>\n",
       "      <td>Political Science and International Affairs</td>\n",
       "      <td>Master</td>\n",
       "      <td>2031-07-18T00:00:00Z</td>\n",
       "      <td>24 months</td>\n",
       "      <td>English</td>\n",
       "      <td>2018-08-22 00:00:00</td>\n",
       "      <td>6.5</td>\n",
       "      <td>NaN</td>\n",
       "      <td>&lt;section id=\"AcademicRequirements\"&gt; &lt;h2&gt;Academ...</td>\n",
       "      <td>['Starting in   2018-08-22 00:00:00    You can...</td>\n",
       "      <td>['Yerevan']</td>\n",
       "      <td>http://www.mastersportal.eu/studies/71085/poli...</td>\n",
       "      <td>7560.0</td>\n",
       "      <td>International</td>\n",
       "      <td>3000.0</td>\n",
       "      <td>National</td>\n",
       "      <td>Tuition (Year)</td>\n",
       "      <td>1.0</td>\n",
       "    </tr>\n",
       "    <tr>\n",
       "      <th>2</th>\n",
       "      <td>Armenia</td>\n",
       "      <td>ARM</td>\n",
       "      <td>American University of Armenia</td>\n",
       "      <td>NaN</td>\n",
       "      <td>Business Administration</td>\n",
       "      <td>MBA</td>\n",
       "      <td>2004-07-18T00:00:00Z</td>\n",
       "      <td>NaN</td>\n",
       "      <td>English</td>\n",
       "      <td>2018-09-01 00:00:00</td>\n",
       "      <td>6.5</td>\n",
       "      <td>['Managers with practical knowledge of account...</td>\n",
       "      <td>&lt;section id=\"AcademicRequirements\"&gt; &lt;h2&gt;Academ...</td>\n",
       "      <td>['Starting in   2018-09-01 00:00:00    You can...</td>\n",
       "      <td>['Yerevan']</td>\n",
       "      <td>http://www.mastersportal.eu/studies/71102/busi...</td>\n",
       "      <td>8996.4</td>\n",
       "      <td>International</td>\n",
       "      <td>2998.8</td>\n",
       "      <td>EU/EEA</td>\n",
       "      <td>Tuition (Year)</td>\n",
       "      <td>NaN</td>\n",
       "    </tr>\n",
       "  </tbody>\n",
       "</table>\n",
       "</div>"
      ],
      "text/plain": [
       "  country_name country_code                 university_name  university_rank  \\\n",
       "0      Armenia          ARM  American University of Armenia              NaN   \n",
       "1      Armenia          ARM  American University of Armenia              NaN   \n",
       "2      Armenia          ARM  American University of Armenia              NaN   \n",
       "\n",
       "                                  program_name program_type  \\\n",
       "0                                    Economics          MSc   \n",
       "1  Political Science and International Affairs       Master   \n",
       "2                      Business Administration          MBA   \n",
       "\n",
       "               deadline   duration language             start_date  \\\n",
       "0  2004-07-18T00:00:00Z        NaN  English    2018-09-01 00:00:00   \n",
       "1  2031-07-18T00:00:00Z  24 months  English    2018-08-22 00:00:00   \n",
       "2  2004-07-18T00:00:00Z        NaN  English    2018-09-01 00:00:00   \n",
       "\n",
       "   ielts_score                                          structure  \\\n",
       "0          6.5  ['Quantitative Methods for Economists (Mathema...   \n",
       "1          6.5                                                NaN   \n",
       "2          6.5  ['Managers with practical knowledge of account...   \n",
       "\n",
       "                                        academic_req  \\\n",
       "0  <section id=\"AcademicRequirements\"> <h2>Academ...   \n",
       "1  <section id=\"AcademicRequirements\"> <h2>Academ...   \n",
       "2  <section id=\"AcademicRequirements\"> <h2>Academ...   \n",
       "\n",
       "                                               facts         city  \\\n",
       "0  ['Starting in   2018-09-01 00:00:00    You can...  ['Yerevan']   \n",
       "1  ['Starting in   2018-08-22 00:00:00    You can...  ['Yerevan']   \n",
       "2  ['Starting in   2018-09-01 00:00:00    You can...  ['Yerevan']   \n",
       "\n",
       "                                         program_url  tuition_1_USD  \\\n",
       "0  http://www.mastersportal.eu/studies/71101/econ...         7730.4   \n",
       "1  http://www.mastersportal.eu/studies/71085/poli...         7560.0   \n",
       "2  http://www.mastersportal.eu/studies/71102/busi...         8996.4   \n",
       "\n",
       "  tuition_1_type  tuition_2_USD tuition_2_type tuition_price_specifications  \\\n",
       "0  International         2529.6         EU/EEA               Tuition (Year)   \n",
       "1  International         3000.0       National               Tuition (Year)   \n",
       "2  International         2998.8         EU/EEA               Tuition (Year)   \n",
       "\n",
       "   duration_conversion  \n",
       "0                  NaN  \n",
       "1                  1.0  \n",
       "2                  NaN  "
      ]
     },
     "execution_count": 23,
     "metadata": {},
     "output_type": "execute_result"
    }
   ],
   "source": [
    "df.head(3)"
   ]
  },
  {
   "cell_type": "code",
   "execution_count": 24,
   "metadata": {},
   "outputs": [],
   "source": [
    "# Extract number only from duration column\n",
    "df['duration_num'] = df.duration.dropna().apply(lambda x: re.findall(r\"\\d+\\.?\\d*\", x))\n",
    "df['duration_num'] = df.duration_num.dropna().apply(lambda x: int(x[0]))"
   ]
  },
  {
   "cell_type": "code",
   "execution_count": 25,
   "metadata": {},
   "outputs": [
    {
     "data": {
      "text/html": [
       "<div>\n",
       "<style scoped>\n",
       "    .dataframe tbody tr th:only-of-type {\n",
       "        vertical-align: middle;\n",
       "    }\n",
       "\n",
       "    .dataframe tbody tr th {\n",
       "        vertical-align: top;\n",
       "    }\n",
       "\n",
       "    .dataframe thead th {\n",
       "        text-align: right;\n",
       "    }\n",
       "</style>\n",
       "<table border=\"1\" class=\"dataframe\">\n",
       "  <thead>\n",
       "    <tr style=\"text-align: right;\">\n",
       "      <th></th>\n",
       "      <th>country_name</th>\n",
       "      <th>country_code</th>\n",
       "      <th>university_name</th>\n",
       "      <th>university_rank</th>\n",
       "      <th>program_name</th>\n",
       "      <th>program_type</th>\n",
       "      <th>deadline</th>\n",
       "      <th>duration</th>\n",
       "      <th>language</th>\n",
       "      <th>start_date</th>\n",
       "      <th>ielts_score</th>\n",
       "      <th>structure</th>\n",
       "      <th>academic_req</th>\n",
       "      <th>facts</th>\n",
       "      <th>city</th>\n",
       "      <th>program_url</th>\n",
       "      <th>tuition_1_USD</th>\n",
       "      <th>tuition_1_type</th>\n",
       "      <th>tuition_2_USD</th>\n",
       "      <th>tuition_2_type</th>\n",
       "      <th>tuition_price_specifications</th>\n",
       "      <th>duration_conversion</th>\n",
       "      <th>duration_num</th>\n",
       "    </tr>\n",
       "  </thead>\n",
       "  <tbody>\n",
       "    <tr>\n",
       "      <th>0</th>\n",
       "      <td>Armenia</td>\n",
       "      <td>ARM</td>\n",
       "      <td>American University of Armenia</td>\n",
       "      <td>NaN</td>\n",
       "      <td>Economics</td>\n",
       "      <td>MSc</td>\n",
       "      <td>2004-07-18T00:00:00Z</td>\n",
       "      <td>NaN</td>\n",
       "      <td>English</td>\n",
       "      <td>2018-09-01 00:00:00</td>\n",
       "      <td>6.5</td>\n",
       "      <td>['Quantitative Methods for Economists (Mathema...</td>\n",
       "      <td>&lt;section id=\"AcademicRequirements\"&gt; &lt;h2&gt;Academ...</td>\n",
       "      <td>['Starting in   2018-09-01 00:00:00    You can...</td>\n",
       "      <td>['Yerevan']</td>\n",
       "      <td>http://www.mastersportal.eu/studies/71101/econ...</td>\n",
       "      <td>7730.4</td>\n",
       "      <td>International</td>\n",
       "      <td>2529.6</td>\n",
       "      <td>EU/EEA</td>\n",
       "      <td>Tuition (Year)</td>\n",
       "      <td>NaN</td>\n",
       "      <td>NaN</td>\n",
       "    </tr>\n",
       "    <tr>\n",
       "      <th>1</th>\n",
       "      <td>Armenia</td>\n",
       "      <td>ARM</td>\n",
       "      <td>American University of Armenia</td>\n",
       "      <td>NaN</td>\n",
       "      <td>Political Science and International Affairs</td>\n",
       "      <td>Master</td>\n",
       "      <td>2031-07-18T00:00:00Z</td>\n",
       "      <td>24 months</td>\n",
       "      <td>English</td>\n",
       "      <td>2018-08-22 00:00:00</td>\n",
       "      <td>6.5</td>\n",
       "      <td>NaN</td>\n",
       "      <td>&lt;section id=\"AcademicRequirements\"&gt; &lt;h2&gt;Academ...</td>\n",
       "      <td>['Starting in   2018-08-22 00:00:00    You can...</td>\n",
       "      <td>['Yerevan']</td>\n",
       "      <td>http://www.mastersportal.eu/studies/71085/poli...</td>\n",
       "      <td>7560.0</td>\n",
       "      <td>International</td>\n",
       "      <td>3000.0</td>\n",
       "      <td>National</td>\n",
       "      <td>Tuition (Year)</td>\n",
       "      <td>1.0</td>\n",
       "      <td>24.0</td>\n",
       "    </tr>\n",
       "    <tr>\n",
       "      <th>2</th>\n",
       "      <td>Armenia</td>\n",
       "      <td>ARM</td>\n",
       "      <td>American University of Armenia</td>\n",
       "      <td>NaN</td>\n",
       "      <td>Business Administration</td>\n",
       "      <td>MBA</td>\n",
       "      <td>2004-07-18T00:00:00Z</td>\n",
       "      <td>NaN</td>\n",
       "      <td>English</td>\n",
       "      <td>2018-09-01 00:00:00</td>\n",
       "      <td>6.5</td>\n",
       "      <td>['Managers with practical knowledge of account...</td>\n",
       "      <td>&lt;section id=\"AcademicRequirements\"&gt; &lt;h2&gt;Academ...</td>\n",
       "      <td>['Starting in   2018-09-01 00:00:00    You can...</td>\n",
       "      <td>['Yerevan']</td>\n",
       "      <td>http://www.mastersportal.eu/studies/71102/busi...</td>\n",
       "      <td>8996.4</td>\n",
       "      <td>International</td>\n",
       "      <td>2998.8</td>\n",
       "      <td>EU/EEA</td>\n",
       "      <td>Tuition (Year)</td>\n",
       "      <td>NaN</td>\n",
       "      <td>NaN</td>\n",
       "    </tr>\n",
       "  </tbody>\n",
       "</table>\n",
       "</div>"
      ],
      "text/plain": [
       "  country_name country_code                 university_name  university_rank  \\\n",
       "0      Armenia          ARM  American University of Armenia              NaN   \n",
       "1      Armenia          ARM  American University of Armenia              NaN   \n",
       "2      Armenia          ARM  American University of Armenia              NaN   \n",
       "\n",
       "                                  program_name program_type  \\\n",
       "0                                    Economics          MSc   \n",
       "1  Political Science and International Affairs       Master   \n",
       "2                      Business Administration          MBA   \n",
       "\n",
       "               deadline   duration language             start_date  \\\n",
       "0  2004-07-18T00:00:00Z        NaN  English    2018-09-01 00:00:00   \n",
       "1  2031-07-18T00:00:00Z  24 months  English    2018-08-22 00:00:00   \n",
       "2  2004-07-18T00:00:00Z        NaN  English    2018-09-01 00:00:00   \n",
       "\n",
       "   ielts_score                                          structure  \\\n",
       "0          6.5  ['Quantitative Methods for Economists (Mathema...   \n",
       "1          6.5                                                NaN   \n",
       "2          6.5  ['Managers with practical knowledge of account...   \n",
       "\n",
       "                                        academic_req  \\\n",
       "0  <section id=\"AcademicRequirements\"> <h2>Academ...   \n",
       "1  <section id=\"AcademicRequirements\"> <h2>Academ...   \n",
       "2  <section id=\"AcademicRequirements\"> <h2>Academ...   \n",
       "\n",
       "                                               facts         city  \\\n",
       "0  ['Starting in   2018-09-01 00:00:00    You can...  ['Yerevan']   \n",
       "1  ['Starting in   2018-08-22 00:00:00    You can...  ['Yerevan']   \n",
       "2  ['Starting in   2018-09-01 00:00:00    You can...  ['Yerevan']   \n",
       "\n",
       "                                         program_url  tuition_1_USD  \\\n",
       "0  http://www.mastersportal.eu/studies/71101/econ...         7730.4   \n",
       "1  http://www.mastersportal.eu/studies/71085/poli...         7560.0   \n",
       "2  http://www.mastersportal.eu/studies/71102/busi...         8996.4   \n",
       "\n",
       "  tuition_1_type  tuition_2_USD tuition_2_type tuition_price_specifications  \\\n",
       "0  International         2529.6         EU/EEA               Tuition (Year)   \n",
       "1  International         3000.0       National               Tuition (Year)   \n",
       "2  International         2998.8         EU/EEA               Tuition (Year)   \n",
       "\n",
       "   duration_conversion  duration_num  \n",
       "0                  NaN           NaN  \n",
       "1                  1.0          24.0  \n",
       "2                  NaN           NaN  "
      ]
     },
     "execution_count": 25,
     "metadata": {},
     "output_type": "execute_result"
    }
   ],
   "source": [
    "df.head(3)"
   ]
  },
  {
   "cell_type": "code",
   "execution_count": 26,
   "metadata": {},
   "outputs": [],
   "source": [
    "# Create duration in months column\n",
    "df['duration_months'] = df.duration_conversion * df.duration_num"
   ]
  },
  {
   "cell_type": "code",
   "execution_count": 27,
   "metadata": {},
   "outputs": [
    {
     "data": {
      "text/html": [
       "<div>\n",
       "<style scoped>\n",
       "    .dataframe tbody tr th:only-of-type {\n",
       "        vertical-align: middle;\n",
       "    }\n",
       "\n",
       "    .dataframe tbody tr th {\n",
       "        vertical-align: top;\n",
       "    }\n",
       "\n",
       "    .dataframe thead th {\n",
       "        text-align: right;\n",
       "    }\n",
       "</style>\n",
       "<table border=\"1\" class=\"dataframe\">\n",
       "  <thead>\n",
       "    <tr style=\"text-align: right;\">\n",
       "      <th></th>\n",
       "      <th>country_name</th>\n",
       "      <th>country_code</th>\n",
       "      <th>university_name</th>\n",
       "      <th>university_rank</th>\n",
       "      <th>program_name</th>\n",
       "      <th>program_type</th>\n",
       "      <th>deadline</th>\n",
       "      <th>duration</th>\n",
       "      <th>language</th>\n",
       "      <th>start_date</th>\n",
       "      <th>ielts_score</th>\n",
       "      <th>structure</th>\n",
       "      <th>academic_req</th>\n",
       "      <th>facts</th>\n",
       "      <th>city</th>\n",
       "      <th>program_url</th>\n",
       "      <th>tuition_1_USD</th>\n",
       "      <th>tuition_1_type</th>\n",
       "      <th>tuition_2_USD</th>\n",
       "      <th>tuition_2_type</th>\n",
       "      <th>tuition_price_specifications</th>\n",
       "      <th>duration_conversion</th>\n",
       "      <th>duration_num</th>\n",
       "      <th>duration_months</th>\n",
       "    </tr>\n",
       "  </thead>\n",
       "  <tbody>\n",
       "    <tr>\n",
       "      <th>0</th>\n",
       "      <td>Armenia</td>\n",
       "      <td>ARM</td>\n",
       "      <td>American University of Armenia</td>\n",
       "      <td>NaN</td>\n",
       "      <td>Economics</td>\n",
       "      <td>MSc</td>\n",
       "      <td>2004-07-18T00:00:00Z</td>\n",
       "      <td>NaN</td>\n",
       "      <td>English</td>\n",
       "      <td>2018-09-01 00:00:00</td>\n",
       "      <td>6.5</td>\n",
       "      <td>['Quantitative Methods for Economists (Mathema...</td>\n",
       "      <td>&lt;section id=\"AcademicRequirements\"&gt; &lt;h2&gt;Academ...</td>\n",
       "      <td>['Starting in   2018-09-01 00:00:00    You can...</td>\n",
       "      <td>['Yerevan']</td>\n",
       "      <td>http://www.mastersportal.eu/studies/71101/econ...</td>\n",
       "      <td>7730.4</td>\n",
       "      <td>International</td>\n",
       "      <td>2529.6</td>\n",
       "      <td>EU/EEA</td>\n",
       "      <td>Tuition (Year)</td>\n",
       "      <td>NaN</td>\n",
       "      <td>NaN</td>\n",
       "      <td>NaN</td>\n",
       "    </tr>\n",
       "    <tr>\n",
       "      <th>1</th>\n",
       "      <td>Armenia</td>\n",
       "      <td>ARM</td>\n",
       "      <td>American University of Armenia</td>\n",
       "      <td>NaN</td>\n",
       "      <td>Political Science and International Affairs</td>\n",
       "      <td>Master</td>\n",
       "      <td>2031-07-18T00:00:00Z</td>\n",
       "      <td>24 months</td>\n",
       "      <td>English</td>\n",
       "      <td>2018-08-22 00:00:00</td>\n",
       "      <td>6.5</td>\n",
       "      <td>NaN</td>\n",
       "      <td>&lt;section id=\"AcademicRequirements\"&gt; &lt;h2&gt;Academ...</td>\n",
       "      <td>['Starting in   2018-08-22 00:00:00    You can...</td>\n",
       "      <td>['Yerevan']</td>\n",
       "      <td>http://www.mastersportal.eu/studies/71085/poli...</td>\n",
       "      <td>7560.0</td>\n",
       "      <td>International</td>\n",
       "      <td>3000.0</td>\n",
       "      <td>National</td>\n",
       "      <td>Tuition (Year)</td>\n",
       "      <td>1.0</td>\n",
       "      <td>24.0</td>\n",
       "      <td>24.0</td>\n",
       "    </tr>\n",
       "    <tr>\n",
       "      <th>2</th>\n",
       "      <td>Armenia</td>\n",
       "      <td>ARM</td>\n",
       "      <td>American University of Armenia</td>\n",
       "      <td>NaN</td>\n",
       "      <td>Business Administration</td>\n",
       "      <td>MBA</td>\n",
       "      <td>2004-07-18T00:00:00Z</td>\n",
       "      <td>NaN</td>\n",
       "      <td>English</td>\n",
       "      <td>2018-09-01 00:00:00</td>\n",
       "      <td>6.5</td>\n",
       "      <td>['Managers with practical knowledge of account...</td>\n",
       "      <td>&lt;section id=\"AcademicRequirements\"&gt; &lt;h2&gt;Academ...</td>\n",
       "      <td>['Starting in   2018-09-01 00:00:00    You can...</td>\n",
       "      <td>['Yerevan']</td>\n",
       "      <td>http://www.mastersportal.eu/studies/71102/busi...</td>\n",
       "      <td>8996.4</td>\n",
       "      <td>International</td>\n",
       "      <td>2998.8</td>\n",
       "      <td>EU/EEA</td>\n",
       "      <td>Tuition (Year)</td>\n",
       "      <td>NaN</td>\n",
       "      <td>NaN</td>\n",
       "      <td>NaN</td>\n",
       "    </tr>\n",
       "  </tbody>\n",
       "</table>\n",
       "</div>"
      ],
      "text/plain": [
       "  country_name country_code                 university_name  university_rank  \\\n",
       "0      Armenia          ARM  American University of Armenia              NaN   \n",
       "1      Armenia          ARM  American University of Armenia              NaN   \n",
       "2      Armenia          ARM  American University of Armenia              NaN   \n",
       "\n",
       "                                  program_name program_type  \\\n",
       "0                                    Economics          MSc   \n",
       "1  Political Science and International Affairs       Master   \n",
       "2                      Business Administration          MBA   \n",
       "\n",
       "               deadline   duration language             start_date  \\\n",
       "0  2004-07-18T00:00:00Z        NaN  English    2018-09-01 00:00:00   \n",
       "1  2031-07-18T00:00:00Z  24 months  English    2018-08-22 00:00:00   \n",
       "2  2004-07-18T00:00:00Z        NaN  English    2018-09-01 00:00:00   \n",
       "\n",
       "   ielts_score                                          structure  \\\n",
       "0          6.5  ['Quantitative Methods for Economists (Mathema...   \n",
       "1          6.5                                                NaN   \n",
       "2          6.5  ['Managers with practical knowledge of account...   \n",
       "\n",
       "                                        academic_req  \\\n",
       "0  <section id=\"AcademicRequirements\"> <h2>Academ...   \n",
       "1  <section id=\"AcademicRequirements\"> <h2>Academ...   \n",
       "2  <section id=\"AcademicRequirements\"> <h2>Academ...   \n",
       "\n",
       "                                               facts         city  \\\n",
       "0  ['Starting in   2018-09-01 00:00:00    You can...  ['Yerevan']   \n",
       "1  ['Starting in   2018-08-22 00:00:00    You can...  ['Yerevan']   \n",
       "2  ['Starting in   2018-09-01 00:00:00    You can...  ['Yerevan']   \n",
       "\n",
       "                                         program_url  tuition_1_USD  \\\n",
       "0  http://www.mastersportal.eu/studies/71101/econ...         7730.4   \n",
       "1  http://www.mastersportal.eu/studies/71085/poli...         7560.0   \n",
       "2  http://www.mastersportal.eu/studies/71102/busi...         8996.4   \n",
       "\n",
       "  tuition_1_type  tuition_2_USD tuition_2_type tuition_price_specifications  \\\n",
       "0  International         2529.6         EU/EEA               Tuition (Year)   \n",
       "1  International         3000.0       National               Tuition (Year)   \n",
       "2  International         2998.8         EU/EEA               Tuition (Year)   \n",
       "\n",
       "   duration_conversion  duration_num  duration_months  \n",
       "0                  NaN           NaN              NaN  \n",
       "1                  1.0          24.0             24.0  \n",
       "2                  NaN           NaN              NaN  "
      ]
     },
     "execution_count": 27,
     "metadata": {},
     "output_type": "execute_result"
    }
   ],
   "source": [
    "df.head(3)"
   ]
  },
  {
   "cell_type": "code",
   "execution_count": 28,
   "metadata": {},
   "outputs": [],
   "source": [
    "# Delete old columns\n",
    "df.drop(['duration_conversion', 'duration_num', 'duration'], axis = 1, inplace = True)"
   ]
  },
  {
   "cell_type": "code",
   "execution_count": 29,
   "metadata": {},
   "outputs": [
    {
     "data": {
      "text/html": [
       "<div>\n",
       "<style scoped>\n",
       "    .dataframe tbody tr th:only-of-type {\n",
       "        vertical-align: middle;\n",
       "    }\n",
       "\n",
       "    .dataframe tbody tr th {\n",
       "        vertical-align: top;\n",
       "    }\n",
       "\n",
       "    .dataframe thead th {\n",
       "        text-align: right;\n",
       "    }\n",
       "</style>\n",
       "<table border=\"1\" class=\"dataframe\">\n",
       "  <thead>\n",
       "    <tr style=\"text-align: right;\">\n",
       "      <th></th>\n",
       "      <th>country_name</th>\n",
       "      <th>country_code</th>\n",
       "      <th>university_name</th>\n",
       "      <th>university_rank</th>\n",
       "      <th>program_name</th>\n",
       "      <th>program_type</th>\n",
       "      <th>deadline</th>\n",
       "      <th>language</th>\n",
       "      <th>start_date</th>\n",
       "      <th>ielts_score</th>\n",
       "      <th>structure</th>\n",
       "      <th>academic_req</th>\n",
       "      <th>facts</th>\n",
       "      <th>city</th>\n",
       "      <th>program_url</th>\n",
       "      <th>tuition_1_USD</th>\n",
       "      <th>tuition_1_type</th>\n",
       "      <th>tuition_2_USD</th>\n",
       "      <th>tuition_2_type</th>\n",
       "      <th>tuition_price_specifications</th>\n",
       "      <th>duration_months</th>\n",
       "    </tr>\n",
       "  </thead>\n",
       "  <tbody>\n",
       "    <tr>\n",
       "      <th>0</th>\n",
       "      <td>Armenia</td>\n",
       "      <td>ARM</td>\n",
       "      <td>American University of Armenia</td>\n",
       "      <td>NaN</td>\n",
       "      <td>Economics</td>\n",
       "      <td>MSc</td>\n",
       "      <td>2004-07-18T00:00:00Z</td>\n",
       "      <td>English</td>\n",
       "      <td>2018-09-01 00:00:00</td>\n",
       "      <td>6.5</td>\n",
       "      <td>['Quantitative Methods for Economists (Mathema...</td>\n",
       "      <td>&lt;section id=\"AcademicRequirements\"&gt; &lt;h2&gt;Academ...</td>\n",
       "      <td>['Starting in   2018-09-01 00:00:00    You can...</td>\n",
       "      <td>['Yerevan']</td>\n",
       "      <td>http://www.mastersportal.eu/studies/71101/econ...</td>\n",
       "      <td>7730.4</td>\n",
       "      <td>International</td>\n",
       "      <td>2529.6</td>\n",
       "      <td>EU/EEA</td>\n",
       "      <td>Tuition (Year)</td>\n",
       "      <td>NaN</td>\n",
       "    </tr>\n",
       "  </tbody>\n",
       "</table>\n",
       "</div>"
      ],
      "text/plain": [
       "  country_name country_code                 university_name  university_rank  \\\n",
       "0      Armenia          ARM  American University of Armenia              NaN   \n",
       "\n",
       "  program_name program_type              deadline language  \\\n",
       "0    Economics          MSc  2004-07-18T00:00:00Z  English   \n",
       "\n",
       "              start_date  ielts_score  \\\n",
       "0    2018-09-01 00:00:00          6.5   \n",
       "\n",
       "                                           structure  \\\n",
       "0  ['Quantitative Methods for Economists (Mathema...   \n",
       "\n",
       "                                        academic_req  \\\n",
       "0  <section id=\"AcademicRequirements\"> <h2>Academ...   \n",
       "\n",
       "                                               facts         city  \\\n",
       "0  ['Starting in   2018-09-01 00:00:00    You can...  ['Yerevan']   \n",
       "\n",
       "                                         program_url  tuition_1_USD  \\\n",
       "0  http://www.mastersportal.eu/studies/71101/econ...         7730.4   \n",
       "\n",
       "  tuition_1_type  tuition_2_USD tuition_2_type tuition_price_specifications  \\\n",
       "0  International         2529.6         EU/EEA               Tuition (Year)   \n",
       "\n",
       "   duration_months  \n",
       "0              NaN  "
      ]
     },
     "execution_count": 29,
     "metadata": {},
     "output_type": "execute_result"
    }
   ],
   "source": [
    "df.head(1)"
   ]
  },
  {
   "cell_type": "markdown",
   "metadata": {},
   "source": [
    "Then, calculate the total tuition by total_tuition = (tuition / tuition_price_specifications_conv) * duration_months.  Where tuition_price_specifications_conv is as follows:\n",
    "* Tuition (Year) --> 12\n",
    "* Tuition (Semester) --> 6\n",
    "* Tuition (Full programme) --> NaN\n",
    "* Tuition (Trimester) --> 3\n",
    "* Tuition (Month) --> 1\n",
    "* Tuition (Quarter) --> 4\n",
    "* Tuition (Credit) --> NaN\n",
    "* Tuition (Module --> NaN"
   ]
  },
  {
   "cell_type": "code",
   "execution_count": 30,
   "metadata": {},
   "outputs": [],
   "source": [
    "df['tuition_price_specifications_conv'] = df.tuition_price_specifications.apply(lambda x: \\\n",
    "                                                                               12 if x == 'Tuition (Year)' \\\n",
    "                                                                               else 6 if x == 'Tuition (Semester)' \\\n",
    "                                                                               else 3 if x == 'Tuition (Trimester)' \\\n",
    "                                                                               else 1 if x == 'Tuition (Month)' \\\n",
    "                                                                               else 4 if x == 'Tuition (Quarter)' \\\n",
    "                                                                               else np.nan)"
   ]
  },
  {
   "cell_type": "code",
   "execution_count": 31,
   "metadata": {},
   "outputs": [],
   "source": [
    "# Calculate for tuition 1\n",
    "df['total_tuition_1_USD'] = (df.tuition_1_USD / df.tuition_price_specifications_conv) * df.duration_months"
   ]
  },
  {
   "cell_type": "code",
   "execution_count": 32,
   "metadata": {},
   "outputs": [],
   "source": [
    "# Add tuition amounts that were of type Tuition (Full programme) to the new total tuition column\n",
    "df.loc[df.tuition_price_specifications == 'Tuition (Full programme)', 'total_tuition_1_USD'] = \\\n",
    "    df[df.tuition_price_specifications == 'Tuition (Full programme)'].tuition_1_USD"
   ]
  },
  {
   "cell_type": "code",
   "execution_count": 33,
   "metadata": {},
   "outputs": [],
   "source": [
    "# Calculate for tuition 2\n",
    "df['total_tuition_2_USD'] = (df.tuition_2_USD / df.tuition_price_specifications_conv) * df.duration_months"
   ]
  },
  {
   "cell_type": "code",
   "execution_count": 34,
   "metadata": {},
   "outputs": [],
   "source": [
    "# Add tuition amounts that were of type Tuition (Full programme) to the new total tuition column\n",
    "df.loc[df.tuition_price_specifications == 'Tuition (Full programme)', 'total_tuition_2_USD'] = \\\n",
    "    df[df.tuition_price_specifications == 'Tuition (Full programme)'].tuition_2_USD"
   ]
  },
  {
   "cell_type": "code",
   "execution_count": 35,
   "metadata": {},
   "outputs": [
    {
     "data": {
      "text/html": [
       "<div>\n",
       "<style scoped>\n",
       "    .dataframe tbody tr th:only-of-type {\n",
       "        vertical-align: middle;\n",
       "    }\n",
       "\n",
       "    .dataframe tbody tr th {\n",
       "        vertical-align: top;\n",
       "    }\n",
       "\n",
       "    .dataframe thead th {\n",
       "        text-align: right;\n",
       "    }\n",
       "</style>\n",
       "<table border=\"1\" class=\"dataframe\">\n",
       "  <thead>\n",
       "    <tr style=\"text-align: right;\">\n",
       "      <th></th>\n",
       "      <th>country_name</th>\n",
       "      <th>country_code</th>\n",
       "      <th>university_name</th>\n",
       "      <th>university_rank</th>\n",
       "      <th>program_name</th>\n",
       "      <th>program_type</th>\n",
       "      <th>deadline</th>\n",
       "      <th>language</th>\n",
       "      <th>start_date</th>\n",
       "      <th>ielts_score</th>\n",
       "      <th>structure</th>\n",
       "      <th>academic_req</th>\n",
       "      <th>facts</th>\n",
       "      <th>city</th>\n",
       "      <th>program_url</th>\n",
       "      <th>tuition_1_USD</th>\n",
       "      <th>tuition_1_type</th>\n",
       "      <th>tuition_2_USD</th>\n",
       "      <th>tuition_2_type</th>\n",
       "      <th>tuition_price_specifications</th>\n",
       "      <th>duration_months</th>\n",
       "      <th>tuition_price_specifications_conv</th>\n",
       "      <th>total_tuition_1_USD</th>\n",
       "      <th>total_tuition_2_USD</th>\n",
       "    </tr>\n",
       "  </thead>\n",
       "  <tbody>\n",
       "    <tr>\n",
       "      <th>0</th>\n",
       "      <td>Armenia</td>\n",
       "      <td>ARM</td>\n",
       "      <td>American University of Armenia</td>\n",
       "      <td>NaN</td>\n",
       "      <td>Economics</td>\n",
       "      <td>MSc</td>\n",
       "      <td>2004-07-18T00:00:00Z</td>\n",
       "      <td>English</td>\n",
       "      <td>2018-09-01 00:00:00</td>\n",
       "      <td>6.5</td>\n",
       "      <td>['Quantitative Methods for Economists (Mathema...</td>\n",
       "      <td>&lt;section id=\"AcademicRequirements\"&gt; &lt;h2&gt;Academ...</td>\n",
       "      <td>['Starting in   2018-09-01 00:00:00    You can...</td>\n",
       "      <td>['Yerevan']</td>\n",
       "      <td>http://www.mastersportal.eu/studies/71101/econ...</td>\n",
       "      <td>7730.4</td>\n",
       "      <td>International</td>\n",
       "      <td>2529.6</td>\n",
       "      <td>EU/EEA</td>\n",
       "      <td>Tuition (Year)</td>\n",
       "      <td>NaN</td>\n",
       "      <td>12.0</td>\n",
       "      <td>NaN</td>\n",
       "      <td>NaN</td>\n",
       "    </tr>\n",
       "    <tr>\n",
       "      <th>1</th>\n",
       "      <td>Armenia</td>\n",
       "      <td>ARM</td>\n",
       "      <td>American University of Armenia</td>\n",
       "      <td>NaN</td>\n",
       "      <td>Political Science and International Affairs</td>\n",
       "      <td>Master</td>\n",
       "      <td>2031-07-18T00:00:00Z</td>\n",
       "      <td>English</td>\n",
       "      <td>2018-08-22 00:00:00</td>\n",
       "      <td>6.5</td>\n",
       "      <td>NaN</td>\n",
       "      <td>&lt;section id=\"AcademicRequirements\"&gt; &lt;h2&gt;Academ...</td>\n",
       "      <td>['Starting in   2018-08-22 00:00:00    You can...</td>\n",
       "      <td>['Yerevan']</td>\n",
       "      <td>http://www.mastersportal.eu/studies/71085/poli...</td>\n",
       "      <td>7560.0</td>\n",
       "      <td>International</td>\n",
       "      <td>3000.0</td>\n",
       "      <td>National</td>\n",
       "      <td>Tuition (Year)</td>\n",
       "      <td>24.0</td>\n",
       "      <td>12.0</td>\n",
       "      <td>15120.0</td>\n",
       "      <td>6000.0</td>\n",
       "    </tr>\n",
       "    <tr>\n",
       "      <th>2</th>\n",
       "      <td>Armenia</td>\n",
       "      <td>ARM</td>\n",
       "      <td>American University of Armenia</td>\n",
       "      <td>NaN</td>\n",
       "      <td>Business Administration</td>\n",
       "      <td>MBA</td>\n",
       "      <td>2004-07-18T00:00:00Z</td>\n",
       "      <td>English</td>\n",
       "      <td>2018-09-01 00:00:00</td>\n",
       "      <td>6.5</td>\n",
       "      <td>['Managers with practical knowledge of account...</td>\n",
       "      <td>&lt;section id=\"AcademicRequirements\"&gt; &lt;h2&gt;Academ...</td>\n",
       "      <td>['Starting in   2018-09-01 00:00:00    You can...</td>\n",
       "      <td>['Yerevan']</td>\n",
       "      <td>http://www.mastersportal.eu/studies/71102/busi...</td>\n",
       "      <td>8996.4</td>\n",
       "      <td>International</td>\n",
       "      <td>2998.8</td>\n",
       "      <td>EU/EEA</td>\n",
       "      <td>Tuition (Year)</td>\n",
       "      <td>NaN</td>\n",
       "      <td>12.0</td>\n",
       "      <td>NaN</td>\n",
       "      <td>NaN</td>\n",
       "    </tr>\n",
       "    <tr>\n",
       "      <th>3</th>\n",
       "      <td>Armenia</td>\n",
       "      <td>ARM</td>\n",
       "      <td>American University of Armenia</td>\n",
       "      <td>NaN</td>\n",
       "      <td>Computer and Information Science</td>\n",
       "      <td>MSc</td>\n",
       "      <td>NaN</td>\n",
       "      <td>English</td>\n",
       "      <td>NaN</td>\n",
       "      <td>6.5</td>\n",
       "      <td>['Introduction to Object-Oriented Programming'...</td>\n",
       "      <td>&lt;section id=\"AcademicRequirements\"&gt; &lt;h2&gt;Academ...</td>\n",
       "      <td>['Deadline and start date Application deadline...</td>\n",
       "      <td>['Yerevan']</td>\n",
       "      <td>http://www.mastersportal.eu/studies/71104/comp...</td>\n",
       "      <td>7560.0</td>\n",
       "      <td>International</td>\n",
       "      <td>3000.0</td>\n",
       "      <td>National</td>\n",
       "      <td>Tuition (Year)</td>\n",
       "      <td>24.0</td>\n",
       "      <td>12.0</td>\n",
       "      <td>15120.0</td>\n",
       "      <td>6000.0</td>\n",
       "    </tr>\n",
       "    <tr>\n",
       "      <th>4</th>\n",
       "      <td>Armenia</td>\n",
       "      <td>ARM</td>\n",
       "      <td>American University of Armenia</td>\n",
       "      <td>NaN</td>\n",
       "      <td>Industrial Engineering and Systems Management</td>\n",
       "      <td>MEng</td>\n",
       "      <td>2031-07-18T00:00:00Z</td>\n",
       "      <td>English</td>\n",
       "      <td>2018-08-22 00:00:00</td>\n",
       "      <td>6.5</td>\n",
       "      <td>['Probability Theory', 'Analysis and Design of...</td>\n",
       "      <td>&lt;section id=\"AcademicRequirements\"&gt; &lt;h2&gt;Academ...</td>\n",
       "      <td>['Starting in   2018-08-22 00:00:00    You can...</td>\n",
       "      <td>['Yerevan']</td>\n",
       "      <td>http://www.mastersportal.eu/studies/71103/indu...</td>\n",
       "      <td>7560.0</td>\n",
       "      <td>International</td>\n",
       "      <td>3000.0</td>\n",
       "      <td>National</td>\n",
       "      <td>Tuition (Year)</td>\n",
       "      <td>24.0</td>\n",
       "      <td>12.0</td>\n",
       "      <td>15120.0</td>\n",
       "      <td>6000.0</td>\n",
       "    </tr>\n",
       "  </tbody>\n",
       "</table>\n",
       "</div>"
      ],
      "text/plain": [
       "  country_name country_code                 university_name  university_rank  \\\n",
       "0      Armenia          ARM  American University of Armenia              NaN   \n",
       "1      Armenia          ARM  American University of Armenia              NaN   \n",
       "2      Armenia          ARM  American University of Armenia              NaN   \n",
       "3      Armenia          ARM  American University of Armenia              NaN   \n",
       "4      Armenia          ARM  American University of Armenia              NaN   \n",
       "\n",
       "                                    program_name program_type  \\\n",
       "0                                      Economics          MSc   \n",
       "1    Political Science and International Affairs       Master   \n",
       "2                        Business Administration          MBA   \n",
       "3               Computer and Information Science          MSc   \n",
       "4  Industrial Engineering and Systems Management         MEng   \n",
       "\n",
       "               deadline language             start_date  ielts_score  \\\n",
       "0  2004-07-18T00:00:00Z  English    2018-09-01 00:00:00          6.5   \n",
       "1  2031-07-18T00:00:00Z  English    2018-08-22 00:00:00          6.5   \n",
       "2  2004-07-18T00:00:00Z  English    2018-09-01 00:00:00          6.5   \n",
       "3                   NaN  English                    NaN          6.5   \n",
       "4  2031-07-18T00:00:00Z  English    2018-08-22 00:00:00          6.5   \n",
       "\n",
       "                                           structure  \\\n",
       "0  ['Quantitative Methods for Economists (Mathema...   \n",
       "1                                                NaN   \n",
       "2  ['Managers with practical knowledge of account...   \n",
       "3  ['Introduction to Object-Oriented Programming'...   \n",
       "4  ['Probability Theory', 'Analysis and Design of...   \n",
       "\n",
       "                                        academic_req  \\\n",
       "0  <section id=\"AcademicRequirements\"> <h2>Academ...   \n",
       "1  <section id=\"AcademicRequirements\"> <h2>Academ...   \n",
       "2  <section id=\"AcademicRequirements\"> <h2>Academ...   \n",
       "3  <section id=\"AcademicRequirements\"> <h2>Academ...   \n",
       "4  <section id=\"AcademicRequirements\"> <h2>Academ...   \n",
       "\n",
       "                                               facts         city  \\\n",
       "0  ['Starting in   2018-09-01 00:00:00    You can...  ['Yerevan']   \n",
       "1  ['Starting in   2018-08-22 00:00:00    You can...  ['Yerevan']   \n",
       "2  ['Starting in   2018-09-01 00:00:00    You can...  ['Yerevan']   \n",
       "3  ['Deadline and start date Application deadline...  ['Yerevan']   \n",
       "4  ['Starting in   2018-08-22 00:00:00    You can...  ['Yerevan']   \n",
       "\n",
       "                                         program_url  tuition_1_USD  \\\n",
       "0  http://www.mastersportal.eu/studies/71101/econ...         7730.4   \n",
       "1  http://www.mastersportal.eu/studies/71085/poli...         7560.0   \n",
       "2  http://www.mastersportal.eu/studies/71102/busi...         8996.4   \n",
       "3  http://www.mastersportal.eu/studies/71104/comp...         7560.0   \n",
       "4  http://www.mastersportal.eu/studies/71103/indu...         7560.0   \n",
       "\n",
       "  tuition_1_type  tuition_2_USD tuition_2_type tuition_price_specifications  \\\n",
       "0  International         2529.6         EU/EEA               Tuition (Year)   \n",
       "1  International         3000.0       National               Tuition (Year)   \n",
       "2  International         2998.8         EU/EEA               Tuition (Year)   \n",
       "3  International         3000.0       National               Tuition (Year)   \n",
       "4  International         3000.0       National               Tuition (Year)   \n",
       "\n",
       "   duration_months  tuition_price_specifications_conv  total_tuition_1_USD  \\\n",
       "0              NaN                               12.0                  NaN   \n",
       "1             24.0                               12.0              15120.0   \n",
       "2              NaN                               12.0                  NaN   \n",
       "3             24.0                               12.0              15120.0   \n",
       "4             24.0                               12.0              15120.0   \n",
       "\n",
       "   total_tuition_2_USD  \n",
       "0                  NaN  \n",
       "1               6000.0  \n",
       "2                  NaN  \n",
       "3               6000.0  \n",
       "4               6000.0  "
      ]
     },
     "execution_count": 35,
     "metadata": {},
     "output_type": "execute_result"
    }
   ],
   "source": [
    "# Check\n",
    "df.head()"
   ]
  },
  {
   "cell_type": "code",
   "execution_count": 36,
   "metadata": {},
   "outputs": [],
   "source": [
    "# Remove tuition_price_specifications_conv column\n",
    "df.drop('tuition_price_specifications_conv', axis = 1, inplace = True)"
   ]
  },
  {
   "cell_type": "markdown",
   "metadata": {},
   "source": [
    "## 2.3 String Cleaning"
   ]
  },
  {
   "cell_type": "code",
   "execution_count": 37,
   "metadata": {},
   "outputs": [],
   "source": [
    "clean = re.compile('<.*?>')\n",
    "df['academic_req'] = df.academic_req.dropna().apply(lambda x: re.sub(clean, ' ', x))"
   ]
  },
  {
   "cell_type": "code",
   "execution_count": 38,
   "metadata": {},
   "outputs": [],
   "source": [
    "df['city'] = df.city.dropna().apply(lambda x: x.strip(\"[]\"))"
   ]
  },
  {
   "cell_type": "code",
   "execution_count": 39,
   "metadata": {},
   "outputs": [],
   "source": [
    "df['structure'] = df.structure.dropna().apply(lambda x: x.strip(\"[]''\"))"
   ]
  },
  {
   "cell_type": "code",
   "execution_count": 40,
   "metadata": {},
   "outputs": [],
   "source": [
    "df['facts'] = df.facts.dropna().apply(lambda x: x.strip(\"[]''\"))\n",
    "df['facts'] = df.facts.dropna().apply(lambda x: x.replace(\"\\\\\\\\xa0\", \" \"))"
   ]
  },
  {
   "cell_type": "markdown",
   "metadata": {},
   "source": [
    "## 2.5 Drop Useless Columns"
   ]
  },
  {
   "cell_type": "code",
   "execution_count": 41,
   "metadata": {},
   "outputs": [
    {
     "data": {
      "text/plain": [
       "Index(['country_name', 'country_code', 'university_name', 'university_rank',\n",
       "       'program_name', 'program_type', 'deadline', 'language', 'start_date',\n",
       "       'ielts_score', 'structure', 'academic_req', 'facts', 'city',\n",
       "       'program_url', 'tuition_1_USD', 'tuition_1_type', 'tuition_2_USD',\n",
       "       'tuition_2_type', 'tuition_price_specifications', 'duration_months',\n",
       "       'total_tuition_1_USD', 'total_tuition_2_USD'],\n",
       "      dtype='object')"
      ]
     },
     "execution_count": 41,
     "metadata": {},
     "output_type": "execute_result"
    }
   ],
   "source": [
    "df.columns"
   ]
  },
  {
   "cell_type": "code",
   "execution_count": 42,
   "metadata": {},
   "outputs": [],
   "source": [
    "df.drop(['deadline', 'start_date', 'program_url', 'country_code'], axis = 1, inplace = True)"
   ]
  },
  {
   "cell_type": "markdown",
   "metadata": {},
   "source": [
    "## 2.6 Restructure dataset so that there is only one column for tuition"
   ]
  },
  {
   "cell_type": "code",
   "execution_count": 43,
   "metadata": {},
   "outputs": [
    {
     "data": {
      "text/html": [
       "<div>\n",
       "<style scoped>\n",
       "    .dataframe tbody tr th:only-of-type {\n",
       "        vertical-align: middle;\n",
       "    }\n",
       "\n",
       "    .dataframe tbody tr th {\n",
       "        vertical-align: top;\n",
       "    }\n",
       "\n",
       "    .dataframe thead th {\n",
       "        text-align: right;\n",
       "    }\n",
       "</style>\n",
       "<table border=\"1\" class=\"dataframe\">\n",
       "  <thead>\n",
       "    <tr style=\"text-align: right;\">\n",
       "      <th></th>\n",
       "      <th>country_name</th>\n",
       "      <th>university_name</th>\n",
       "      <th>university_rank</th>\n",
       "      <th>program_name</th>\n",
       "      <th>program_type</th>\n",
       "      <th>language</th>\n",
       "      <th>ielts_score</th>\n",
       "      <th>structure</th>\n",
       "      <th>academic_req</th>\n",
       "      <th>facts</th>\n",
       "      <th>city</th>\n",
       "      <th>tuition_1_USD</th>\n",
       "      <th>tuition_1_type</th>\n",
       "      <th>tuition_2_USD</th>\n",
       "      <th>tuition_2_type</th>\n",
       "      <th>tuition_price_specifications</th>\n",
       "      <th>duration_months</th>\n",
       "      <th>total_tuition_1_USD</th>\n",
       "      <th>total_tuition_2_USD</th>\n",
       "    </tr>\n",
       "  </thead>\n",
       "  <tbody>\n",
       "    <tr>\n",
       "      <th>0</th>\n",
       "      <td>Armenia</td>\n",
       "      <td>American University of Armenia</td>\n",
       "      <td>NaN</td>\n",
       "      <td>Economics</td>\n",
       "      <td>MSc</td>\n",
       "      <td>English</td>\n",
       "      <td>6.5</td>\n",
       "      <td>Quantitative Methods for Economists (Mathemati...</td>\n",
       "      <td>Academic Requirements      Application Requ...</td>\n",
       "      <td>Starting in   2018-09-01 00:00:00    You can a...</td>\n",
       "      <td>'Yerevan'</td>\n",
       "      <td>7730.4</td>\n",
       "      <td>International</td>\n",
       "      <td>2529.6</td>\n",
       "      <td>EU/EEA</td>\n",
       "      <td>Tuition (Year)</td>\n",
       "      <td>NaN</td>\n",
       "      <td>NaN</td>\n",
       "      <td>NaN</td>\n",
       "    </tr>\n",
       "  </tbody>\n",
       "</table>\n",
       "</div>"
      ],
      "text/plain": [
       "  country_name                 university_name  university_rank program_name  \\\n",
       "0      Armenia  American University of Armenia              NaN    Economics   \n",
       "\n",
       "  program_type language  ielts_score  \\\n",
       "0          MSc  English          6.5   \n",
       "\n",
       "                                           structure  \\\n",
       "0  Quantitative Methods for Economists (Mathemati...   \n",
       "\n",
       "                                        academic_req  \\\n",
       "0     Academic Requirements      Application Requ...   \n",
       "\n",
       "                                               facts       city  \\\n",
       "0  Starting in   2018-09-01 00:00:00    You can a...  'Yerevan'   \n",
       "\n",
       "   tuition_1_USD tuition_1_type  tuition_2_USD tuition_2_type  \\\n",
       "0         7730.4  International         2529.6         EU/EEA   \n",
       "\n",
       "  tuition_price_specifications  duration_months  total_tuition_1_USD  \\\n",
       "0               Tuition (Year)              NaN                  NaN   \n",
       "\n",
       "   total_tuition_2_USD  \n",
       "0                  NaN  "
      ]
     },
     "execution_count": 43,
     "metadata": {},
     "output_type": "execute_result"
    }
   ],
   "source": [
    "df.head(1)"
   ]
  },
  {
   "cell_type": "code",
   "execution_count": 44,
   "metadata": {},
   "outputs": [
    {
     "data": {
      "text/html": [
       "<div>\n",
       "<style scoped>\n",
       "    .dataframe tbody tr th:only-of-type {\n",
       "        vertical-align: middle;\n",
       "    }\n",
       "\n",
       "    .dataframe tbody tr th {\n",
       "        vertical-align: top;\n",
       "    }\n",
       "\n",
       "    .dataframe thead th {\n",
       "        text-align: right;\n",
       "    }\n",
       "</style>\n",
       "<table border=\"1\" class=\"dataframe\">\n",
       "  <thead>\n",
       "    <tr style=\"text-align: right;\">\n",
       "      <th></th>\n",
       "      <th>country_name</th>\n",
       "      <th>university_name</th>\n",
       "      <th>university_rank</th>\n",
       "      <th>program_name</th>\n",
       "      <th>program_type</th>\n",
       "      <th>language</th>\n",
       "      <th>ielts_score</th>\n",
       "      <th>structure</th>\n",
       "      <th>academic_req</th>\n",
       "      <th>facts</th>\n",
       "      <th>city</th>\n",
       "      <th>tuition_USD</th>\n",
       "      <th>tuition_type</th>\n",
       "      <th>tuition_price_specifications</th>\n",
       "      <th>duration_months</th>\n",
       "      <th>total_tuition_USD</th>\n",
       "    </tr>\n",
       "  </thead>\n",
       "  <tbody>\n",
       "    <tr>\n",
       "      <th>0</th>\n",
       "      <td>Armenia</td>\n",
       "      <td>American University of Armenia</td>\n",
       "      <td>NaN</td>\n",
       "      <td>Economics</td>\n",
       "      <td>MSc</td>\n",
       "      <td>English</td>\n",
       "      <td>6.5</td>\n",
       "      <td>Quantitative Methods for Economists (Mathemati...</td>\n",
       "      <td>Academic Requirements      Application Requ...</td>\n",
       "      <td>Starting in   2018-09-01 00:00:00    You can a...</td>\n",
       "      <td>'Yerevan'</td>\n",
       "      <td>7730.4</td>\n",
       "      <td>International</td>\n",
       "      <td>Tuition (Year)</td>\n",
       "      <td>NaN</td>\n",
       "      <td>NaN</td>\n",
       "    </tr>\n",
       "  </tbody>\n",
       "</table>\n",
       "</div>"
      ],
      "text/plain": [
       "  country_name                 university_name  university_rank program_name  \\\n",
       "0      Armenia  American University of Armenia              NaN    Economics   \n",
       "\n",
       "  program_type language  ielts_score  \\\n",
       "0          MSc  English          6.5   \n",
       "\n",
       "                                           structure  \\\n",
       "0  Quantitative Methods for Economists (Mathemati...   \n",
       "\n",
       "                                        academic_req  \\\n",
       "0     Academic Requirements      Application Requ...   \n",
       "\n",
       "                                               facts       city  tuition_USD  \\\n",
       "0  Starting in   2018-09-01 00:00:00    You can a...  'Yerevan'       7730.4   \n",
       "\n",
       "    tuition_type tuition_price_specifications  duration_months  \\\n",
       "0  International               Tuition (Year)              NaN   \n",
       "\n",
       "   total_tuition_USD  \n",
       "0                NaN  "
      ]
     },
     "execution_count": 44,
     "metadata": {},
     "output_type": "execute_result"
    }
   ],
   "source": [
    "# df1 has info on tuition 1\n",
    "df1 = df.drop(['tuition_2_USD', 'tuition_2_type', 'total_tuition_2_USD'], axis = 1). \\\n",
    "    rename(columns = {'tuition_1_USD':'tuition_USD', 'tuition_1_type':'tuition_type', \\\n",
    "            'total_tuition_1_USD':'total_tuition_USD'})\n",
    "df1.head(1)"
   ]
  },
  {
   "cell_type": "code",
   "execution_count": 45,
   "metadata": {},
   "outputs": [
    {
     "data": {
      "text/html": [
       "<div>\n",
       "<style scoped>\n",
       "    .dataframe tbody tr th:only-of-type {\n",
       "        vertical-align: middle;\n",
       "    }\n",
       "\n",
       "    .dataframe tbody tr th {\n",
       "        vertical-align: top;\n",
       "    }\n",
       "\n",
       "    .dataframe thead th {\n",
       "        text-align: right;\n",
       "    }\n",
       "</style>\n",
       "<table border=\"1\" class=\"dataframe\">\n",
       "  <thead>\n",
       "    <tr style=\"text-align: right;\">\n",
       "      <th></th>\n",
       "      <th>country_name</th>\n",
       "      <th>university_name</th>\n",
       "      <th>university_rank</th>\n",
       "      <th>program_name</th>\n",
       "      <th>program_type</th>\n",
       "      <th>language</th>\n",
       "      <th>ielts_score</th>\n",
       "      <th>structure</th>\n",
       "      <th>academic_req</th>\n",
       "      <th>facts</th>\n",
       "      <th>city</th>\n",
       "      <th>tuition_USD</th>\n",
       "      <th>tuition_type</th>\n",
       "      <th>tuition_price_specifications</th>\n",
       "      <th>duration_months</th>\n",
       "      <th>total_tuition_USD</th>\n",
       "    </tr>\n",
       "  </thead>\n",
       "  <tbody>\n",
       "    <tr>\n",
       "      <th>0</th>\n",
       "      <td>Armenia</td>\n",
       "      <td>American University of Armenia</td>\n",
       "      <td>NaN</td>\n",
       "      <td>Economics</td>\n",
       "      <td>MSc</td>\n",
       "      <td>English</td>\n",
       "      <td>6.5</td>\n",
       "      <td>Quantitative Methods for Economists (Mathemati...</td>\n",
       "      <td>Academic Requirements      Application Requ...</td>\n",
       "      <td>Starting in   2018-09-01 00:00:00    You can a...</td>\n",
       "      <td>'Yerevan'</td>\n",
       "      <td>2529.6</td>\n",
       "      <td>EU/EEA</td>\n",
       "      <td>Tuition (Year)</td>\n",
       "      <td>NaN</td>\n",
       "      <td>NaN</td>\n",
       "    </tr>\n",
       "  </tbody>\n",
       "</table>\n",
       "</div>"
      ],
      "text/plain": [
       "  country_name                 university_name  university_rank program_name  \\\n",
       "0      Armenia  American University of Armenia              NaN    Economics   \n",
       "\n",
       "  program_type language  ielts_score  \\\n",
       "0          MSc  English          6.5   \n",
       "\n",
       "                                           structure  \\\n",
       "0  Quantitative Methods for Economists (Mathemati...   \n",
       "\n",
       "                                        academic_req  \\\n",
       "0     Academic Requirements      Application Requ...   \n",
       "\n",
       "                                               facts       city  tuition_USD  \\\n",
       "0  Starting in   2018-09-01 00:00:00    You can a...  'Yerevan'       2529.6   \n",
       "\n",
       "  tuition_type tuition_price_specifications  duration_months  \\\n",
       "0       EU/EEA               Tuition (Year)              NaN   \n",
       "\n",
       "   total_tuition_USD  \n",
       "0                NaN  "
      ]
     },
     "execution_count": 45,
     "metadata": {},
     "output_type": "execute_result"
    }
   ],
   "source": [
    "# df2 has info on tuition 2\n",
    "df2 = df.drop(['tuition_1_USD', 'tuition_1_type', 'total_tuition_1_USD'], axis = 1). \\\n",
    "    rename(columns = {'tuition_2_USD':'tuition_USD', 'tuition_2_type':'tuition_type', \\\n",
    "            'total_tuition_2_USD':'total_tuition_USD'})\n",
    "df2.head(1)"
   ]
  },
  {
   "cell_type": "code",
   "execution_count": 46,
   "metadata": {},
   "outputs": [
    {
     "data": {
      "text/html": [
       "<div>\n",
       "<style scoped>\n",
       "    .dataframe tbody tr th:only-of-type {\n",
       "        vertical-align: middle;\n",
       "    }\n",
       "\n",
       "    .dataframe tbody tr th {\n",
       "        vertical-align: top;\n",
       "    }\n",
       "\n",
       "    .dataframe thead th {\n",
       "        text-align: right;\n",
       "    }\n",
       "</style>\n",
       "<table border=\"1\" class=\"dataframe\">\n",
       "  <thead>\n",
       "    <tr style=\"text-align: right;\">\n",
       "      <th></th>\n",
       "      <th>country_name</th>\n",
       "      <th>university_name</th>\n",
       "      <th>university_rank</th>\n",
       "      <th>program_name</th>\n",
       "      <th>program_type</th>\n",
       "      <th>language</th>\n",
       "      <th>ielts_score</th>\n",
       "      <th>structure</th>\n",
       "      <th>academic_req</th>\n",
       "      <th>facts</th>\n",
       "      <th>city</th>\n",
       "      <th>tuition_USD</th>\n",
       "      <th>tuition_type</th>\n",
       "      <th>tuition_price_specifications</th>\n",
       "      <th>duration_months</th>\n",
       "      <th>total_tuition_USD</th>\n",
       "    </tr>\n",
       "  </thead>\n",
       "  <tbody>\n",
       "    <tr>\n",
       "      <th>0</th>\n",
       "      <td>Armenia</td>\n",
       "      <td>American University of Armenia</td>\n",
       "      <td>NaN</td>\n",
       "      <td>Economics</td>\n",
       "      <td>MSc</td>\n",
       "      <td>English</td>\n",
       "      <td>6.5</td>\n",
       "      <td>Quantitative Methods for Economists (Mathemati...</td>\n",
       "      <td>Academic Requirements      Application Requ...</td>\n",
       "      <td>Starting in   2018-09-01 00:00:00    You can a...</td>\n",
       "      <td>'Yerevan'</td>\n",
       "      <td>7730.4</td>\n",
       "      <td>International</td>\n",
       "      <td>Tuition (Year)</td>\n",
       "      <td>NaN</td>\n",
       "      <td>NaN</td>\n",
       "    </tr>\n",
       "  </tbody>\n",
       "</table>\n",
       "</div>"
      ],
      "text/plain": [
       "  country_name                 university_name  university_rank program_name  \\\n",
       "0      Armenia  American University of Armenia              NaN    Economics   \n",
       "\n",
       "  program_type language  ielts_score  \\\n",
       "0          MSc  English          6.5   \n",
       "\n",
       "                                           structure  \\\n",
       "0  Quantitative Methods for Economists (Mathemati...   \n",
       "\n",
       "                                        academic_req  \\\n",
       "0     Academic Requirements      Application Requ...   \n",
       "\n",
       "                                               facts       city  tuition_USD  \\\n",
       "0  Starting in   2018-09-01 00:00:00    You can a...  'Yerevan'       7730.4   \n",
       "\n",
       "    tuition_type tuition_price_specifications  duration_months  \\\n",
       "0  International               Tuition (Year)              NaN   \n",
       "\n",
       "   total_tuition_USD  \n",
       "0                NaN  "
      ]
     },
     "execution_count": 46,
     "metadata": {},
     "output_type": "execute_result"
    }
   ],
   "source": [
    "# Stack df1 and df2\n",
    "df = pd.concat([df1, df2], axis = 0)\n",
    "df.head(1)"
   ]
  },
  {
   "cell_type": "code",
   "execution_count": 47,
   "metadata": {},
   "outputs": [
    {
     "data": {
      "text/plain": [
       "True"
      ]
     },
     "execution_count": 47,
     "metadata": {},
     "output_type": "execute_result"
    }
   ],
   "source": [
    "# Check\n",
    "len(df1) + len(df2) == len(df)"
   ]
  },
  {
   "cell_type": "markdown",
   "metadata": {},
   "source": [
    "## 2.7 Check Cleaned Dataset"
   ]
  },
  {
   "cell_type": "code",
   "execution_count": 48,
   "metadata": {},
   "outputs": [
    {
     "data": {
      "text/plain": [
       "223669"
      ]
     },
     "execution_count": 48,
     "metadata": {},
     "output_type": "execute_result"
    }
   ],
   "source": [
    "df.isna().sum().sum()"
   ]
  },
  {
   "cell_type": "code",
   "execution_count": 49,
   "metadata": {},
   "outputs": [
    {
     "data": {
      "text/plain": [
       "(120850, 16)"
      ]
     },
     "execution_count": 49,
     "metadata": {},
     "output_type": "execute_result"
    }
   ],
   "source": [
    "df.shape"
   ]
  },
  {
   "cell_type": "code",
   "execution_count": 50,
   "metadata": {},
   "outputs": [
    {
     "data": {
      "text/html": [
       "<div>\n",
       "<style scoped>\n",
       "    .dataframe tbody tr th:only-of-type {\n",
       "        vertical-align: middle;\n",
       "    }\n",
       "\n",
       "    .dataframe tbody tr th {\n",
       "        vertical-align: top;\n",
       "    }\n",
       "\n",
       "    .dataframe thead th {\n",
       "        text-align: right;\n",
       "    }\n",
       "</style>\n",
       "<table border=\"1\" class=\"dataframe\">\n",
       "  <thead>\n",
       "    <tr style=\"text-align: right;\">\n",
       "      <th></th>\n",
       "      <th>country_name</th>\n",
       "      <th>university_name</th>\n",
       "      <th>university_rank</th>\n",
       "      <th>program_name</th>\n",
       "      <th>program_type</th>\n",
       "      <th>language</th>\n",
       "      <th>ielts_score</th>\n",
       "      <th>structure</th>\n",
       "      <th>academic_req</th>\n",
       "      <th>facts</th>\n",
       "      <th>city</th>\n",
       "      <th>tuition_USD</th>\n",
       "      <th>tuition_type</th>\n",
       "      <th>tuition_price_specifications</th>\n",
       "      <th>duration_months</th>\n",
       "      <th>total_tuition_USD</th>\n",
       "    </tr>\n",
       "  </thead>\n",
       "  <tbody>\n",
       "    <tr>\n",
       "      <th>0</th>\n",
       "      <td>Armenia</td>\n",
       "      <td>American University of Armenia</td>\n",
       "      <td>NaN</td>\n",
       "      <td>Economics</td>\n",
       "      <td>MSc</td>\n",
       "      <td>English</td>\n",
       "      <td>6.5</td>\n",
       "      <td>Quantitative Methods for Economists (Mathemati...</td>\n",
       "      <td>Academic Requirements      Application Requ...</td>\n",
       "      <td>Starting in   2018-09-01 00:00:00    You can a...</td>\n",
       "      <td>'Yerevan'</td>\n",
       "      <td>7730.4</td>\n",
       "      <td>International</td>\n",
       "      <td>Tuition (Year)</td>\n",
       "      <td>NaN</td>\n",
       "      <td>NaN</td>\n",
       "    </tr>\n",
       "    <tr>\n",
       "      <th>1</th>\n",
       "      <td>Armenia</td>\n",
       "      <td>American University of Armenia</td>\n",
       "      <td>NaN</td>\n",
       "      <td>Political Science and International Affairs</td>\n",
       "      <td>Master</td>\n",
       "      <td>English</td>\n",
       "      <td>6.5</td>\n",
       "      <td>NaN</td>\n",
       "      <td>Academic Requirements      Admission Requir...</td>\n",
       "      <td>Starting in   2018-08-22 00:00:00    You can a...</td>\n",
       "      <td>'Yerevan'</td>\n",
       "      <td>7560.0</td>\n",
       "      <td>International</td>\n",
       "      <td>Tuition (Year)</td>\n",
       "      <td>24.0</td>\n",
       "      <td>15120.0</td>\n",
       "    </tr>\n",
       "    <tr>\n",
       "      <th>2</th>\n",
       "      <td>Armenia</td>\n",
       "      <td>American University of Armenia</td>\n",
       "      <td>NaN</td>\n",
       "      <td>Business Administration</td>\n",
       "      <td>MBA</td>\n",
       "      <td>English</td>\n",
       "      <td>6.5</td>\n",
       "      <td>Managers with practical knowledge of accountin...</td>\n",
       "      <td>Academic Requirements      Application Requ...</td>\n",
       "      <td>Starting in   2018-09-01 00:00:00    You can a...</td>\n",
       "      <td>'Yerevan'</td>\n",
       "      <td>8996.4</td>\n",
       "      <td>International</td>\n",
       "      <td>Tuition (Year)</td>\n",
       "      <td>NaN</td>\n",
       "      <td>NaN</td>\n",
       "    </tr>\n",
       "    <tr>\n",
       "      <th>3</th>\n",
       "      <td>Armenia</td>\n",
       "      <td>American University of Armenia</td>\n",
       "      <td>NaN</td>\n",
       "      <td>Computer and Information Science</td>\n",
       "      <td>MSc</td>\n",
       "      <td>English</td>\n",
       "      <td>6.5</td>\n",
       "      <td>Introduction to Object-Oriented Programming', ...</td>\n",
       "      <td>Academic Requirements     CIS Application R...</td>\n",
       "      <td>Deadline and start date Application deadline a...</td>\n",
       "      <td>'Yerevan'</td>\n",
       "      <td>7560.0</td>\n",
       "      <td>International</td>\n",
       "      <td>Tuition (Year)</td>\n",
       "      <td>24.0</td>\n",
       "      <td>15120.0</td>\n",
       "    </tr>\n",
       "    <tr>\n",
       "      <th>4</th>\n",
       "      <td>Armenia</td>\n",
       "      <td>American University of Armenia</td>\n",
       "      <td>NaN</td>\n",
       "      <td>Industrial Engineering and Systems Management</td>\n",
       "      <td>MEng</td>\n",
       "      <td>English</td>\n",
       "      <td>6.5</td>\n",
       "      <td>Probability Theory', 'Analysis and Design of D...</td>\n",
       "      <td>Academic Requirements      IESM Application...</td>\n",
       "      <td>Starting in   2018-08-22 00:00:00    You can a...</td>\n",
       "      <td>'Yerevan'</td>\n",
       "      <td>7560.0</td>\n",
       "      <td>International</td>\n",
       "      <td>Tuition (Year)</td>\n",
       "      <td>24.0</td>\n",
       "      <td>15120.0</td>\n",
       "    </tr>\n",
       "  </tbody>\n",
       "</table>\n",
       "</div>"
      ],
      "text/plain": [
       "  country_name                 university_name  university_rank  \\\n",
       "0      Armenia  American University of Armenia              NaN   \n",
       "1      Armenia  American University of Armenia              NaN   \n",
       "2      Armenia  American University of Armenia              NaN   \n",
       "3      Armenia  American University of Armenia              NaN   \n",
       "4      Armenia  American University of Armenia              NaN   \n",
       "\n",
       "                                    program_name program_type language  \\\n",
       "0                                      Economics          MSc  English   \n",
       "1    Political Science and International Affairs       Master  English   \n",
       "2                        Business Administration          MBA  English   \n",
       "3               Computer and Information Science          MSc  English   \n",
       "4  Industrial Engineering and Systems Management         MEng  English   \n",
       "\n",
       "   ielts_score                                          structure  \\\n",
       "0          6.5  Quantitative Methods for Economists (Mathemati...   \n",
       "1          6.5                                                NaN   \n",
       "2          6.5  Managers with practical knowledge of accountin...   \n",
       "3          6.5  Introduction to Object-Oriented Programming', ...   \n",
       "4          6.5  Probability Theory', 'Analysis and Design of D...   \n",
       "\n",
       "                                        academic_req  \\\n",
       "0     Academic Requirements      Application Requ...   \n",
       "1     Academic Requirements      Admission Requir...   \n",
       "2     Academic Requirements      Application Requ...   \n",
       "3     Academic Requirements     CIS Application R...   \n",
       "4     Academic Requirements      IESM Application...   \n",
       "\n",
       "                                               facts       city  tuition_USD  \\\n",
       "0  Starting in   2018-09-01 00:00:00    You can a...  'Yerevan'       7730.4   \n",
       "1  Starting in   2018-08-22 00:00:00    You can a...  'Yerevan'       7560.0   \n",
       "2  Starting in   2018-09-01 00:00:00    You can a...  'Yerevan'       8996.4   \n",
       "3  Deadline and start date Application deadline a...  'Yerevan'       7560.0   \n",
       "4  Starting in   2018-08-22 00:00:00    You can a...  'Yerevan'       7560.0   \n",
       "\n",
       "    tuition_type tuition_price_specifications  duration_months  \\\n",
       "0  International               Tuition (Year)              NaN   \n",
       "1  International               Tuition (Year)             24.0   \n",
       "2  International               Tuition (Year)              NaN   \n",
       "3  International               Tuition (Year)             24.0   \n",
       "4  International               Tuition (Year)             24.0   \n",
       "\n",
       "   total_tuition_USD  \n",
       "0                NaN  \n",
       "1            15120.0  \n",
       "2                NaN  \n",
       "3            15120.0  \n",
       "4            15120.0  "
      ]
     },
     "execution_count": 50,
     "metadata": {},
     "output_type": "execute_result"
    }
   ],
   "source": [
    "df.head()"
   ]
  },
  {
   "cell_type": "markdown",
   "metadata": {},
   "source": [
    "## 2.8 Create US Only Dataset"
   ]
  },
  {
   "cell_type": "code",
   "execution_count": 51,
   "metadata": {},
   "outputs": [],
   "source": [
    "dfUS = df[df.country_name == 'United States']"
   ]
  },
  {
   "cell_type": "code",
   "execution_count": 52,
   "metadata": {},
   "outputs": [
    {
     "data": {
      "text/plain": [
       "(48168, 16)"
      ]
     },
     "execution_count": 52,
     "metadata": {},
     "output_type": "execute_result"
    }
   ],
   "source": [
    "dfUS.shape"
   ]
  },
  {
   "cell_type": "markdown",
   "metadata": {},
   "source": [
    "# 3.0 Findings"
   ]
  },
  {
   "cell_type": "markdown",
   "metadata": {},
   "source": [
    "## 3.1 Finding 1: Choosing a Place to Study by IELTS Score in US\n",
    "**Summary:** Here we will be recommending a target IELTS score for students looking to study in the US based on location, program, and school type.  The IELTS is an English language proficiency test, similar to the TOEFL."
   ]
  },
  {
   "cell_type": "markdown",
   "metadata": {},
   "source": [
    "###  3.1.1 Average IELTS Score Requests by State"
   ]
  },
  {
   "cell_type": "markdown",
   "metadata": {},
   "source": [
    "Merge dfUS with dataset containing university states."
   ]
  },
  {
   "cell_type": "code",
   "execution_count": 53,
   "metadata": {},
   "outputs": [],
   "source": [
    "# Load dataset containing universities and the states they are located in\n",
    "# From https://www.kaggle.com/ghalebdweikat/accredited-universities-in-the-usa\n",
    "df_states = pd.read_csv('Accreditation_04_2017.csv', usecols = [1, 4])"
   ]
  },
  {
   "cell_type": "code",
   "execution_count": 54,
   "metadata": {},
   "outputs": [],
   "source": [
    "# Merge the new dataset with original US dataset\n",
    "df_states.drop_duplicates(subset = 'Institution_Name', inplace = True)\n",
    "US_State = dfUS.merge(df_states, left_on = 'university_name', right_on = 'Institution_Name', how = 'inner')"
   ]
  },
  {
   "cell_type": "code",
   "execution_count": 55,
   "metadata": {},
   "outputs": [],
   "source": [
    "# Create dataframe with average IELTS score\n",
    "US_State_Ielts = US_State.groupby('Institution_State')['ielts_score'].mean()\n",
    "US_State_Ielts2 = US_State_Ielts.to_frame().reset_index()"
   ]
  },
  {
   "cell_type": "code",
   "execution_count": 56,
   "metadata": {},
   "outputs": [
    {
     "data": {
      "text/plain": [
       "(5, 7)"
      ]
     },
     "execution_count": 56,
     "metadata": {},
     "output_type": "execute_result"
    },
    {
     "data": {
      "image/png": "[encoded data removed]",
      "text/plain": [
       "<Figure size 1080x360 with 1 Axes>"
      ]
     },
     "metadata": {
      "needs_background": "light"
     },
     "output_type": "display_data"
    }
   ],
   "source": [
    "# Plot\n",
    "sns.catplot(y = 'ielts_score', x = 'Institution_State', data = US_State_Ielts2, \\\n",
    "            aspect = 3, kind = 'bar',order= US_State_Ielts.sort_values(ascending=False).index.values)\n",
    "plt.ylim([5,7])"
   ]
  },
  {
   "cell_type": "markdown",
   "metadata": {},
   "source": [
    "We can see that WA has the highest average IELTS score requirement and SD the lowest."
   ]
  },
  {
   "cell_type": "markdown",
   "metadata": {},
   "source": [
    "###  3.1.2 Highest IELTS Score Requests by Program"
   ]
  },
  {
   "cell_type": "markdown",
   "metadata": {},
   "source": [
    "Out of the programs with count over 100 in the US, see which programs have a relatively high IELTS score request."
   ]
  },
  {
   "cell_type": "code",
   "execution_count": 57,
   "metadata": {},
   "outputs": [],
   "source": [
    "# Data frame of programs in US with their count, average Ielts score and the highest school rank.\n",
    "Top_Cate_US = dfUS.groupby(['program_name']).agg({'program_name':'count','ielts_score':'mean', \\\n",
    "                                                  'university_rank':'min'})\n",
    "Top_Cate_US.columns = [\"Count\", \"Average_Ielts\", \"Highest_Rank\"]\n",
    "Top_Cate_US = Top_Cate_US.sort_values(by = ['Average_Ielts'], ascending = False)\n",
    "Top_Cate_US = Top_Cate_US.reset_index()"
   ]
  },
  {
   "cell_type": "code",
   "execution_count": 58,
   "metadata": {},
   "outputs": [
    {
     "data": {
      "text/plain": [
       "(6.4, 6.68)"
      ]
     },
     "execution_count": 58,
     "metadata": {},
     "output_type": "execute_result"
    },
    {
     "data": {
      "image/png": "[encoded data removed]",
      "text/plain": [
       "<Figure size 1080x360 with 1 Axes>"
      ]
     },
     "metadata": {
      "needs_background": "light"
     },
     "output_type": "display_data"
    }
   ],
   "source": [
    "# Plot\n",
    "import warnings\n",
    "warnings.filterwarnings('ignore')\n",
    "\n",
    "chart = sns.factorplot(y = 'Average_Ielts', x = 'program_name', data = Top_Cate_US.loc[Top_Cate_US.Count >= 100] \\\n",
    "               .head(20), kind = 'bar',  aspect = 3)\n",
    "chart.set_xticklabels(rotation = 70)\n",
    "plt.ylim([6.4, 6.68])"
   ]
  },
  {
   "cell_type": "markdown",
   "metadata": {},
   "source": [
    "We can see that Finance programs have the highest average IELTS score requirement and Electrical and Computer Engineering the lowest."
   ]
  },
  {
   "cell_type": "markdown",
   "metadata": {},
   "source": [
    "###  3.1.3 Average IELTS Score Requests by School Type"
   ]
  },
  {
   "cell_type": "code",
   "execution_count": 59,
   "metadata": {},
   "outputs": [],
   "source": [
    "# Import dataset with school type\n",
    "# Link on kaggle: https://www.kaggle.com/wsj/college-salaries#salaries-by-college-type.csv\n",
    "df_type = pd.read_csv('salaries-by-college-type.csv', usecols = [0,1])\n",
    "US_Type = dfUS.merge(df_type, left_on = 'university_name', right_on = 'School Name', how = 'inner') "
   ]
  },
  {
   "cell_type": "code",
   "execution_count": 60,
   "metadata": {},
   "outputs": [
    {
     "data": {
      "text/html": [
       "<div>\n",
       "<style scoped>\n",
       "    .dataframe tbody tr th:only-of-type {\n",
       "        vertical-align: middle;\n",
       "    }\n",
       "\n",
       "    .dataframe tbody tr th {\n",
       "        vertical-align: top;\n",
       "    }\n",
       "\n",
       "    .dataframe thead th {\n",
       "        text-align: right;\n",
       "    }\n",
       "</style>\n",
       "<table border=\"1\" class=\"dataframe\">\n",
       "  <thead>\n",
       "    <tr style=\"text-align: right;\">\n",
       "      <th></th>\n",
       "      <th>country_name</th>\n",
       "      <th>university_name</th>\n",
       "      <th>university_rank</th>\n",
       "      <th>program_name</th>\n",
       "      <th>program_type</th>\n",
       "      <th>language</th>\n",
       "      <th>ielts_score</th>\n",
       "      <th>structure</th>\n",
       "      <th>academic_req</th>\n",
       "      <th>facts</th>\n",
       "      <th>city</th>\n",
       "      <th>tuition_USD</th>\n",
       "      <th>tuition_type</th>\n",
       "      <th>tuition_price_specifications</th>\n",
       "      <th>duration_months</th>\n",
       "      <th>total_tuition_USD</th>\n",
       "      <th>School Name</th>\n",
       "      <th>School Type</th>\n",
       "    </tr>\n",
       "  </thead>\n",
       "  <tbody>\n",
       "    <tr>\n",
       "      <th>0</th>\n",
       "      <td>United States</td>\n",
       "      <td>University of Akron</td>\n",
       "      <td>NaN</td>\n",
       "      <td>Accountancy</td>\n",
       "      <td>MSc</td>\n",
       "      <td>English</td>\n",
       "      <td>6.5</td>\n",
       "      <td>Enterprise Systems and Internal Control', 'Con...</td>\n",
       "      <td>Academic Requirements      You need the fol...</td>\n",
       "      <td>Starting in   2018-08-10 00:00:00    You can a...</td>\n",
       "      <td>'Akron', 'United States'</td>\n",
       "      <td>802.0</td>\n",
       "      <td>International</td>\n",
       "      <td>Tuition (Credit)</td>\n",
       "      <td>24.0</td>\n",
       "      <td>NaN</td>\n",
       "      <td>University of Akron</td>\n",
       "      <td>State</td>\n",
       "    </tr>\n",
       "    <tr>\n",
       "      <th>1</th>\n",
       "      <td>United States</td>\n",
       "      <td>University of Akron</td>\n",
       "      <td>NaN</td>\n",
       "      <td>Accountancy (Accelerated BS )</td>\n",
       "      <td>MSc</td>\n",
       "      <td>English</td>\n",
       "      <td>6.5</td>\n",
       "      <td>Business Entity Taxation', 'Information System...</td>\n",
       "      <td>Academic Requirements      You need the fol...</td>\n",
       "      <td>Starting in   2018-01-10 00:00:00    You can a...</td>\n",
       "      <td>'Akron', 'United States'</td>\n",
       "      <td>802.0</td>\n",
       "      <td>International</td>\n",
       "      <td>Tuition (Credit)</td>\n",
       "      <td>24.0</td>\n",
       "      <td>NaN</td>\n",
       "      <td>University of Akron</td>\n",
       "      <td>State</td>\n",
       "    </tr>\n",
       "    <tr>\n",
       "      <th>2</th>\n",
       "      <td>United States</td>\n",
       "      <td>University of Akron</td>\n",
       "      <td>NaN</td>\n",
       "      <td>Information Systems Management</td>\n",
       "      <td>MSc</td>\n",
       "      <td>English</td>\n",
       "      <td>6.5</td>\n",
       "      <td>Business Database Systems', 'Knowledge Managem...</td>\n",
       "      <td>Academic Requirements      You need the fol...</td>\n",
       "      <td>Starting in   2018-01-10 00:00:00    You can a...</td>\n",
       "      <td>'Akron', 'United States'</td>\n",
       "      <td>802.0</td>\n",
       "      <td>International</td>\n",
       "      <td>Tuition (Credit)</td>\n",
       "      <td>24.0</td>\n",
       "      <td>NaN</td>\n",
       "      <td>University of Akron</td>\n",
       "      <td>State</td>\n",
       "    </tr>\n",
       "    <tr>\n",
       "      <th>3</th>\n",
       "      <td>United States</td>\n",
       "      <td>University of Akron</td>\n",
       "      <td>NaN</td>\n",
       "      <td>Master of Business Administration - Global Tec...</td>\n",
       "      <td>MBA</td>\n",
       "      <td>English</td>\n",
       "      <td>6.5</td>\n",
       "      <td>Financial Accounting', 'Managerial Finance', '...</td>\n",
       "      <td>Academic Requirements      You need the fol...</td>\n",
       "      <td>Starting in   2018-01-01 00:00:00    You can a...</td>\n",
       "      <td>'Akron', 'United States'</td>\n",
       "      <td>802.0</td>\n",
       "      <td>International</td>\n",
       "      <td>Tuition (Credit)</td>\n",
       "      <td>24.0</td>\n",
       "      <td>NaN</td>\n",
       "      <td>University of Akron</td>\n",
       "      <td>State</td>\n",
       "    </tr>\n",
       "    <tr>\n",
       "      <th>4</th>\n",
       "      <td>United States</td>\n",
       "      <td>University of Akron</td>\n",
       "      <td>NaN</td>\n",
       "      <td>Master of Business Administration - Strategic ...</td>\n",
       "      <td>MBA</td>\n",
       "      <td>English</td>\n",
       "      <td>6.5</td>\n",
       "      <td>Financial Accounting', 'Managerial Finance', '...</td>\n",
       "      <td>Academic Requirements      You need the fol...</td>\n",
       "      <td>Starting in   2018-01-01 00:00:00    You can a...</td>\n",
       "      <td>'Akron', 'United States'</td>\n",
       "      <td>802.0</td>\n",
       "      <td>International</td>\n",
       "      <td>Tuition (Credit)</td>\n",
       "      <td>24.0</td>\n",
       "      <td>NaN</td>\n",
       "      <td>University of Akron</td>\n",
       "      <td>State</td>\n",
       "    </tr>\n",
       "  </tbody>\n",
       "</table>\n",
       "</div>"
      ],
      "text/plain": [
       "    country_name      university_name  university_rank  \\\n",
       "0  United States  University of Akron              NaN   \n",
       "1  United States  University of Akron              NaN   \n",
       "2  United States  University of Akron              NaN   \n",
       "3  United States  University of Akron              NaN   \n",
       "4  United States  University of Akron              NaN   \n",
       "\n",
       "                                        program_name program_type language  \\\n",
       "0                                        Accountancy          MSc  English   \n",
       "1                      Accountancy (Accelerated BS )          MSc  English   \n",
       "2                     Information Systems Management          MSc  English   \n",
       "3  Master of Business Administration - Global Tec...          MBA  English   \n",
       "4  Master of Business Administration - Strategic ...          MBA  English   \n",
       "\n",
       "   ielts_score                                          structure  \\\n",
       "0          6.5  Enterprise Systems and Internal Control', 'Con...   \n",
       "1          6.5  Business Entity Taxation', 'Information System...   \n",
       "2          6.5  Business Database Systems', 'Knowledge Managem...   \n",
       "3          6.5  Financial Accounting', 'Managerial Finance', '...   \n",
       "4          6.5  Financial Accounting', 'Managerial Finance', '...   \n",
       "\n",
       "                                        academic_req  \\\n",
       "0     Academic Requirements      You need the fol...   \n",
       "1     Academic Requirements      You need the fol...   \n",
       "2     Academic Requirements      You need the fol...   \n",
       "3     Academic Requirements      You need the fol...   \n",
       "4     Academic Requirements      You need the fol...   \n",
       "\n",
       "                                               facts  \\\n",
       "0  Starting in   2018-08-10 00:00:00    You can a...   \n",
       "1  Starting in   2018-01-10 00:00:00    You can a...   \n",
       "2  Starting in   2018-01-10 00:00:00    You can a...   \n",
       "3  Starting in   2018-01-01 00:00:00    You can a...   \n",
       "4  Starting in   2018-01-01 00:00:00    You can a...   \n",
       "\n",
       "                       city  tuition_USD   tuition_type  \\\n",
       "0  'Akron', 'United States'        802.0  International   \n",
       "1  'Akron', 'United States'        802.0  International   \n",
       "2  'Akron', 'United States'        802.0  International   \n",
       "3  'Akron', 'United States'        802.0  International   \n",
       "4  'Akron', 'United States'        802.0  International   \n",
       "\n",
       "  tuition_price_specifications  duration_months  total_tuition_USD  \\\n",
       "0             Tuition (Credit)             24.0                NaN   \n",
       "1             Tuition (Credit)             24.0                NaN   \n",
       "2             Tuition (Credit)             24.0                NaN   \n",
       "3             Tuition (Credit)             24.0                NaN   \n",
       "4             Tuition (Credit)             24.0                NaN   \n",
       "\n",
       "           School Name School Type  \n",
       "0  University of Akron       State  \n",
       "1  University of Akron       State  \n",
       "2  University of Akron       State  \n",
       "3  University of Akron       State  \n",
       "4  University of Akron       State  "
      ]
     },
     "execution_count": 60,
     "metadata": {},
     "output_type": "execute_result"
    }
   ],
   "source": [
    "# Check\n",
    "US_Type.head()"
   ]
  },
  {
   "cell_type": "code",
   "execution_count": 61,
   "metadata": {},
   "outputs": [],
   "source": [
    "# Create dataset with School Type and Average Ielts score\n",
    "US_Type_Ielts = US_Type.groupby('School Type', as_index = False)['ielts_score'].mean()\n",
    "US_Type_Ielts = US_Type_Ielts.sort_values(by = ['ielts_score'], ascending = False)"
   ]
  },
  {
   "cell_type": "code",
   "execution_count": 62,
   "metadata": {},
   "outputs": [
    {
     "data": {
      "text/html": [
       "<div>\n",
       "<style scoped>\n",
       "    .dataframe tbody tr th:only-of-type {\n",
       "        vertical-align: middle;\n",
       "    }\n",
       "\n",
       "    .dataframe tbody tr th {\n",
       "        vertical-align: top;\n",
       "    }\n",
       "\n",
       "    .dataframe thead th {\n",
       "        text-align: right;\n",
       "    }\n",
       "</style>\n",
       "<table border=\"1\" class=\"dataframe\">\n",
       "  <thead>\n",
       "    <tr style=\"text-align: right;\">\n",
       "      <th></th>\n",
       "      <th>School Type</th>\n",
       "      <th>ielts_score</th>\n",
       "    </tr>\n",
       "  </thead>\n",
       "  <tbody>\n",
       "    <tr>\n",
       "      <th>1</th>\n",
       "      <td>Ivy League</td>\n",
       "      <td>7.171756</td>\n",
       "    </tr>\n",
       "    <tr>\n",
       "      <th>2</th>\n",
       "      <td>Liberal Arts</td>\n",
       "      <td>6.765625</td>\n",
       "    </tr>\n",
       "    <tr>\n",
       "      <th>0</th>\n",
       "      <td>Engineering</td>\n",
       "      <td>6.625000</td>\n",
       "    </tr>\n",
       "    <tr>\n",
       "      <th>4</th>\n",
       "      <td>State</td>\n",
       "      <td>6.462747</td>\n",
       "    </tr>\n",
       "    <tr>\n",
       "      <th>3</th>\n",
       "      <td>Party</td>\n",
       "      <td>6.386525</td>\n",
       "    </tr>\n",
       "  </tbody>\n",
       "</table>\n",
       "</div>"
      ],
      "text/plain": [
       "    School Type  ielts_score\n",
       "1    Ivy League     7.171756\n",
       "2  Liberal Arts     6.765625\n",
       "0   Engineering     6.625000\n",
       "4         State     6.462747\n",
       "3         Party     6.386525"
      ]
     },
     "execution_count": 62,
     "metadata": {},
     "output_type": "execute_result"
    }
   ],
   "source": [
    "# Check\n",
    "US_Type_Ielts"
   ]
  },
  {
   "cell_type": "code",
   "execution_count": 63,
   "metadata": {},
   "outputs": [
    {
     "data": {
      "text/plain": [
       "(6, 7.25)"
      ]
     },
     "execution_count": 63,
     "metadata": {},
     "output_type": "execute_result"
    },
    {
     "data": {
      "image/png": "[encoded data removed]",
      "text/plain": [
       "<Figure size 1080x360 with 1 Axes>"
      ]
     },
     "metadata": {
      "needs_background": "light"
     },
     "output_type": "display_data"
    }
   ],
   "source": [
    "# Plot\n",
    "sns.catplot(y = 'ielts_score', x = 'School Type', data = US_Type_Ielts,\\\n",
    "            aspect = 3, kind = 'bar')\n",
    "plt.ylim([6, 7.25])"
   ]
  },
  {
   "cell_type": "markdown",
   "metadata": {},
   "source": [
    "**Conclusion/Insights:** For a student who wants to apply to Ivy League schools in the Northeastern United States (NY, MD, RI), they should have an IELTS Score of at least 7.  Especially if the student wants to apply to a Finance, Philosophy, or Statistic program.  If the IELTS Score is around 6.5, prospective student should consider applying to State and Party schools in the Southeastern United States (AL, FL, TN) for a better chance at admission. "
   ]
  },
  {
   "cell_type": "markdown",
   "metadata": {},
   "source": [
    "## 3.2 Finding 2: Choosing a Place to Study as an International Student in the US\n",
    "**Summary:** Here we will be looking for the best \"bang for the buck\" for international students studying in the US based on IELTS score requirements, university rank and total tuition."
   ]
  },
  {
   "cell_type": "markdown",
   "metadata": {},
   "source": [
    "Merge dfUS with dataset containing university states."
   ]
  },
  {
   "cell_type": "code",
   "execution_count": 64,
   "metadata": {},
   "outputs": [],
   "source": [
    "# Load dataset containing universities and the states they are located in\n",
    "# From https://www.kaggle.com/ghalebdweikat/accredited-universities-in-the-usa\n",
    "df_states = pd.read_csv('Accreditation_04_2017.csv', usecols = [1, 4])"
   ]
  },
  {
   "cell_type": "code",
   "execution_count": 65,
   "metadata": {},
   "outputs": [],
   "source": [
    "# Drop duplicate universities\n",
    "df_states.drop_duplicates(subset = 'Institution_Name', inplace = True)"
   ]
  },
  {
   "cell_type": "code",
   "execution_count": 66,
   "metadata": {},
   "outputs": [],
   "source": [
    "# Inner merge with dfUS matching the university names\n",
    "dfUS2 = dfUS.merge(df_states, left_on = 'university_name', right_on = 'Institution_Name', how = 'left')"
   ]
  },
  {
   "cell_type": "markdown",
   "metadata": {},
   "source": [
    "### 3.2.1 Top ten states providing the most programs and their average language requirement for international students"
   ]
  },
  {
   "cell_type": "code",
   "execution_count": 67,
   "metadata": {},
   "outputs": [],
   "source": [
    "# Subset dfUS2 to only show rows with international tuition\n",
    "dfUS2 = dfUS2[dfUS2.tuition_type == 'International']"
   ]
  },
  {
   "cell_type": "code",
   "execution_count": 68,
   "metadata": {},
   "outputs": [],
   "source": [
    "# Prepare dataframe for heatmap\n",
    "df_I2 = dfUS2.groupby('Institution_State').agg({'program_name':'count','ielts_score':'mean'}). \\\n",
    "                rename(columns = {\"program_name\": \"program_num\", \"ielts_score\": \"avg_ielts_score\"}). \\\n",
    "                sort_values(by = \"program_num\",ascending = False).head(10)"
   ]
  },
  {
   "cell_type": "code",
   "execution_count": 69,
   "metadata": {},
   "outputs": [
    {
     "data": {
      "text/html": [
       "<div>\n",
       "<style scoped>\n",
       "    .dataframe tbody tr th:only-of-type {\n",
       "        vertical-align: middle;\n",
       "    }\n",
       "\n",
       "    .dataframe tbody tr th {\n",
       "        vertical-align: top;\n",
       "    }\n",
       "\n",
       "    .dataframe thead th {\n",
       "        text-align: right;\n",
       "    }\n",
       "</style>\n",
       "<table border=\"1\" class=\"dataframe\">\n",
       "  <thead>\n",
       "    <tr style=\"text-align: right;\">\n",
       "      <th></th>\n",
       "      <th>program_num</th>\n",
       "      <th>avg_ielts_score</th>\n",
       "    </tr>\n",
       "    <tr>\n",
       "      <th>Institution_State</th>\n",
       "      <th></th>\n",
       "      <th></th>\n",
       "    </tr>\n",
       "  </thead>\n",
       "  <tbody>\n",
       "    <tr>\n",
       "      <th>NY</th>\n",
       "      <td>990</td>\n",
       "      <td>6.792440</td>\n",
       "    </tr>\n",
       "    <tr>\n",
       "      <th>TX</th>\n",
       "      <td>932</td>\n",
       "      <td>6.477778</td>\n",
       "    </tr>\n",
       "    <tr>\n",
       "      <th>OH</th>\n",
       "      <td>851</td>\n",
       "      <td>6.422709</td>\n",
       "    </tr>\n",
       "    <tr>\n",
       "      <th>FL</th>\n",
       "      <td>785</td>\n",
       "      <td>6.320280</td>\n",
       "    </tr>\n",
       "    <tr>\n",
       "      <th>CA</th>\n",
       "      <td>768</td>\n",
       "      <td>6.632062</td>\n",
       "    </tr>\n",
       "    <tr>\n",
       "      <th>PA</th>\n",
       "      <td>720</td>\n",
       "      <td>6.543307</td>\n",
       "    </tr>\n",
       "    <tr>\n",
       "      <th>MA</th>\n",
       "      <td>707</td>\n",
       "      <td>6.668605</td>\n",
       "    </tr>\n",
       "    <tr>\n",
       "      <th>VA</th>\n",
       "      <td>510</td>\n",
       "      <td>6.571942</td>\n",
       "    </tr>\n",
       "    <tr>\n",
       "      <th>NJ</th>\n",
       "      <td>483</td>\n",
       "      <td>6.197531</td>\n",
       "    </tr>\n",
       "    <tr>\n",
       "      <th>MI</th>\n",
       "      <td>454</td>\n",
       "      <td>6.491758</td>\n",
       "    </tr>\n",
       "  </tbody>\n",
       "</table>\n",
       "</div>"
      ],
      "text/plain": [
       "                   program_num  avg_ielts_score\n",
       "Institution_State                              \n",
       "NY                         990         6.792440\n",
       "TX                         932         6.477778\n",
       "OH                         851         6.422709\n",
       "FL                         785         6.320280\n",
       "CA                         768         6.632062\n",
       "PA                         720         6.543307\n",
       "MA                         707         6.668605\n",
       "VA                         510         6.571942\n",
       "NJ                         483         6.197531\n",
       "MI                         454         6.491758"
      ]
     },
     "execution_count": 69,
     "metadata": {},
     "output_type": "execute_result"
    }
   ],
   "source": [
    "# Check\n",
    "df_I2"
   ]
  },
  {
   "cell_type": "markdown",
   "metadata": {},
   "source": [
    "From the table above, we can see that the language requirement is almost the same (around 6.5) for the top ten states which provide the most programs.  So, we will focus more on university rank and tuition within these states..."
   ]
  },
  {
   "cell_type": "markdown",
   "metadata": {},
   "source": [
    "### 3.2.2 University rank VS total tution for international students"
   ]
  },
  {
   "cell_type": "code",
   "execution_count": 70,
   "metadata": {},
   "outputs": [
    {
     "data": {
      "text/plain": [
       "<matplotlib.axes._subplots.AxesSubplot at 0x1a1d942630>"
      ]
     },
     "execution_count": 70,
     "metadata": {},
     "output_type": "execute_result"
    },
    {
     "data": {
      "image/png": "[encoded data removed]",
      "text/plain": [
       "<Figure size 1440x720 with 2 Axes>"
      ]
     },
     "metadata": {
      "needs_background": "light"
     },
     "output_type": "display_data"
    }
   ],
   "source": [
    "# Heatmap\n",
    "State = df_I2.index\n",
    "df2 = dfUS2[dfUS2.Institution_State.apply(lambda x: x in State)]\n",
    "df2['university_rank_EW'] = pd.cut(df2.university_rank, 9)\n",
    "groupby_cs = df2.groupby(['university_rank_EW', 'Institution_State'])['total_tuition_USD'].mean()\n",
    "plt.subplots(figsize = (20, 10))\n",
    "sns.heatmap(groupby_cs.unstack(), annot = True)"
   ]
  },
  {
   "cell_type": "markdown",
   "metadata": {},
   "source": [
    "We can see that FL has one of the best deals in terms of highest ranking and lowest tuition combination, so let's take a closer look at the universities in FL..."
   ]
  },
  {
   "cell_type": "markdown",
   "metadata": {},
   "source": [
    "###  3.2.3 Top three best cost performance univiersities for the international student in FL"
   ]
  },
  {
   "cell_type": "code",
   "execution_count": 71,
   "metadata": {},
   "outputs": [
    {
     "data": {
      "text/plain": [
       "<seaborn.axisgrid.FacetGrid at 0x1a22a25828>"
      ]
     },
     "execution_count": 71,
     "metadata": {},
     "output_type": "execute_result"
    },
    {
     "data": {
      "image/png": "[encoded data removed]",
      "text/plain": [
       "<Figure size 720x360 with 1 Axes>"
      ]
     },
     "metadata": {
      "needs_background": "light"
     },
     "output_type": "display_data"
    }
   ],
   "source": [
    "# Plot\n",
    "df_FL = dfUS2[(dfUS2.Institution_State.apply(lambda x: x == 'FL')) & (dfUS2.university_rank < 300)]\n",
    "df_FL = pd.DataFrame(df_FL.groupby('university_name').total_tuition_USD.mean().nsmallest(3))\n",
    "df_FL.reset_index(inplace = True)\n",
    "sns.catplot(y = 'university_name', x = 'total_tuition_USD', data = df_FL, aspect = 2, kind = 'bar')"
   ]
  },
  {
   "cell_type": "markdown",
   "metadata": {},
   "source": [
    "**Conclusion/Insights:** Narrowing down universities based on IELTS score requirements, then rank and total tuition, University of Florida and University of South Florida are the best cost performance univeristies for international students looking to study in the US."
   ]
  },
  {
   "cell_type": "markdown",
   "metadata": {},
   "source": [
    "## 3.3 Finding 3: Choosing a School Based on Your Potential Future Salary\n",
    "**Summary:** Here we will be identifying the important factors in choosing a university with the goal of having a future starting salary of at least $50,000."
   ]
  },
  {
   "cell_type": "markdown",
   "metadata": {},
   "source": [
    "Merge dfUS with dataset on starting median salaries by univeristy."
   ]
  },
  {
   "cell_type": "code",
   "execution_count": 72,
   "metadata": {},
   "outputs": [],
   "source": [
    "# Load dataset containing universities and the starting median salaries of students graduating from them\n",
    "# Link to Kaggle: https://www.kaggle.com/wsj/college-salaries#salaries-by-college-type.csv\n",
    "df_salaries = pd.read_csv('salaries-by-college-type.csv', usecols = [0, 1, 2])"
   ]
  },
  {
   "cell_type": "code",
   "execution_count": 73,
   "metadata": {},
   "outputs": [
    {
     "data": {
      "text/plain": [
       "(269, 3)"
      ]
     },
     "execution_count": 73,
     "metadata": {},
     "output_type": "execute_result"
    }
   ],
   "source": [
    "df_salaries.shape"
   ]
  },
  {
   "cell_type": "code",
   "execution_count": 74,
   "metadata": {},
   "outputs": [
    {
     "data": {
      "text/html": [
       "<div>\n",
       "<style scoped>\n",
       "    .dataframe tbody tr th:only-of-type {\n",
       "        vertical-align: middle;\n",
       "    }\n",
       "\n",
       "    .dataframe tbody tr th {\n",
       "        vertical-align: top;\n",
       "    }\n",
       "\n",
       "    .dataframe thead th {\n",
       "        text-align: right;\n",
       "    }\n",
       "</style>\n",
       "<table border=\"1\" class=\"dataframe\">\n",
       "  <thead>\n",
       "    <tr style=\"text-align: right;\">\n",
       "      <th></th>\n",
       "      <th>School Name</th>\n",
       "      <th>School Type</th>\n",
       "      <th>Starting Median Salary</th>\n",
       "    </tr>\n",
       "  </thead>\n",
       "  <tbody>\n",
       "    <tr>\n",
       "      <th>0</th>\n",
       "      <td>Massachusetts Institute of Technology (MIT)</td>\n",
       "      <td>Engineering</td>\n",
       "      <td>$72,200.00</td>\n",
       "    </tr>\n",
       "    <tr>\n",
       "      <th>1</th>\n",
       "      <td>California Institute of Technology (CIT)</td>\n",
       "      <td>Engineering</td>\n",
       "      <td>$75,500.00</td>\n",
       "    </tr>\n",
       "    <tr>\n",
       "      <th>2</th>\n",
       "      <td>Harvey Mudd College</td>\n",
       "      <td>Engineering</td>\n",
       "      <td>$71,800.00</td>\n",
       "    </tr>\n",
       "    <tr>\n",
       "      <th>3</th>\n",
       "      <td>Polytechnic University of New York, Brooklyn</td>\n",
       "      <td>Engineering</td>\n",
       "      <td>$62,400.00</td>\n",
       "    </tr>\n",
       "    <tr>\n",
       "      <th>4</th>\n",
       "      <td>Cooper Union</td>\n",
       "      <td>Engineering</td>\n",
       "      <td>$62,200.00</td>\n",
       "    </tr>\n",
       "  </tbody>\n",
       "</table>\n",
       "</div>"
      ],
      "text/plain": [
       "                                    School Name  School Type  \\\n",
       "0   Massachusetts Institute of Technology (MIT)  Engineering   \n",
       "1      California Institute of Technology (CIT)  Engineering   \n",
       "2                           Harvey Mudd College  Engineering   \n",
       "3  Polytechnic University of New York, Brooklyn  Engineering   \n",
       "4                                  Cooper Union  Engineering   \n",
       "\n",
       "  Starting Median Salary  \n",
       "0             $72,200.00  \n",
       "1             $75,500.00  \n",
       "2             $71,800.00  \n",
       "3             $62,400.00  \n",
       "4             $62,200.00  "
      ]
     },
     "execution_count": 74,
     "metadata": {},
     "output_type": "execute_result"
    }
   ],
   "source": [
    "df_salaries.head()"
   ]
  },
  {
   "cell_type": "code",
   "execution_count": 75,
   "metadata": {},
   "outputs": [],
   "source": [
    "# Drop duplicate universities if any\n",
    "df_salaries.drop_duplicates(subset = 'School Name', inplace = True)"
   ]
  },
  {
   "cell_type": "code",
   "execution_count": 76,
   "metadata": {},
   "outputs": [
    {
     "data": {
      "text/plain": [
       "(249, 3)"
      ]
     },
     "execution_count": 76,
     "metadata": {},
     "output_type": "execute_result"
    }
   ],
   "source": [
    "df_salaries.shape"
   ]
  },
  {
   "cell_type": "code",
   "execution_count": 77,
   "metadata": {},
   "outputs": [
    {
     "data": {
      "text/plain": [
       "48168"
      ]
     },
     "execution_count": 77,
     "metadata": {},
     "output_type": "execute_result"
    }
   ],
   "source": [
    "len(dfUS)"
   ]
  },
  {
   "cell_type": "code",
   "execution_count": 78,
   "metadata": {},
   "outputs": [
    {
     "data": {
      "text/plain": [
       "249"
      ]
     },
     "execution_count": 78,
     "metadata": {},
     "output_type": "execute_result"
    }
   ],
   "source": [
    "len(df_salaries)"
   ]
  },
  {
   "cell_type": "code",
   "execution_count": 79,
   "metadata": {},
   "outputs": [],
   "source": [
    "# Merge dfUS with df_salaries\n",
    "df_tree = dfUS.merge(df_salaries, left_on = 'university_name', right_on = 'School Name', how = 'inner')"
   ]
  },
  {
   "cell_type": "code",
   "execution_count": 80,
   "metadata": {},
   "outputs": [
    {
     "data": {
      "text/plain": [
       "6920"
      ]
     },
     "execution_count": 80,
     "metadata": {},
     "output_type": "execute_result"
    }
   ],
   "source": [
    "len(df_tree)"
   ]
  },
  {
   "cell_type": "markdown",
   "metadata": {},
   "source": [
    "Clean/prepare for decision tree."
   ]
  },
  {
   "cell_type": "markdown",
   "metadata": {},
   "source": [
    "Drop useless columns."
   ]
  },
  {
   "cell_type": "code",
   "execution_count": 81,
   "metadata": {},
   "outputs": [],
   "source": [
    "df_tree.drop(['country_name', 'university_name', 'program_type', 'language', 'structure', \\\n",
    "              'academic_req', 'facts', 'city', 'tuition_USD', 'tuition_price_specifications', \\\n",
    "              'School Name'], \\\n",
    "             axis = 1, inplace = True)"
   ]
  },
  {
   "cell_type": "code",
   "execution_count": 82,
   "metadata": {},
   "outputs": [
    {
     "data": {
      "text/html": [
       "<div>\n",
       "<style scoped>\n",
       "    .dataframe tbody tr th:only-of-type {\n",
       "        vertical-align: middle;\n",
       "    }\n",
       "\n",
       "    .dataframe tbody tr th {\n",
       "        vertical-align: top;\n",
       "    }\n",
       "\n",
       "    .dataframe thead th {\n",
       "        text-align: right;\n",
       "    }\n",
       "</style>\n",
       "<table border=\"1\" class=\"dataframe\">\n",
       "  <thead>\n",
       "    <tr style=\"text-align: right;\">\n",
       "      <th></th>\n",
       "      <th>university_rank</th>\n",
       "      <th>program_name</th>\n",
       "      <th>ielts_score</th>\n",
       "      <th>tuition_type</th>\n",
       "      <th>duration_months</th>\n",
       "      <th>total_tuition_USD</th>\n",
       "      <th>School Type</th>\n",
       "      <th>Starting Median Salary</th>\n",
       "    </tr>\n",
       "  </thead>\n",
       "  <tbody>\n",
       "    <tr>\n",
       "      <th>0</th>\n",
       "      <td>NaN</td>\n",
       "      <td>Accountancy</td>\n",
       "      <td>6.5</td>\n",
       "      <td>International</td>\n",
       "      <td>24.0</td>\n",
       "      <td>NaN</td>\n",
       "      <td>State</td>\n",
       "      <td>$41,100.00</td>\n",
       "    </tr>\n",
       "  </tbody>\n",
       "</table>\n",
       "</div>"
      ],
      "text/plain": [
       "   university_rank program_name  ielts_score   tuition_type  duration_months  \\\n",
       "0              NaN  Accountancy          6.5  International             24.0   \n",
       "\n",
       "   total_tuition_USD School Type Starting Median Salary  \n",
       "0                NaN       State             $41,100.00  "
      ]
     },
     "execution_count": 82,
     "metadata": {},
     "output_type": "execute_result"
    }
   ],
   "source": [
    "df_tree.head(1)"
   ]
  },
  {
   "cell_type": "markdown",
   "metadata": {},
   "source": [
    "Clean Starting Median Salary column so it is type float."
   ]
  },
  {
   "cell_type": "code",
   "execution_count": 83,
   "metadata": {},
   "outputs": [],
   "source": [
    "df_tree['Starting Median Salary'] = df_tree['Starting Median Salary'].apply(lambda x: x.replace(',', ''))"
   ]
  },
  {
   "cell_type": "code",
   "execution_count": 84,
   "metadata": {},
   "outputs": [],
   "source": [
    "df_tree['Starting Median Salary'] = df_tree['Starting Median Salary'].apply(lambda x: float(x.replace('$', '')))"
   ]
  },
  {
   "cell_type": "code",
   "execution_count": 85,
   "metadata": {},
   "outputs": [
    {
     "data": {
      "text/plain": [
       "0    41100.0\n",
       "1    41100.0\n",
       "2    41100.0\n",
       "3    41100.0\n",
       "4    41100.0\n",
       "Name: Starting Median Salary, dtype: float64"
      ]
     },
     "execution_count": 85,
     "metadata": {},
     "output_type": "execute_result"
    }
   ],
   "source": [
    "# Check\n",
    "df_tree['Starting Median Salary'].head()"
   ]
  },
  {
   "cell_type": "markdown",
   "metadata": {},
   "source": [
    "Make Starting Median Salary binary."
   ]
  },
  {
   "cell_type": "code",
   "execution_count": 86,
   "metadata": {},
   "outputs": [],
   "source": [
    "df_tree['StartingMedianSalary>=50000'] = df_tree['Starting Median Salary']. \\\n",
    "    apply(lambda x: 1.0 if x >= 50000 else 0)"
   ]
  },
  {
   "cell_type": "code",
   "execution_count": 87,
   "metadata": {},
   "outputs": [],
   "source": [
    "df_tree.drop('Starting Median Salary', axis = 1, inplace = True)"
   ]
  },
  {
   "cell_type": "code",
   "execution_count": 88,
   "metadata": {},
   "outputs": [
    {
     "data": {
      "text/html": [
       "<div>\n",
       "<style scoped>\n",
       "    .dataframe tbody tr th:only-of-type {\n",
       "        vertical-align: middle;\n",
       "    }\n",
       "\n",
       "    .dataframe tbody tr th {\n",
       "        vertical-align: top;\n",
       "    }\n",
       "\n",
       "    .dataframe thead th {\n",
       "        text-align: right;\n",
       "    }\n",
       "</style>\n",
       "<table border=\"1\" class=\"dataframe\">\n",
       "  <thead>\n",
       "    <tr style=\"text-align: right;\">\n",
       "      <th></th>\n",
       "      <th>university_rank</th>\n",
       "      <th>program_name</th>\n",
       "      <th>ielts_score</th>\n",
       "      <th>tuition_type</th>\n",
       "      <th>duration_months</th>\n",
       "      <th>total_tuition_USD</th>\n",
       "      <th>School Type</th>\n",
       "      <th>StartingMedianSalary&gt;=50000</th>\n",
       "    </tr>\n",
       "  </thead>\n",
       "  <tbody>\n",
       "    <tr>\n",
       "      <th>0</th>\n",
       "      <td>NaN</td>\n",
       "      <td>Accountancy</td>\n",
       "      <td>6.5</td>\n",
       "      <td>International</td>\n",
       "      <td>24.0</td>\n",
       "      <td>NaN</td>\n",
       "      <td>State</td>\n",
       "      <td>0.0</td>\n",
       "    </tr>\n",
       "    <tr>\n",
       "      <th>1</th>\n",
       "      <td>NaN</td>\n",
       "      <td>Accountancy (Accelerated BS )</td>\n",
       "      <td>6.5</td>\n",
       "      <td>International</td>\n",
       "      <td>24.0</td>\n",
       "      <td>NaN</td>\n",
       "      <td>State</td>\n",
       "      <td>0.0</td>\n",
       "    </tr>\n",
       "    <tr>\n",
       "      <th>2</th>\n",
       "      <td>NaN</td>\n",
       "      <td>Information Systems Management</td>\n",
       "      <td>6.5</td>\n",
       "      <td>International</td>\n",
       "      <td>24.0</td>\n",
       "      <td>NaN</td>\n",
       "      <td>State</td>\n",
       "      <td>0.0</td>\n",
       "    </tr>\n",
       "    <tr>\n",
       "      <th>3</th>\n",
       "      <td>NaN</td>\n",
       "      <td>Master of Business Administration - Global Tec...</td>\n",
       "      <td>6.5</td>\n",
       "      <td>International</td>\n",
       "      <td>24.0</td>\n",
       "      <td>NaN</td>\n",
       "      <td>State</td>\n",
       "      <td>0.0</td>\n",
       "    </tr>\n",
       "    <tr>\n",
       "      <th>4</th>\n",
       "      <td>NaN</td>\n",
       "      <td>Master of Business Administration - Strategic ...</td>\n",
       "      <td>6.5</td>\n",
       "      <td>International</td>\n",
       "      <td>24.0</td>\n",
       "      <td>NaN</td>\n",
       "      <td>State</td>\n",
       "      <td>0.0</td>\n",
       "    </tr>\n",
       "  </tbody>\n",
       "</table>\n",
       "</div>"
      ],
      "text/plain": [
       "   university_rank                                       program_name  \\\n",
       "0              NaN                                        Accountancy   \n",
       "1              NaN                      Accountancy (Accelerated BS )   \n",
       "2              NaN                     Information Systems Management   \n",
       "3              NaN  Master of Business Administration - Global Tec...   \n",
       "4              NaN  Master of Business Administration - Strategic ...   \n",
       "\n",
       "   ielts_score   tuition_type  duration_months  total_tuition_USD School Type  \\\n",
       "0          6.5  International             24.0                NaN       State   \n",
       "1          6.5  International             24.0                NaN       State   \n",
       "2          6.5  International             24.0                NaN       State   \n",
       "3          6.5  International             24.0                NaN       State   \n",
       "4          6.5  International             24.0                NaN       State   \n",
       "\n",
       "   StartingMedianSalary>=50000  \n",
       "0                          0.0  \n",
       "1                          0.0  \n",
       "2                          0.0  \n",
       "3                          0.0  \n",
       "4                          0.0  "
      ]
     },
     "execution_count": 88,
     "metadata": {},
     "output_type": "execute_result"
    }
   ],
   "source": [
    "df_tree.head()"
   ]
  },
  {
   "cell_type": "markdown",
   "metadata": {},
   "source": [
    "Because many missing values, make university rank binary."
   ]
  },
  {
   "cell_type": "code",
   "execution_count": 89,
   "metadata": {},
   "outputs": [],
   "source": [
    "df_tree['university_rank_top100'] = df_tree.university_rank.apply(lambda x: 1 if x < 100 else 0)"
   ]
  },
  {
   "cell_type": "code",
   "execution_count": 90,
   "metadata": {},
   "outputs": [
    {
     "data": {
      "text/html": [
       "<div>\n",
       "<style scoped>\n",
       "    .dataframe tbody tr th:only-of-type {\n",
       "        vertical-align: middle;\n",
       "    }\n",
       "\n",
       "    .dataframe tbody tr th {\n",
       "        vertical-align: top;\n",
       "    }\n",
       "\n",
       "    .dataframe thead th {\n",
       "        text-align: right;\n",
       "    }\n",
       "</style>\n",
       "<table border=\"1\" class=\"dataframe\">\n",
       "  <thead>\n",
       "    <tr style=\"text-align: right;\">\n",
       "      <th></th>\n",
       "      <th>university_rank</th>\n",
       "      <th>program_name</th>\n",
       "      <th>ielts_score</th>\n",
       "      <th>tuition_type</th>\n",
       "      <th>duration_months</th>\n",
       "      <th>total_tuition_USD</th>\n",
       "      <th>School Type</th>\n",
       "      <th>StartingMedianSalary&gt;=50000</th>\n",
       "      <th>university_rank_top100</th>\n",
       "    </tr>\n",
       "  </thead>\n",
       "  <tbody>\n",
       "    <tr>\n",
       "      <th>0</th>\n",
       "      <td>NaN</td>\n",
       "      <td>Accountancy</td>\n",
       "      <td>6.5</td>\n",
       "      <td>International</td>\n",
       "      <td>24.0</td>\n",
       "      <td>NaN</td>\n",
       "      <td>State</td>\n",
       "      <td>0.0</td>\n",
       "      <td>0</td>\n",
       "    </tr>\n",
       "    <tr>\n",
       "      <th>1</th>\n",
       "      <td>NaN</td>\n",
       "      <td>Accountancy (Accelerated BS )</td>\n",
       "      <td>6.5</td>\n",
       "      <td>International</td>\n",
       "      <td>24.0</td>\n",
       "      <td>NaN</td>\n",
       "      <td>State</td>\n",
       "      <td>0.0</td>\n",
       "      <td>0</td>\n",
       "    </tr>\n",
       "    <tr>\n",
       "      <th>2</th>\n",
       "      <td>NaN</td>\n",
       "      <td>Information Systems Management</td>\n",
       "      <td>6.5</td>\n",
       "      <td>International</td>\n",
       "      <td>24.0</td>\n",
       "      <td>NaN</td>\n",
       "      <td>State</td>\n",
       "      <td>0.0</td>\n",
       "      <td>0</td>\n",
       "    </tr>\n",
       "    <tr>\n",
       "      <th>3</th>\n",
       "      <td>NaN</td>\n",
       "      <td>Master of Business Administration - Global Tec...</td>\n",
       "      <td>6.5</td>\n",
       "      <td>International</td>\n",
       "      <td>24.0</td>\n",
       "      <td>NaN</td>\n",
       "      <td>State</td>\n",
       "      <td>0.0</td>\n",
       "      <td>0</td>\n",
       "    </tr>\n",
       "    <tr>\n",
       "      <th>4</th>\n",
       "      <td>NaN</td>\n",
       "      <td>Master of Business Administration - Strategic ...</td>\n",
       "      <td>6.5</td>\n",
       "      <td>International</td>\n",
       "      <td>24.0</td>\n",
       "      <td>NaN</td>\n",
       "      <td>State</td>\n",
       "      <td>0.0</td>\n",
       "      <td>0</td>\n",
       "    </tr>\n",
       "  </tbody>\n",
       "</table>\n",
       "</div>"
      ],
      "text/plain": [
       "   university_rank                                       program_name  \\\n",
       "0              NaN                                        Accountancy   \n",
       "1              NaN                      Accountancy (Accelerated BS )   \n",
       "2              NaN                     Information Systems Management   \n",
       "3              NaN  Master of Business Administration - Global Tec...   \n",
       "4              NaN  Master of Business Administration - Strategic ...   \n",
       "\n",
       "   ielts_score   tuition_type  duration_months  total_tuition_USD School Type  \\\n",
       "0          6.5  International             24.0                NaN       State   \n",
       "1          6.5  International             24.0                NaN       State   \n",
       "2          6.5  International             24.0                NaN       State   \n",
       "3          6.5  International             24.0                NaN       State   \n",
       "4          6.5  International             24.0                NaN       State   \n",
       "\n",
       "   StartingMedianSalary>=50000  university_rank_top100  \n",
       "0                          0.0                       0  \n",
       "1                          0.0                       0  \n",
       "2                          0.0                       0  \n",
       "3                          0.0                       0  \n",
       "4                          0.0                       0  "
      ]
     },
     "execution_count": 90,
     "metadata": {},
     "output_type": "execute_result"
    }
   ],
   "source": [
    "df_tree.head()"
   ]
  },
  {
   "cell_type": "code",
   "execution_count": 91,
   "metadata": {},
   "outputs": [],
   "source": [
    "df_tree.drop('university_rank', axis = 1, inplace = True)"
   ]
  },
  {
   "cell_type": "markdown",
   "metadata": {},
   "source": [
    "Drop rows with missing values."
   ]
  },
  {
   "cell_type": "code",
   "execution_count": 92,
   "metadata": {},
   "outputs": [
    {
     "data": {
      "text/plain": [
       "2110"
      ]
     },
     "execution_count": 92,
     "metadata": {},
     "output_type": "execute_result"
    }
   ],
   "source": [
    "len(df_tree.dropna(subset = ['total_tuition_USD', 'duration_months', 'ielts_score']))"
   ]
  },
  {
   "cell_type": "code",
   "execution_count": 93,
   "metadata": {},
   "outputs": [
    {
     "data": {
      "text/plain": [
       "6920"
      ]
     },
     "execution_count": 93,
     "metadata": {},
     "output_type": "execute_result"
    }
   ],
   "source": [
    "len(df_tree)"
   ]
  },
  {
   "cell_type": "code",
   "execution_count": 94,
   "metadata": {},
   "outputs": [],
   "source": [
    "df_tree.dropna(subset = ['total_tuition_USD', 'duration_months', 'ielts_score'], inplace = True)"
   ]
  },
  {
   "cell_type": "code",
   "execution_count": 95,
   "metadata": {},
   "outputs": [
    {
     "data": {
      "text/plain": [
       "program_name                   False\n",
       "ielts_score                    False\n",
       "tuition_type                   False\n",
       "duration_months                False\n",
       "total_tuition_USD              False\n",
       "School Type                    False\n",
       "StartingMedianSalary>=50000    False\n",
       "university_rank_top100         False\n",
       "dtype: bool"
      ]
     },
     "execution_count": 95,
     "metadata": {},
     "output_type": "execute_result"
    }
   ],
   "source": [
    "df_tree.isna().any()"
   ]
  },
  {
   "cell_type": "code",
   "execution_count": 96,
   "metadata": {},
   "outputs": [
    {
     "data": {
      "text/html": [
       "<div>\n",
       "<style scoped>\n",
       "    .dataframe tbody tr th:only-of-type {\n",
       "        vertical-align: middle;\n",
       "    }\n",
       "\n",
       "    .dataframe tbody tr th {\n",
       "        vertical-align: top;\n",
       "    }\n",
       "\n",
       "    .dataframe thead th {\n",
       "        text-align: right;\n",
       "    }\n",
       "</style>\n",
       "<table border=\"1\" class=\"dataframe\">\n",
       "  <thead>\n",
       "    <tr style=\"text-align: right;\">\n",
       "      <th></th>\n",
       "      <th>program_name</th>\n",
       "      <th>ielts_score</th>\n",
       "      <th>tuition_type</th>\n",
       "      <th>duration_months</th>\n",
       "      <th>total_tuition_USD</th>\n",
       "      <th>School Type</th>\n",
       "      <th>StartingMedianSalary&gt;=50000</th>\n",
       "      <th>university_rank_top100</th>\n",
       "    </tr>\n",
       "  </thead>\n",
       "  <tbody>\n",
       "    <tr>\n",
       "      <th>69</th>\n",
       "      <td>Sport ScienceCoaching</td>\n",
       "      <td>6.5</td>\n",
       "      <td>International</td>\n",
       "      <td>24.0</td>\n",
       "      <td>53344.0</td>\n",
       "      <td>State</td>\n",
       "      <td>0.0</td>\n",
       "      <td>0</td>\n",
       "    </tr>\n",
       "  </tbody>\n",
       "</table>\n",
       "</div>"
      ],
      "text/plain": [
       "             program_name  ielts_score   tuition_type  duration_months  \\\n",
       "69  Sport ScienceCoaching          6.5  International             24.0   \n",
       "\n",
       "    total_tuition_USD School Type  StartingMedianSalary>=50000  \\\n",
       "69            53344.0       State                          0.0   \n",
       "\n",
       "    university_rank_top100  \n",
       "69                       0  "
      ]
     },
     "execution_count": 96,
     "metadata": {},
     "output_type": "execute_result"
    }
   ],
   "source": [
    "df_tree.head(1)"
   ]
  },
  {
   "cell_type": "markdown",
   "metadata": {},
   "source": [
    "Make dummy variables for all categorical variables."
   ]
  },
  {
   "cell_type": "code",
   "execution_count": 97,
   "metadata": {},
   "outputs": [],
   "source": [
    "df_tree = pd.get_dummies(df_tree, columns = ['program_name', 'tuition_type', 'School Type'])"
   ]
  },
  {
   "cell_type": "code",
   "execution_count": 98,
   "metadata": {},
   "outputs": [
    {
     "data": {
      "text/plain": [
       "(2110, 756)"
      ]
     },
     "execution_count": 98,
     "metadata": {},
     "output_type": "execute_result"
    }
   ],
   "source": [
    "df_tree.shape"
   ]
  },
  {
   "cell_type": "markdown",
   "metadata": {},
   "source": [
    "Train the decision tree."
   ]
  },
  {
   "cell_type": "code",
   "execution_count": 99,
   "metadata": {},
   "outputs": [],
   "source": [
    "dt = tree.DecisionTreeClassifier(max_depth = 2)"
   ]
  },
  {
   "cell_type": "code",
   "execution_count": 100,
   "metadata": {},
   "outputs": [
    {
     "data": {
      "text/plain": [
       "sklearn.tree.tree.DecisionTreeClassifier"
      ]
     },
     "execution_count": 100,
     "metadata": {},
     "output_type": "execute_result"
    }
   ],
   "source": [
    "type(dt)"
   ]
  },
  {
   "cell_type": "code",
   "execution_count": 101,
   "metadata": {},
   "outputs": [],
   "source": [
    "# X is everything except starting median salary\n",
    "X = df_tree.drop('StartingMedianSalary>=50000', axis = 1)"
   ]
  },
  {
   "cell_type": "code",
   "execution_count": 102,
   "metadata": {},
   "outputs": [],
   "source": [
    "Y = df_tree['StartingMedianSalary>=50000']"
   ]
  },
  {
   "cell_type": "markdown",
   "metadata": {},
   "source": [
    "Build the tree."
   ]
  },
  {
   "cell_type": "code",
   "execution_count": 103,
   "metadata": {},
   "outputs": [
    {
     "data": {
      "text/plain": [
       "DecisionTreeClassifier(class_weight=None, criterion='gini', max_depth=2,\n",
       "                       max_features=None, max_leaf_nodes=None,\n",
       "                       min_impurity_decrease=0.0, min_impurity_split=None,\n",
       "                       min_samples_leaf=1, min_samples_split=2,\n",
       "                       min_weight_fraction_leaf=0.0, presort=False,\n",
       "                       random_state=None, splitter='best')"
      ]
     },
     "execution_count": 103,
     "metadata": {},
     "output_type": "execute_result"
    }
   ],
   "source": [
    "dt.fit(X, Y)"
   ]
  },
  {
   "cell_type": "markdown",
   "metadata": {},
   "source": [
    "Visualize the tree."
   ]
  },
  {
   "cell_type": "code",
   "execution_count": 104,
   "metadata": {},
   "outputs": [
    {
     "data": {
      "image/png": "[encoded data removed]",
      "text/plain": [
       "<IPython.core.display.Image object>"
      ]
     },
     "execution_count": 104,
     "metadata": {},
     "output_type": "execute_result"
    }
   ],
   "source": [
    "# This code will visualize a decision tree dt, trained with the attributes in X and the class labels in Y\n",
    "dt_feature_names = list(X.columns)\n",
    "dt_target_names = [str(s) for s in Y.unique()]\n",
    "tree.export_graphviz(dt, out_file='tree.dot', \n",
    "    feature_names=dt_feature_names, class_names=dt_target_names,\n",
    "    filled=True)  \n",
    "graph = pydotplus.graph_from_dot_file('tree.dot')\n",
    "Image(graph.create_png())"
   ]
  },
  {
   "cell_type": "markdown",
   "metadata": {},
   "source": [
    "Validate the finding."
   ]
  },
  {
   "cell_type": "code",
   "execution_count": 105,
   "metadata": {},
   "outputs": [
    {
     "data": {
      "text/plain": [
       "<seaborn.axisgrid.FacetGrid at 0x1a2433abe0>"
      ]
     },
     "execution_count": 105,
     "metadata": {},
     "output_type": "execute_result"
    },
    {
     "data": {
      "image/png": "[encoded data removed]",
      "text/plain": [
       "<Figure size 845x360 with 1 Axes>"
      ]
     },
     "metadata": {
      "needs_background": "light"
     },
     "output_type": "display_data"
    }
   ],
   "source": [
    "sns.catplot(x = 'School Type_Engineering', y = 'StartingMedianSalary>=50000', \\\n",
    "            hue = 'university_rank_top100', kind = 'bar', data = df_tree, aspect = 2)"
   ]
  },
  {
   "cell_type": "markdown",
   "metadata": {},
   "source": [
    "**Conclusion/Insights:** If you want to have a starting salary of at least $50,000 you should look for a school with a ranking in the top 100.  Or, if the school is not ranked in the top 100, you should go to an engineering school."
   ]
  },
  {
   "cell_type": "code",
   "execution_count": null,
   "metadata": {},
   "outputs": [],
   "source": []
  },
  {
   "cell_type": "code",
   "execution_count": null,
   "metadata": {},
   "outputs": [],
   "source": []
  }
 ],
 "metadata": {
  "kernelspec": {
   "display_name": "Python 3",
   "language": "python",
   "name": "python3"
  },
  "language_info": {
   "codemirror_mode": {
    "name": "ipython",
    "version": 3
   },
   "file_extension": ".py",
   "mimetype": "text/x-python",
   "name": "python",
   "nbconvert_exporter": "python",
   "pygments_lexer": "ipython3",
   "version": "3.7.4"
  }
 },
 "nbformat": 4,
 "nbformat_minor": 2
}
